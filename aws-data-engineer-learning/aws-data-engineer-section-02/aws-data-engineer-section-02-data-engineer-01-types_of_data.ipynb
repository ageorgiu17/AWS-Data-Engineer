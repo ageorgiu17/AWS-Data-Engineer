{
 "cells": [
  {
   "cell_type": "markdown",
   "metadata": {},
   "source": [
    "# Types of Data"
   ]
  },
  {
   "cell_type": "markdown",
   "metadata": {},
   "source": [
    "În prima secțiune o să revizuim noțiuni teoretice legate de Data Engineer. O să începem cu tipurile de date care există și cu care se interacționează cel mai mult. Există 3 tipuri de date, iar acestea sunt:\n",
    "\n",
    "1. Date structurate\n",
    "\n",
    "2. Date nestructurate\n",
    "\n",
    "3. Date semi-structurate"
   ]
  },
  {
   "cell_type": "markdown",
   "metadata": {},
   "source": [
    "## Date structurate"
   ]
  },
  {
   "cell_type": "markdown",
   "metadata": {},
   "source": [
    "Reprezintă datele care sunt structurate într-o manieră predefinită sau o schemă, date care se găsesc de cele mai multe ori în cadrul bazelor de date relaționale. Datele respective sunt organizate pe coloane, fiecare coloană având un tip de date specific care poate fi stocat în cadrul acelei coloane. Datele sunt foarte ușor de interogat, sunt organizate în rânduri și coloane și au o structură consistentă."
   ]
  },
  {
   "cell_type": "markdown",
   "metadata": {},
   "source": [
    "Ca și exemple pentru aceste tipuri de date putem să amintim tabele din baze de date relaționale, fișiere csv, spreadsheet-uri"
   ]
  },
  {
   "cell_type": "markdown",
   "metadata": {},
   "source": [
    "## Date nestrustructurate"
   ]
  },
  {
   "cell_type": "markdown",
   "metadata": {},
   "source": [
    "Acestea sunt datele care nu au o structură predefinită, trebuie să ne dăm seama ce informații conțin aceste date pentru a ști cum putem să le interogăm. Nu putem să interogăm aceste date fără a le pre-procesa și a extrage datele relevante din acestea. Pe lângă asta, trebuie să avem și o indexare pentru aceste date."
   ]
  },
  {
   "cell_type": "markdown",
   "metadata": {},
   "source": [
    "Ca și exemple, aici există o mulțime de date care sunt nestructurate, fișiere text fără un format fix, fișiere audio, fișiere video, imagini, email-uri, documente  "
   ]
  },
  {
   "cell_type": "markdown",
   "metadata": {},
   "source": [
    "## Date semi-structurate"
   ]
  },
  {
   "cell_type": "markdown",
   "metadata": {},
   "source": [
    "Undeva între datele structurate și cele nestructurate există datele semi-structurate. Acestea sunt datele care nu au o structură precum datele structurate, dar într-o oarecare măsură au o anumită structură, precum tag-uri sau ierarhii (sau altele). Acestea sunt mai flexibile decât datele structurate, dar nu atât de haotice precum cele nestructurate. Din această cateorige fac parte fișierele de tipul XML, JSON, header-urile la email-uri, fișiere de tip log, etc."
   ]
  },
  {
   "cell_type": "markdown",
   "metadata": {},
   "source": []
  }
 ],
 "metadata": {
  "language_info": {
   "name": "python"
  }
 },
 "nbformat": 4,
 "nbformat_minor": 2
}
