{
 "cells": [
  {
   "cell_type": "markdown",
   "metadata": {},
   "source": [
    "# Properties of Data"
   ]
  },
  {
   "cell_type": "markdown",
   "metadata": {},
   "source": [
    "După ce am discutat despre tipurile de date, trebuie să vedem care sunt și proprietățile acestor date. Proprietățile pe care le au datele poartă denumirea de \"3Vs\"\n",
    "\n",
    "- Volume\n",
    "\n",
    "- Velocity\n",
    "\n",
    "- Variety"
   ]
  },
  {
   "cell_type": "markdown",
   "metadata": {},
   "source": [
    "## Volume"
   ]
  },
  {
   "cell_type": "markdown",
   "metadata": {},
   "source": [
    "Reprezintă volumul de date. Cu câte date avem de a face? (cantitate), mărimea pe care o au aceste date. Aceste întrebări pot răspunde la întrebările unde și cum stocăm datele respective. Volumul de date poate să difere de la gigabytes la pentabytes, iar acest lucru aduce challange-uri în partea de stocare, procesare și analiză de date. Ca și exemplu, o platformă de social media poate să proceseze terabytes de date pe zi din post-uri, imagini, fișiere video și audio."
   ]
  },
  {
   "cell_type": "markdown",
   "metadata": {},
   "source": [
    "Atunci când avem un număr extrem de mare de date trebuie să recurgem la soluții de procesare și stocare distribuite, care pot de asemenea să ruleze în paralel (fie partea de procesare, fie partea de interogare). Aceste decizii se iau în funcție de volumul de date cu care se lucrează"
   ]
  },
  {
   "cell_type": "markdown",
   "metadata": {},
   "source": [
    "## Velocity"
   ]
  },
  {
   "cell_type": "markdown",
   "metadata": {},
   "source": [
    "Se referă la viteza cu care noi date sunt generate, colectate și procesate. În funcție de cum se primesc datele, trebuie să decidem dacă le procesăm în batch-uri sau dacă avem nevoie de un proces de streaming de date și să le procesăm în timp real. Atunci când datele au o velocitate mare, avem nevoie de o procesare în timp real a datelor"
   ]
  },
  {
   "cell_type": "markdown",
   "metadata": {},
   "source": [
    "Un exemplu aici ar putea fi o platformă de traiding, unde este nevoie de date în timp cât mai real, date cu o velocitate foarte mare deoarece dierențele de câteva zeci de secunde poate face o diferență mare."
   ]
  },
  {
   "cell_type": "markdown",
   "metadata": {},
   "source": [
    "## Variety"
   ]
  },
  {
   "cell_type": "markdown",
   "metadata": {},
   "source": [
    "Se referă la varietatea datelor, la tipul de date cu care se lucrează. Sunt date structurate, semi-structurate sau nestructurate? Din ce surse provin datele respective? "
   ]
  },
  {
   "cell_type": "markdown",
   "metadata": {},
   "source": [
    "De exemplu, un sistem de sănătate poate să colecteze date din registrele medicale electronice, din dispozitivele de sănătate (device-uri), din feedback de la pacienți. Cum anume conectăm toate aceste date împreună? Aceasta este o întrebare la care un Data Engineer trebuie să vină cu soluții."
   ]
  },
  {
   "cell_type": "markdown",
   "metadata": {},
   "source": [
    "Există posibilitatea și să se păstreze aceste date în structuri separate, dar poate la un moment dat trebuie găsită o modalitate prin care să se interogheze toate aceste date în același timp (folosind un singur query)"
   ]
  },
  {
   "cell_type": "markdown",
   "metadata": {},
   "source": [
    "Aceste proprietăți ale datelor duc la folosirea diferitelor servicii sau metode, fie de pre-procesare, de stocare sau de transimitere a datelor."
   ]
  },
  {
   "cell_type": "markdown",
   "metadata": {},
   "source": []
  }
 ],
 "metadata": {
  "language_info": {
   "name": "python"
  }
 },
 "nbformat": 4,
 "nbformat_minor": 2
}
