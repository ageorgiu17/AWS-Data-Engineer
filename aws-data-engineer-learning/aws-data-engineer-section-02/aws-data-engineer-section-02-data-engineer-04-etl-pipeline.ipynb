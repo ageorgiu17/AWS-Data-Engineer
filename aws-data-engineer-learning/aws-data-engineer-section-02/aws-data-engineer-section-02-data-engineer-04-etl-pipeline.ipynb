{
 "cells": [
  {
   "cell_type": "markdown",
   "metadata": {},
   "source": [
    "# ETL Pipelines"
   ]
  },
  {
   "cell_type": "markdown",
   "metadata": {},
   "source": [
    "Am auzit despre conceptul de ETL și ELT. În acestă lecție o să avem o scurtp descriere a acestui tip de Pipeline."
   ]
  },
  {
   "cell_type": "markdown",
   "metadata": {},
   "source": [
    "ETL reprezintă un proces prin care se mută date (și se transformă) dintr-o sursă într-un Data Wearhouse."
   ]
  },
  {
   "cell_type": "markdown",
   "metadata": {},
   "source": [
    "## Extract"
   ]
  },
  {
   "cell_type": "markdown",
   "metadata": {},
   "source": [
    "Presupune partea de extragere, de achiziție de date. Acestea date pot să provină din API-uri, din baze de date, din CRM (customer relationship management). De asemenea, în acest pas trebuie să ne asigurăm  și de faptul că nu se corup datele într-un anumit fel ca datele să fie integre atunci când sunt extrase. Această parte de extragere poate să fie realizată fie în batch-uri, fie în timp real."
   ]
  },
  {
   "cell_type": "markdown",
   "metadata": {},
   "source": [
    "## Transform"
   ]
  },
  {
   "cell_type": "markdown",
   "metadata": {},
   "source": [
    "Aici se convertesc datele native extase într-un format potrivit pentru Data Wearhouse-ul pe care îl folosim. Această parte de transformare poate înseamna mai multe lucrui:\n",
    "\n",
    "- curățare de date (elimiarea de duplicate, fixare de erori)\n",
    "\n",
    "- adăugare de date, completare de date unde sunt date lipsă, completare cu date din alte surse\n",
    "\n",
    "- formatare de date (tipul de date stocat), string formatting\n",
    "\n",
    "- agregări și computații de valori\n",
    "\n",
    "- encodare și decodare de date\n",
    "\n",
    "- curățarea valorilor lipsă"
   ]
  },
  {
   "cell_type": "markdown",
   "metadata": {},
   "source": [
    "## Load"
   ]
  },
  {
   "cell_type": "markdown",
   "metadata": {},
   "source": [
    "Reprezintă partea în care ne stocăm datele transformate în Data Wearhouse. Poate fi realizată fie în batch-uri sau utilizând parte de streaming de date. Precum în partea de Extract, trebuie să ne asigurăm și aici că datele își păstrează integritatea în acest proces"
   ]
  },
  {
   "cell_type": "markdown",
   "metadata": {},
   "source": [
    "Toate aceste procese trebuie manageriate. Există o mulțime de servicii și de programe prin care se poate realiza acest lucru. Dintre acestea putem aminti AWS Glue, Event Bridge, Airflow, Amazon AWS for Airflow, Lambda sau multe altele."
   ]
  },
  {
   "cell_type": "markdown",
   "metadata": {},
   "source": []
  }
 ],
 "metadata": {
  "language_info": {
   "name": "python"
  }
 },
 "nbformat": 4,
 "nbformat_minor": 2
}
