{
 "cells": [
  {
   "cell_type": "markdown",
   "metadata": {},
   "source": [
    "# Data Wearhouse & Data Lake"
   ]
  },
  {
   "cell_type": "markdown",
   "metadata": {},
   "source": [
    "O să vedem acuma ce este un Data Wearhouse și un Data Lake și care este diferența dintre ele."
   ]
  },
  {
   "cell_type": "markdown",
   "metadata": {},
   "source": [
    "## Data Wearhouse"
   ]
  },
  {
   "cell_type": "markdown",
   "metadata": {},
   "source": [
    "Un Data Wearhouse este o locație centralizată optilizată pentru analiză de date, date care provin din surse diferite, iar acestea sunt stocate într-un format structurat. Acestea sunt create pentru query-uri complexe de analiză, iar datele dintr-un date wearhouse sunt date curățate, transformate și adăugate în acest date wearhouse (ETL - extract, transform and load). Acest wearhouse este optimizat pentru operații mari de tipul read dintr-o bază de date."
   ]
  },
  {
   "cell_type": "markdown",
   "metadata": {},
   "source": [
    "Exemple de Data Wearhouse:\n",
    "\n",
    "- Amazon Redshift\n",
    "\n",
    "- Google BigQuery\n",
    "\n",
    "- Microsoft Azure SQL Data Wearhouse"
   ]
  },
  {
   "cell_type": "markdown",
   "metadata": {},
   "source": [
    "<img src=\"../ss/aws-data-engineer-section-02/section-02-ss-01.png\">"
   ]
  },
  {
   "cell_type": "markdown",
   "metadata": {},
   "source": [
    "Exemplul de mai sus este un exemplu de Data Wearhouse. O să ne imaginăm că avem un site online cu vânzări de produse. Din acest site putem să extragem mai multe informații, precum date provenite din acțiuni de click, datele din vânzări, sau datele despre produse. "
   ]
  },
  {
   "cell_type": "markdown",
   "metadata": {},
   "source": [
    "Toate aceste date sunt extrase, transformate și încărcate într-un Data Wearhouse sub formă de date structurate. În cadrul acestui Data Wearhouse putem să avem mai multe Views, fiecare având informații diferite. Într-un view putem să avem informații pentru partea de accounting care să conțină informații relevante doar pentru echipa de accounting, și tot așa, putând exista mai multe view-uri în cadrul unui Data Wearhouse, fiecare având informații relevante doar pentru un anumit scop"
   ]
  },
  {
   "cell_type": "markdown",
   "metadata": {},
   "source": [
    "## Data Lake"
   ]
  },
  {
   "cell_type": "markdown",
   "metadata": {},
   "source": [
    "Un Data Lake reprezintă o locație unde se stochează cantități uriașe de date nemodificate, în forma lor nativă, incluzând toate tipurile de date (structurate, semi-structurate și nestructurate)."
   ]
  },
  {
   "cell_type": "markdown",
   "metadata": {},
   "source": [
    "Datele sunt stocate așa cum sunt primite, nu sunt preprocesate sau curățate. Pentru partea de ingestie de date în cadrul unui Data lake se poate folosi btach, real-time sau folosind o platformă de streaming de date."
   ]
  },
  {
   "cell_type": "markdown",
   "metadata": {},
   "source": [
    "Ca și exemple, aici putem aminti:\n",
    "\n",
    "- Amazon S3\n",
    "\n",
    "- Azure Data Lake\n",
    "\n",
    "- Hadoop Distributed File System (HDFS)"
   ]
  },
  {
   "cell_type": "markdown",
   "metadata": {},
   "source": [
    "Într-un Data Lake doar stocăm datele așa cum le primim, de partea de procesare, structurare și interogare de date o să ne ocupăm mai încolo."
   ]
  },
  {
   "cell_type": "markdown",
   "metadata": {},
   "source": [
    "## Differences"
   ]
  },
  {
   "cell_type": "code",
   "execution_count": null,
   "metadata": {
    "vscode": {
     "languageId": "plaintext"
    }
   },
   "outputs": [],
   "source": []
  },
  {
   "cell_type": "markdown",
   "metadata": {},
   "source": [
    "Acum că am văzut ce este un Data Wearhouse și un Data Lake o să punem în evidență diferențele dintre acestea."
   ]
  },
  {
   "cell_type": "markdown",
   "metadata": {},
   "source": [
    "#### Schema"
   ]
  },
  {
   "cell_type": "markdown",
   "metadata": {},
   "source": [
    "În ceea ce privește schema pentru datele repsective, atunci când lucrăm cu un Data Wearhouse avem un schema de tipul schema-on-write prin care trebuie să definim dinainte schema la datele care o să fie stocate în acel wearhouse. Trebuie să stabilim ce informații din date stocăm și sub ce tip de date le stocăm. În cadrul unui Data Wearhouse există un proces de ETL, unde se extrag datele, se transformă (pentru a se potrivi cu schema respectivă) și după se introduc în acest Data Wearhouse"
   ]
  },
  {
   "cell_type": "markdown",
   "metadata": {},
   "source": [
    "Pentru partea de  Data Lake, aici există schema-on-read. Datele sunt introduse în Data Lake așa cum sunt (fără a avea o schemă definită, sau fără a ști schema pe care o au datele care se introduc), iar pentru a afla schema pe care o au aceste date trebuie să citim datele respective. Procesul care este executat într-un Data Lake este de tipul ELT, unde se extrag datele, se introduc (load) în acest Data Lake, iar abia după se face procesarea (transform) la date."
   ]
  },
  {
   "cell_type": "markdown",
   "metadata": {},
   "source": [
    "#### Data Types"
   ]
  },
  {
   "cell_type": "markdown",
   "metadata": {},
   "source": [
    "În ceea ce privește tipul de date care este stocat, pentru un Data Wearhouse de cele mai multe ori o să fie date structurate, iar pentru un Data Lake sunt atât date structurate, cât și nestructurate."
   ]
  },
  {
   "cell_type": "markdown",
   "metadata": {},
   "source": [
    "#### Cost"
   ]
  },
  {
   "cell_type": "markdown",
   "metadata": {},
   "source": [
    "În ceea ce privește partea de costuri, un Data Wearhouse este mai costisitor deoarece este optimizată pentru a rula query-uri complexe și are nevoie de resursele respective pentru a putea rula aceste query-uri într-un timp rezonabil. În ceea ce privește un Data Lake, costurile sunt mai reduse pentru partea de stocare, dar acestea pot crește considerabil atunci când dorim să procesăm cantități mari de date"
   ]
  },
  {
   "cell_type": "markdown",
   "metadata": {},
   "source": [
    "Ar trebui să folosim un Data Wearhouse atunci când:\n",
    "\n",
    "- Avem date structurate care necesită timpi rapizi de interogare\n",
    "\n",
    "- Există integrări ale datelor din surse diferite\n",
    "\n",
    "- Principal folos al datelor este partea de analiză de date și Business intelligence"
   ]
  },
  {
   "cell_type": "markdown",
   "metadata": {},
   "source": [
    "Un Data Lake trebuie folosit în mare parte atunci când:\n",
    "\n",
    "- Avem un mix de date structurate, semi-stricturate și nestructurate\n",
    "\n",
    "- Avem nevoie de o posibilitate de a stoca cantități mari de date la un preț convenabil\n",
    "\n",
    "- Nu știm exact la ce o să folosim aceste date, dar trebuie păstrate\n",
    "\n",
    "- Scopul acestor date este partea de Machine Learning sau Data discovery"
   ]
  },
  {
   "cell_type": "markdown",
   "metadata": {},
   "source": [
    "De foarte multe aceste două concepte și servicii se folosesc concomitent. Păstrăm datele native într-un Data Lake, după care se realizează partea de transformare și load într-un Data Wearhouse."
   ]
  },
  {
   "cell_type": "markdown",
   "metadata": {},
   "source": []
  }
 ],
 "metadata": {
  "language_info": {
   "name": "python"
  }
 },
 "nbformat": 4,
 "nbformat_minor": 2
}
