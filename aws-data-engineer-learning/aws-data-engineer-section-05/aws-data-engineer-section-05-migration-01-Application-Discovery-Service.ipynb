{
 "cells": [
  {
   "cell_type": "markdown",
   "metadata": {},
   "source": [
    "# AWS Application Discovery Service"
   ]
  },
  {
   "cell_type": "markdown",
   "metadata": {},
   "source": [
    "Există două situații atunci când începem să utilizăm un cloud provider.\n",
    "\n",
    "- Începem cu totul de la 0 (nu trebuie migrare)\n",
    "\n",
    "- Facem o migrare de date (fie din on-premise, fie din alt cloud provider)"
   ]
  },
  {
   "cell_type": "markdown",
   "metadata": {},
   "source": [
    "O modalitate de a planifica această migrare este de a folosi serviciul de AWS Application Discovery Service. Acest service ne scanează serverele on-premise și colectează informații despre utilizarea serverului. Avem la dispoziție două tipuri de migrări."
   ]
  },
  {
   "cell_type": "markdown",
   "metadata": {},
   "source": [
    "- Agentless Discovery Manager (AWS Angetless Discovery Connector)\n",
    "\n",
    "Acest service ne oferă informații despre mașinile virtuale, CPU, memorie de disk\n",
    "\n",
    "- Agent-based Discovery Manager (AWS Application Discovery Agent)\n",
    "\n",
    "Acesta ne oferă mai multe informații despre mașinile virtuale, precum configurări de sistem, procesele care rulează și conexiunile la rețeaua de network"
   ]
  },
  {
   "cell_type": "markdown",
   "metadata": {},
   "source": [
    "Acest informații pot fi vizualiate în alt service din Amazon, AWS Migration Hub. Aceste servicii ne ajută să vedem cum anume putem mapa ceea ce avem on-premise și ceea ce este disponibil în AWS. Ca să facem acest lucru însă, să mutăm datele din on-premise pe cloud trebuie să ne folosim de alt serviciu din AWS. (AWS Application Migration Service - MGN)"
   ]
  },
  {
   "cell_type": "markdown",
   "metadata": {},
   "source": [
    "Folosind acest serviciu putem să ne convertim serverele on-premise sau cele pe alt cloud provider să ruleze pe AWS"
   ]
  },
  {
   "cell_type": "markdown",
   "metadata": {},
   "source": [
    "<img src='../ss/aws-data-engineer-section-05/section-05-ss-01.png'>"
   ]
  },
  {
   "cell_type": "markdown",
   "metadata": {},
   "source": [
    "Cum anume funcționează acest serviciu. Dacă avem un data center on-premise sau local, pe acest data center o să instalăm un AWS Replication Agent. Acest agent de replicare o să ne reproducă toate datele în AWS folosind servicii de low cost (EC2, volume EBS). Atunci când dorim să trecem definit pe AWS realizăm un cut-over prin care se mută toate acțiunea direct pe AWS. Acest cut-over o să treacă de la instanțe mai mici care costă mai puțin, la instanțe mai mari de EC2 sau volume de EBS."
   ]
  },
  {
   "cell_type": "markdown",
   "metadata": {},
   "source": []
  }
 ],
 "metadata": {
  "language_info": {
   "name": "python"
  }
 },
 "nbformat": 4,
 "nbformat_minor": 2
}
