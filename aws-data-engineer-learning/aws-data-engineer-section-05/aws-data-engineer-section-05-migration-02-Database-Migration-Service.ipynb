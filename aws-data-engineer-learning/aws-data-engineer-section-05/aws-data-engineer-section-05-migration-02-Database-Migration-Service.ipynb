{
 "cells": [
  {
   "cell_type": "markdown",
   "metadata": {},
   "source": [
    "# Amazon Database Migration Service"
   ]
  },
  {
   "cell_type": "markdown",
   "metadata": {},
   "source": [
    "Acest serviciu din AWS se folosește atunci când dorim să migrăm o bază de date on-premise în AWS. Acest serviciu are următoarele avantaje:\n",
    "\n",
    "- sursa de baze de date rămâne disponibilă în timpul migrării\n",
    "\n",
    "- suportă migrare homogenă (din PostgreSQL în PostgreSQL)\n",
    "\n",
    "- suportă migrare heterogenă (din MySQL în Amazon Aurora)\n",
    "\n",
    "Pentru a utiliza acest tip de migrare o să ne creem o instanță de EC2 pe care să rulăm acest serviciu de DMS (Database Migration Service), iar această instanță de EC2 o să ne migreze toate datele din baza de date on-premise în baza de date target."
   ]
  },
  {
   "cell_type": "markdown",
   "metadata": {},
   "source": [
    "Ca și parte de surse de baze de date din care să facem această migrare sunt următoarele:\n",
    "\n",
    "- baze de date on-premis și instanțe de EC2 (Oracle, MySQL, MariaDB, PostgreSQL, MongoDB)\n",
    "\n",
    "- Azure cloud: Azure SQL Database\n",
    "\n",
    "- Amazon cloud: Amazon RDS, Amazon Aurora, Amazon S3, DocumentDB\n"
   ]
  },
  {
   "cell_type": "markdown",
   "metadata": {},
   "source": [
    "Pentru partea de target la baze de date se enumeră:\n",
    "\n",
    "- baze de date on-premise și instanțe EC2 (Oracle, MySQL, MariaDB, PostgreSQL, MongoDB)\n",
    "\n",
    "- Amazon Cloud: Amazon RDS, Amazon Redshift, Amazon DynamoDB, Amazon S3, Amazon Kinesis Data Stream, Amazon DocumentDB, Amazon Neptune\n",
    "\n",
    "- Apache Kafka\n",
    "\n",
    "- Redis și Babelfish\n",
    "\n",
    "- OpenSearch Service"
   ]
  },
  {
   "cell_type": "markdown",
   "metadata": {},
   "source": [
    "Atunci când facem o migrare dintr-o bază de date în alt tip de baze de date (de exemplu, din Oracle facem o migrare în PostgreSQL), atunci trebuie să utilizăm și feature-ul de AWS Schema Conversion Tool (SCT) prin care să transformpm schema din baza de date Oracle în schema potrivită pentru baza de date din PostgreSQL."
   ]
  },
  {
   "cell_type": "markdown",
   "metadata": {},
   "source": [
    "<img src=\"../ss/aws-data-engineer-section-05/section-05-ss-02.png\">"
   ]
  },
  {
   "cell_type": "markdown",
   "metadata": {},
   "source": [
    "În exemplul de mai sus avem un caz în care mutăm o bază de date on-premise de tip Oracle într-o baă de date Amazon RDS for MySQL DB. În data center-ul on-premise este recomandat să instalăm acel serviciu de AWS SCT prin care să convertim schema din Oracle pentru schema din MySQL. După ce am utilizat acest serviciu, putem să creem o instanță de EC2 în care să rulăm acel AWS DMS și să replice datele din Oracle DB (on-premise) în Amazon RDS for MySQL DB."
   ]
  },
  {
   "cell_type": "markdown",
   "metadata": {},
   "source": []
  }
 ],
 "metadata": {
  "language_info": {
   "name": "python"
  }
 },
 "nbformat": 4,
 "nbformat_minor": 2
}
