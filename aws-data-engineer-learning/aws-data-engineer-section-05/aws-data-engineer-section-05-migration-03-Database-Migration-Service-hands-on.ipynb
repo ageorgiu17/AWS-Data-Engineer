{
 "cells": [
  {
   "cell_type": "markdown",
   "metadata": {},
   "source": [
    "# Amazon Database Migration Service - Hands On"
   ]
  },
  {
   "cell_type": "markdown",
   "metadata": {},
   "source": [
    "O să vedem în acest tutorial cum putem să ne folosim și să utilizăm acest service din AWS pentru a crea o insatnță de replică (Replication Instance)."
   ]
  },
  {
   "cell_type": "markdown",
   "metadata": {},
   "source": [
    "În consola de AWS navigăm la secțiunea de DMS (AWS Database Migration Service), iar de acolo din secțiunea de Replication Instances o să ne creem o nouă replică (Create replication Instances). Aceast serviciu nu putem să îl utilizăm  deoarece nu o să avem de migrat astfel de baze de date, ci doar ne uităm peste acest serviciu ca să vedem cum anume funcționează și practic"
   ]
  },
  {
   "cell_type": "markdown",
   "metadata": {},
   "source": [
    "<img src=\"../ss/aws-data-engineer-section-05/section-05-ss-03.png\">"
   ]
  },
  {
   "cell_type": "markdown",
   "metadata": {},
   "source": [
    "Pentru acest serviciu trebuie să oferim informații pentru:\n",
    "\n",
    "- Name = numele pe care să îl aibă această instanță de replicare (DemoDMSReplication)\n",
    "\n",
    "- Descriptive Amazon Resource Name (ARN) Opțional = o descriere pentru ARN-ul serviciului. Această descriere este opțională\n",
    "\n",
    "- Description Opțional = descriere pentru serviciul pe care o să îl creem\n",
    "\n",
    "- Instance class = tipul de insatnșă de EC2 care să ruleze această replicare. O să se ocupe de partea de a extrage datele din baza de date sursă și de a le copia în baza de date destinație (dms.t3.micro)\n",
    "\n",
    "- Engine Version = versiunea de DMS (3.5.2)\n",
    "\n",
    "- High Availability = folosit pentru partea de replicare. Se poate alege o variantă de dev/test sau prod (Dev or test workload(Single-AZ))\n",
    "\n",
    "- Allocate Storage = câți GB o să fie pe instanța de EC2 (10GB)\n",
    "\n",
    "- Connectivity and Security = partea de networking în care ne alegem VPC-ul, subnet-ul și dacă acest DMS să fie public sau nu \n",
    "\n",
    "- Optțiuni avansate pentru partea de Networking și cea de Mentenanță"
   ]
  },
  {
   "cell_type": "markdown",
   "metadata": {},
   "source": [
    "<img src=\"../ss/aws-data-engineer-section-05/section-05-ss-04.png\">"
   ]
  },
  {
   "cell_type": "markdown",
   "metadata": {},
   "source": [
    "După ce creem acest Replication Instance (nu o să îl creem pentru că acesta costă bani), următorul pas este să ne creem un task de migrare (Database Migration Task). Pentru acest task trebuie să oferim:\n",
    "\n",
    "- Task Identifier\n",
    "\n",
    "- Descriptive Amazon Resource Name (ARN) - Optional\n",
    "\n",
    "- Replication Instance = selectăm acel replication instance pe care l-am creat anterior\n",
    "\n",
    "- Source database endpoint = trebuie să creem un endpoint (tot din secțiunea de DMS) pentru baza de date sursă\n",
    " \n",
    "- Target database endpoint = trebuie să creem un endpoint pentru baza de date de destinație\n",
    "\n",
    "- Migration type"
   ]
  },
  {
   "cell_type": "markdown",
   "metadata": {},
   "source": [
    "<img src=\"../ss/aws-data-engineer-section-05/section-05-ss-05.png\">"
   ]
  },
  {
   "cell_type": "markdown",
   "metadata": {},
   "source": [
    "<img src=\"../ss/aws-data-engineer-section-05/section-05-ss-06.png\">"
   ]
  },
  {
   "cell_type": "markdown",
   "metadata": {},
   "source": [
    "Pentru partea de Endpoint, în imaginea de mai sus se poate observa cum arată interfața prin care putem să creem un astfel de Endpoint. Pentru acesta trebuie specificat numele pentru acest endpoint, tipul de baze de date sursă (aici în drop down avem mai multe opțiuni din care să alegem). Pentru conexiune putem să oferim manual datele de conectare (ip, port, user, password, database name) sau putem să ne folosim de serviciul de AWS Secret Manager unde să stocăm aceste informații de conectare."
   ]
  },
  {
   "cell_type": "markdown",
   "metadata": {},
   "source": []
  }
 ],
 "metadata": {
  "language_info": {
   "name": "python"
  }
 },
 "nbformat": 4,
 "nbformat_minor": 2
}
