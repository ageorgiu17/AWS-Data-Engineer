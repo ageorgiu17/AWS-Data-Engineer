{
 "cells": [
  {
   "cell_type": "markdown",
   "metadata": {},
   "source": [
    "# AWS Data Sync"
   ]
  },
  {
   "cell_type": "markdown",
   "metadata": {},
   "source": [
    "Acesta este un serviciu destul de simple (în legătură cu ceea ce execută), dar apare destul de mult în cadrul examenului. Scopul acestui serviciu este să facă sincronizare de date, să mute datele dintr-o sursă în alta. Această sincronuzare de data se poate face fie din data center on-premise sau alți provideri de cloud către AWS. Există posibilitatea să se facă acestă sincronizare și din AWS tot în AWS"
   ]
  },
  {
   "cell_type": "markdown",
   "metadata": {},
   "source": [
    "Atunci când se realizează acest proces de sincronizare putem să mutăm datele în Amazon S3 (inclisiv orice nivel de Glacier), în Amazon EFS sau în Amazon FSx (Windows, Lustre, NetApp..). Replicarea se va face printr-un workflow are trebuie stabilit la ce interval de timp să ruleze (la interval de ore, zile sau săptămâni)"
   ]
  },
  {
   "cell_type": "markdown",
   "metadata": {},
   "source": [
    " <img src=\"../ss/aws-data-engineer-section-05/section-05-ss-07.png\">"
   ]
  },
  {
   "cell_type": "markdown",
   "metadata": {},
   "source": [
    "Imaginea de mai sus reprezintă modul prin care putem sincroniza dintr-un data center on-premise datele în Amazon (S3, EFS sau FSx). Pe serverul on-premise trebuie să instalăm un agent de DataSync, iar acest agent o să îl conectăm cu regiunea în care dorim să copiem datele respective. Prin acest agent putem să sincronizăm datele din on-premise în AWS, sau din AWS într-un server on-premise. În situația în care nu avem un network stabil prin care putem să facem copierea de date, putem să ne folosim de \"AWS Snowcone\", un disk fizic care are agentul de AWS DataSync preinstalat în cadrul acelui disk. După ce facem copierea de date pe acest disk, trebie trimis către Amazon care o să ne copieze datele unde dorim (S3, EFS, ..)"
   ]
  },
  {
   "cell_type": "markdown",
   "metadata": {},
   "source": [
    " "
   ]
  }
 ],
 "metadata": {
  "language_info": {
   "name": "python"
  }
 },
 "nbformat": 4,
 "nbformat_minor": 2
}
