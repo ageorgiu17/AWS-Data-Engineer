{
 "cells": [
  {
   "cell_type": "markdown",
   "metadata": {},
   "source": [
    "# Amazon Snow Family"
   ]
  },
  {
   "cell_type": "markdown",
   "metadata": {},
   "source": [
    "Acest \"Snow Family\" din AWS reprezintă un set de discuri fizice extrem de secure care au una dintre următoarele două roluri:\n",
    "\n",
    "- să colecteze și să proceseze date \"at the edge\"\n",
    "\n",
    "- să migreze date din sau în AWS"
   ]
  },
  {
   "cell_type": "markdown",
   "metadata": {},
   "source": [
    "Pentru migrarea de date, există trei tipuri de disks:\n",
    "\n",
    "- Snowcone\n",
    "\n",
    "- Snowball Edge\n",
    "\n",
    "- Snowmobile"
   ]
  },
  {
   "cell_type": "markdown",
   "metadata": {},
   "source": [
    "De ce am utiliza partea de Data Migration utilizând AWS Snow Family?"
   ]
  },
  {
   "cell_type": "markdown",
   "metadata": {},
   "source": [
    "<img src=\"../ss/aws-data-engineer-section-05/section-05-ss-08.png\">"
   ]
  },
  {
   "cell_type": "markdown",
   "metadata": {},
   "source": [
    "În tabelul de mai sus avem informații cu privire la timpul necesar ca să mutăm o anumită cantitate de date folosind o anumită viteză de rețea. Pe lângă aceste informații, atunci când facem acestă mutare de date prin rețea pot să apară și anumite complicații precum o conectivitate limitată sau mai slabă, preț ridicat pentru anumite servicii de networking, un bandwith care este împărțit și nu se folosește toată performanța pe care o are acel network. "
   ]
  },
  {
   "cell_type": "markdown",
   "metadata": {},
   "source": [
    "Cum intervine AWS pentru a rezolva aceste probleme? AWS ne oferă 3 tipuri de disk-uri pe care le putem accesa. Aceste disk-uri o să fie trimise la noi acasă (prin poștă, curierat), copiem datele pe disk-urile respective, trimitem înapoi acele disk-uri către AWS iar ei o să se ocupe de partea de copiere de date în Amazon (unde specificăm noi să fie copiate datele respective)"
   ]
  },
  {
   "cell_type": "markdown",
   "metadata": {},
   "source": [
    " <img src=\"../ss/aws-data-engineer-section-05/section-05-ss-09.png\">"
   ]
  },
  {
   "cell_type": "markdown",
   "metadata": {},
   "source": [
    "Mai sus avem cele trei tipuri de disks pe care le oferă cei de la Amazon pentru a putea realiza această migrare de date. În acest tabel se poate observa pentru ce este recomandat fiecare dintre aceste disk-uri (în funcție de cantitatea de date pe care dorim să o migrăm)."
   ]
  },
  {
   "cell_type": "markdown",
   "metadata": {},
   "source": [
    "Pentru secțiunea de \"Edge computing\", reprezintă procesarea sau colectarea de date din zone așa denumite \"edge\". Aceste zone reprezintă zone care nu au access la o rețea de internet, sau care au un acces mai limitat (zone rulare retrase, zone din aer (colectarea de date dintr-un avion), sau zone maritime (colectarea și procesare de date dintr-o navă maritimă))"
   ]
  },
  {
   "cell_type": "markdown",
   "metadata": {},
   "source": [
    "Locațiile respective pot să aibă acces limitat sau chiar deloc la o rețea de internet, dar cu toate acestea dorim să procesăm anumite informații în locațiile respective. Pentru asta putem cere un \"Snowball Edge/ Snowcone\" de la Amazon, să îl setăm în zonele respective și astfel avem și putere de procesare și capacitate de stocare de informații. Cu acestea putem să preprocesăm date, să realizăm modele și predicții de Machine Learning în aceste zone și la final putem să trimitem înapoi aceste disk-uri către Amazon pentru a transfera datele în AWS. Aceste disk-uri pot rula instanțe de EC2 și funcții Lambda din AWS."
   ]
  },
  {
   "cell_type": "markdown",
   "metadata": {},
   "source": [
    " Pentru a putea interacționa cu aceste device-uri de la Amazon, aceștia au creat o interfață grafică denumită AWS OpsHub pentru a nu fi nevoiți să interacționăm cu acestea doar utilizând linia de comandă, iar prin intermediul acestei interfețe grafice, interacțiunea este mult mai simplă mai ușoară."
   ]
  },
  {
   "cell_type": "markdown",
   "metadata": {},
   "source": [
    " "
   ]
  }
 ],
 "metadata": {
  "language_info": {
   "name": "python"
  }
 },
 "nbformat": 4,
 "nbformat_minor": 2
}
