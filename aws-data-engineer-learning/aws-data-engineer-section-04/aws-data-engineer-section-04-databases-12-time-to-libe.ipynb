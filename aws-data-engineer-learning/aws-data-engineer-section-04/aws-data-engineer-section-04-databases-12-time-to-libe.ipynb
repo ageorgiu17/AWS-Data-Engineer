{
 "cells": [
  {
   "cell_type": "markdown",
   "metadata": {},
   "source": [
    "# Amazon DynamoDB Time To Live (TTL)"
   ]
  },
  {
   "cell_type": "markdown",
   "metadata": {},
   "source": [
    "Conceptul de Time to live ne permite să ștergem automat anumite date din cadrul unui tabel după o anumită perioadă de timp. Avantajul în a utiliza acest concept este faptul că nu o să se consume din WCU atunci când se realizează acestă operațiune. Acest Time to live trebuie să fie un număr care să reprezinte timestamp-ul de Unix Epoch (aceasta este o coloană în cadrul tabelului).\n",
    "\n",
    "Datele care sunt șterse folosind acest concept, nu sunt șterse automat, acestea o să mai fie păstrate pentru un timp de 48 de ore. Un alt avantaj pentru acest concept este faptul că de fiecare dată când se șterge un item folosind acest TTL, această operațiune este logată în stream-ul de DynamoDB. Cu datele din aceste log-uri, dacă dorim se poate face raecovery la item-ul care a fost șters."
   ]
  },
  {
   "cell_type": "markdown",
   "metadata": {},
   "source": [
    "O să ne facem enable la acestă opțiune în cadrul unui tabel existent. În tabelul de \"Users\" o să ne adăugăm un nou atribuit denumit \"expire_on\". Acestui atribut trebuie să îi oferim o valoare, valoare în format numeric care reprezintă epcoh time. Ca să transformăm un current time în acest epoch, putem să căutăm online o opțiune care face această conversie."
   ]
  },
  {
   "cell_type": "markdown",
   "metadata": {},
   "source": [
    "<img src=\"../ss/aws-data-engineer-section-04/section-04-ss-30.png\">"
   ]
  },
  {
   "cell_type": "markdown",
   "metadata": {},
   "source": [
    "Dacă apăsăm pe butonul de \"Human date to Timestamp\" o să transforme acest date în formatul numeric de care avem nevoie. O să setăm să expire acest item pentru 1 oră (setăm ora de la 6 la 7). După ce apăsăm pe acel buton, o să ne afișeze valoare de care avem nevoie. Cu valoarea respectivă o să o adăugăm într-un nou atribut în tabelul de \"Users\", atribut pe care o să îl denumim \"expire_on\""
   ]
  },
  {
   "cell_type": "markdown",
   "metadata": {},
   "source": [
    "<img src=\"../ss/aws-data-engineer-section-04/section-04-ss-31.png\">"
   ]
  },
  {
   "cell_type": "markdown",
   "metadata": {},
   "source": [
    "După ce am setat această valoare pentru item-urile din tabel, putem să trecem la partea în care facem enable la acest feature. Ca să facem asta, din meniul tabelului, avem secțiunea de \"Additional Settings\" și feature-ul \"Time to live\". Momentan acest feature este oprit, dar de aici putem să îl pornim (\"Turn On\")"
   ]
  },
  {
   "cell_type": "markdown",
   "metadata": {},
   "source": [
    "<img src=\"../ss/aws-data-engineer-section-04/section-04-ss-32.png\">"
   ]
  },
  {
   "cell_type": "markdown",
   "metadata": {},
   "source": [
    "Când facem enable la acest feature, trebuie să specificăm atributul unde se găsește informația de epoch, atunci când să se șteargă acest item. Mai multe decât atâta, putem să facem un preview. La valoarea de \"Epoch time value\" dacă modificăm acea valoare putem să vedem ce item-uri o să fie șterge până ce se ajunge la acel timestamp."
   ]
  },
  {
   "cell_type": "markdown",
   "metadata": {},
   "source": [
    "În secțiunea de Time to live, de unde l-am activat, după această activare o să ne apară un grap în care o să apară toate item-urile care au fost șterse până în momentul de față folosind acest feature de Time to live"
   ]
  },
  {
   "cell_type": "markdown",
   "metadata": {},
   "source": []
  }
 ],
 "metadata": {
  "language_info": {
   "name": "python"
  }
 },
 "nbformat": 4,
 "nbformat_minor": 2
}
