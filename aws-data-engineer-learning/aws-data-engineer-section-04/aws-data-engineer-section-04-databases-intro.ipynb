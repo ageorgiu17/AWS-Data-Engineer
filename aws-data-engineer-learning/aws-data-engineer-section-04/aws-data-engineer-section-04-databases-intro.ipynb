{
 "cells": [
  {
   "cell_type": "markdown",
   "metadata": {},
   "source": [
    "# Amazon Databases"
   ]
  },
  {
   "cell_type": "markdown",
   "metadata": {},
   "source": [
    "În această secțiune o să aruncăm o privire peste tehnologiile de baze de date care sunt oferite de către Amazon. Amazon propune soluții de baze de date atât pentru a stoca date structurate, cât și pentru date semi-structurate. În cadrul acestei secțiuni o să ne uităm peste servicii precum:\n",
    "\n",
    "- Amazon DynamoDB\n",
    "\n",
    "- Amazon RDS\n",
    "\n",
    "- Amazon DocumentDB\n",
    "\n",
    "- Amazon MemoryDB for Redis\n",
    "\n",
    "- Amazon Keyspaces\n",
    "\n",
    "- Amazon Neptune\n",
    "\n",
    "- Amazon Timestream\n",
    "\n",
    "- Amazon Redshift\n"
   ]
  },
  {
   "cell_type": "markdown",
   "metadata": {},
   "source": [
    "Există un număr mare de servicii disponibile pentru baze de date în Amazon. Multe dintre ele se aseamnănă, din acest motiv o să stăm o perioadă de timp mai mare doar pentru unele dintre ele."
   ]
  },
  {
   "cell_type": "markdown",
   "metadata": {},
   "source": []
  }
 ],
 "metadata": {
  "language_info": {
   "name": "python"
  }
 },
 "nbformat": 4,
 "nbformat_minor": 2
}
