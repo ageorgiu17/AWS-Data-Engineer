{
 "cells": [
  {
   "cell_type": "markdown",
   "metadata": {},
   "source": [
    "# DynamoDB Streams - Hands-on"
   ]
  },
  {
   "cell_type": "markdown",
   "metadata": {},
   "source": [
    "O să ne facem enable la această funcționalitate de Stream pentru un tabel ce îl avem creat în DynamoDB. "
   ]
  },
  {
   "cell_type": "markdown",
   "metadata": {},
   "source": [
    "<img src=\"../ss/aws-data-engineer-section-04/section-04-ss-21.png\">"
   ]
  },
  {
   "cell_type": "markdown",
   "metadata": {},
   "source": [
    "Ca să facem enable acest Stream din DynamoDB, după ce intră pe unul dintre tabelele create, la secțiunea de \"Exports and Stream\", în partea de jos a paginii există acea secțiune de \"DynamoDB stream details\". Trebuie să pornim această funcționalitate (Turn on). În următoarea secțiune o să selectăm ce anume dorim să se păstreze în acest stream ( o să selectăm opțiunea de Old and New Images). După ce am selectat această opțiune, funcționalitate de Stream a fost activată. După ce am acetivata această funcționalitate trebuie să creem un \"Trigger\" pentru acest stream. Acest trigger reprezintă ce anume să se pornească atunci când stream-ul de DynamoDB este populat."
   ]
  },
  {
   "cell_type": "markdown",
   "metadata": {},
   "source": [
    "<img src=\"../ss/aws-data-engineer-section-04/section-04-ss-22.png\">"
   ]
  },
  {
   "cell_type": "markdown",
   "metadata": {},
   "source": [
    "Atunci când creem acest trigger, acesta o să ne creeze un triger pentru o funcție lambda. Acest lucru înseamnă că de fiecare dată când Stream-ul de DynamoDB este populat, o funcție lambda o să ruleze și o să se folosească cumva de datele din acest Stream. În acest moment nu avem nicio funcție creată, dar ca să completăm acest exercițiu o să ne creem o funcție lambda (Create New). Du"
   ]
  },
  {
   "cell_type": "markdown",
   "metadata": {},
   "source": [
    "<img src=\"../ss/aws-data-engineer-section-04/section-04-ss-23.png\">"
   ]
  },
  {
   "cell_type": "markdown",
   "metadata": {},
   "source": [
    "În momentul în care o să ne creem această funcție o să specificăm faptul că dorim să utilizăm o funcție blueprint (deja existentă), funcție creată de Amazon prin care o să scrie log-urile pentru update-urile ce o să apară într-un tabel din DynamoDB (Process updated made to a DDB Table). Specificăm și un nume acestei funcții (dynamodb-stream-function) și de asemenea un rol IAM pentru acestă funcție. Pentru acest rol o să fim nevoiți să modifcăm anumite policy-uri ca să îi oferim drepturi de Read pentru tabelul de DynamoDB. Mai trebuie să oferim informații pentru:\n",
    "\n",
    "- DynamoDB Tabel = UserPosts (tabelul de DynamoDB pentru care să scriem aceste streams)\n",
    "\n",
    "- batch size = 100 (numărul de elemente care să fie trimis în batch pentru funcție)\n",
    "\n",
    "- starting position = Latest"
   ]
  },
  {
   "cell_type": "markdown",
   "metadata": {},
   "source": [
    "<img src=\"../ss/aws-data-engineer-section-04/section-04-ss-24.png\">"
   ]
  },
  {
   "cell_type": "markdown",
   "metadata": {},
   "source": [
    "Acum avem acea funcție creată, dar tot primi o eroare. Eroare ne spune că funcția a fost creată, dar nu s-a putut crea acel trigger deoarece nu access de read pentru tabelul respectiv. Pentru a rezolva problema respectivă, o să navigăm în secțiunea de \"Configuration\", iar din secțiunea de \"Permissions\", la \"role\" o să deschidem acel rol creat automat cu acestă funcție. Atunci când deschidem acest rol o să ne trimită la consola de IAM de unde o să adăugăm anumite policy pentru acest rol"
   ]
  },
  {
   "cell_type": "markdown",
   "metadata": {},
   "source": [
    "<img src=\"../ss/aws-data-engineer-section-04/section-04-ss-25.png\">"
   ]
  },
  {
   "cell_type": "markdown",
   "metadata": {},
   "source": [
    "Policy-urile pe care o să le atașăm la acest rol sunt cele de \"AmazonDynamoDBReadOnlyAccess\" și \"AWSLambdaDynamoDBExecutionRole\". După ce atașăm aceste policy pentru rolul respectiv, eroare respectivă ar trebuie să dispară și acel trigger ar trebui să fie prezent în cadrul funcției lambda."
   ]
  },
  {
   "cell_type": "markdown",
   "metadata": {},
   "source": [
    "<img src=\"../ss/aws-data-engineer-section-04/section-04-ss-26.png\">"
   ]
  },
  {
   "cell_type": "markdown",
   "metadata": {},
   "source": [
    "Acum după ce am creat funcția respectivă, în cadrul secțiunii de \"Create a trigger\" din DynamoDB putem săalegem funcția respectivă. După ce selectăm funcția recent creată și setăm numărul de batch la 100 putem să creem acest trigger. La finalul creeri acestui trigger, dacă navigăm din nou la serviciul de Lambda functions, pentru funcția creată acum se observă că avem un trigger legat de acestă funcție, trigger-ul din Amazon DynamoDB"
   ]
  },
  {
   "cell_type": "markdown",
   "metadata": {},
   "source": [
    "<img src=\"../ss/aws-data-engineer-section-04/section-04-ss-27.png\">"
   ]
  },
  {
   "cell_type": "markdown",
   "metadata": {},
   "source": [
    "Ca să testăm acest stream și funcția respectivă, în cadrul tabelului pentru care am creat acest stream o să venim cu anumite modificări. O sp realizăm operații de create, update și delete din acest tabel pentru a vedea cum anume sunt acestea stocate ca și log-uri de către această funcție lambda."
   ]
  },
  {
   "cell_type": "markdown",
   "metadata": {},
   "source": [
    "Log-urile respective create de către această funcție sunt stocate în CloudWatch. Ca să navigăm la aceste loguri, din serviciul de Lambda de la funcția respectivă, din panoul de navigare selectăm secțiunea de \"Monitor\", iar de acolo avem un link către CloudWatch."
   ]
  },
  {
   "cell_type": "markdown",
   "metadata": {},
   "source": [
    "<img src=\"../ss/aws-data-engineer-section-04/section-04-ss-28.png\">"
   ]
  },
  {
   "cell_type": "markdown",
   "metadata": {},
   "source": [
    "Atunci când accesăm acel link o să ne trimită la serviciul de CouldWatch (cel de sus). În acest serviciu se poate observa că avem un log stream generat de azi. Acesta sunt logurile pentru acțiunile generate anterior în tabel, cea de update, inset și delete. Putem să deschidem acest log ca să vedem cum arată datele din el."
   ]
  },
  {
   "cell_type": "markdown",
   "metadata": {},
   "source": [
    "<img src=\"../ss/aws-data-engineer-section-04/section-04-ss-29.png\">"
   ]
  },
  {
   "cell_type": "markdown",
   "metadata": {},
   "source": [
    "În acest fișier de log avem un exemplu pentru o acțiune care a fost realizată. Exemplul acesta este cel de MODIFY, prin care am modificat atributele unui item din tabel. Acest log conține și secțiunea de \"NewImage\" (noul item) și secțiunea de \"OldImage\" (vechiul item). În acest log sunt prezente și operațiile de \"INSERT\" (care are doar secțiunea de NewImage) și operația de \"REMOVE\" (care are doar secțiunea de NewImage) "
   ]
  },
  {
   "cell_type": "markdown",
   "metadata": {},
   "source": []
  }
 ],
 "metadata": {
  "language_info": {
   "name": "python"
  }
 },
 "nbformat": 4,
 "nbformat_minor": 2
}
