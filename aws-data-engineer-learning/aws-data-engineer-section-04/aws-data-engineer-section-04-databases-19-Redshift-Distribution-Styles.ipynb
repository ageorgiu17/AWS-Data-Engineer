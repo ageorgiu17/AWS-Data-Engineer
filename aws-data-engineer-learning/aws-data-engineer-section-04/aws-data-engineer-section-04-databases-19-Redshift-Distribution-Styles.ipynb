{
 "cells": [
  {
   "cell_type": "markdown",
   "metadata": {},
   "source": [
    "# Amazon Redshift Distribution Styles"
   ]
  },
  {
   "cell_type": "markdown",
   "metadata": {},
   "source": [
    "În partea de aritectură am discutat despre cum datele din acest Data Wearhouse sunt distribuite la ficare slice din Compute Nodes. Există mai multe moduri prin care se poate face această distribuiție. Această distribuire de date se realizează automat de către Redshift către Slices din Compute Node în funcție de tipul de distribuție pe care îl alegem în momentul în care se creează acest Data Wearhouse în Redshift. Scopul disribuției este să distribuile workload-ul de date în mod uniform către Compute Nodes și să minimizeze procesul de mutare de date când se realizează câte un query. Există 4 distribuții diferite:"
   ]
  },
  {
   "cell_type": "markdown",
   "metadata": {},
   "source": [
    "- AUTO\n",
    "\n",
    "    Se selectează automat dacă nu specificăm alt tip de distribuție. Redshift o să selecte un tip de distribuire în funcție de mărimea pe care îl are acel Data Wearhouse. Acestea pot fi\n"
   ]
  },
  {
   "cell_type": "markdown",
   "metadata": {},
   "source": [
    "##### EVEN Distribution"
   ]
  },
  {
   "cell_type": "markdown",
   "metadata": {},
   "source": [
    "<img src=\"../ss/aws-data-engineer-section-04/section-04-ss-35.png\">"
   ]
  },
  {
   "cell_type": "markdown",
   "metadata": {},
   "source": [
    "La o astfel de distribuție, ne luând în calcul  datele din fiecare coloană, Leader Node-ul o să distribuie datele în Data Wearhouse într-o manieră pe rând. Trece prin fiecare slice și inseară date în fiecare slice din Compute Node pe rând (într-o manieră circulară). Acest tip de distribuire se recomandă să se folosească atunci când acest table nu o să se utilizeze pentru join-uri sau dacă celelalte tipuri de distribuții nu se potrivesc"
   ]
  },
  {
   "cell_type": "markdown",
   "metadata": {},
   "source": [
    "##### KEY Distribution"
   ]
  },
  {
   "cell_type": "markdown",
   "metadata": {},
   "source": [
    "<img src=\"../ss/aws-data-engineer-section-04/section-04-ss-36.png\">"
   ]
  },
  {
   "cell_type": "markdown",
   "metadata": {},
   "source": [
    "În acest tip de distribuție, rândurile sunt distribuite în fucție de datele dintr-o anumită coloană. Leader Node-ul o să plaseze valori la fel sau asemănătoare (matching values) în același slice. Acest tip de distribuire ajută atunci când dorim să facem query pe o anumită coloană din acest wearhouse, unde căutăm după anumite intervale de valori din coloana respectivă"
   ]
  },
  {
   "cell_type": "markdown",
   "metadata": {},
   "source": [
    "##### ALL Distribution"
   ]
  },
  {
   "cell_type": "markdown",
   "metadata": {},
   "source": [
    "<img src=\"../ss/aws-data-engineer-section-04/section-04-ss-37.png\">"
   ]
  },
  {
   "cell_type": "markdown",
   "metadata": {},
   "source": [
    "Pentru distribuția \"ALL\", toate datele o să fie replicate pe fiecare node din cluster-ul respectiv. Acest tip de distribuire multiplică necesitatea de stocare în funcție de numărul de node-uri pe care îl avem în cluster, iar din acest motiv partea de inserare și update la anumite valori din Data Wearhouse poate să dureze extrem de mult. Acest tip de distribuire este folositor atunci când avem un Data Wearhouse mic în care nu se realizează de multe ori introducere de noi date sau update la datele respective."
   ]
  },
  {
   "cell_type": "markdown",
   "metadata": {},
   "source": []
  }
 ],
 "metadata": {
  "language_info": {
   "name": "python"
  }
 },
 "nbformat": 4,
 "nbformat_minor": 2
}
