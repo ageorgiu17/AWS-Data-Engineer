{
 "cells": [
  {
   "cell_type": "markdown",
   "metadata": {},
   "source": [
    "# Amazon DynamoDB"
   ]
  },
  {
   "cell_type": "markdown",
   "metadata": {},
   "source": [
    "DynamoDB este un serveiciu de baze de date din Amazon de tipul NoSQL. Ce este o bază de date de tipul NoSQL și care sunt caracteristicele acestui tip de baze de date.\n",
    "\n",
    "- bazele de date NoSQL sunt baze de date non-relaționale (sunt distribuite)\n",
    "\n",
    "- Exemple de baze de date NoSQL ar fi MongoDB și DynamoDB\n",
    "\n",
    "- aceste baze de date nu suportă join-uri în query-uri\n",
    "\n",
    "- toate datele pentru care dorim să facem query trebuie să fie prezente într-un singur rând\n",
    "\n",
    "- aceste baze de date non-relaționale nu suportă agregări precum \"SUM\" sau \"AVG\"\n",
    "\n",
    "- partea pozitivă a acestor baze de date este faptul că se pot scala orizontal. Dacă avem nevoie de mai multă putere de scriere sau citire este posibil să se realizeze acest lucru relativ ușor"
   ]
  },
  {
   "cell_type": "markdown",
   "metadata": {},
   "source": [
    "Amazon DynamoDB este:\n",
    "\n",
    "- o bază de date nerelațională\n",
    "\n",
    "- este menegeriată în totalitate de către Amazon având o diponibilitate mare cu replicare pe mai multe availability zones\n",
    "\n",
    "- se poate scala worlkoad-ul care există pe acestă bază de date, fiind o bază de date distributed\n",
    "\n",
    "- poate ajunge la milioane de requesturi pe secundă, la trilioane de rânduri stocate și la sute de terabytes de stocare\n",
    "\n",
    "- este rapidă și consistentă în performanță\n",
    "\n",
    "- se integrează cu partea de IAM pentru securitate, autorizare și administrare\n",
    "\n",
    "- se potae realiza event programming utilizând DynamoDB Streams\n",
    "\n",
    "- costuri scăzute și capabilitate de auto-scalare"
   ]
  },
  {
   "cell_type": "markdown",
   "metadata": {},
   "source": [
    "DynamoDB - Basics\n",
    "\n",
    "- DynamoDB este creat din Tabeluri\n",
    "\n",
    "- Fiecare Tabel are un PrimaryKey (care trebuie specificat la crearea acelui tabel)\n",
    "\n",
    "- Fiecare tabel dintr-o bază de date poate avea un număr infinit de items (items = rows)\n",
    "\n",
    "- Fiecare item din tabel are anumite atribute. Aceste atribuite pot fi considerate ca și coloane într-o bază de date. Aceste atribute pot fi adăugate și treptat și de asemena pot să fie și nule. Pe lângă acestea, aceste atribute pot să fie și de tipul nested attributes (atribut în interiorul unui atribut) care face ca acest tip de baze de date să fie și mai puternic\n",
    "\n",
    "- mărimea maximă pentru un item este de 400 KB\n",
    "\n",
    "- tipurile de date suportate sunt:\n",
    "\n",
    "    - Scalar types = text, numere, boleane, binary, null\n",
    "\n",
    "    - document types = liste și map\n",
    "\n",
    "    - set types = string set, number set, binary set\n",
    "\n"
   ]
  },
  {
   "cell_type": "markdown",
   "metadata": {},
   "source": [
    "Un aspect foarte important în cadrul unei astfel de baze de date reprezintă alegerea acelui Primary Key. Există mai multe variante de a alege un astfel de primay key\n",
    "\n",
    "1. Partition Key (HASH)\n",
    "\n",
    "    - Această cheie de partiție trebuie să fie unică pentru fiecare item din tabel (precum un Primary key la o bază de date relațională). Această cheie trebuie să fie destul de \"diversificată\" astfel încât datele din tabel să fie distribuite în funcție de această cheie (exemplu: \"User_ID\" pentru un tabel care conține date despre users)\n",
    "\n",
    "2. Partition Key + Sort Key (HASH + RANGE)\n",
    "\n",
    "    - Combinația dintre acestea trebuie să fie unică pentru fiecare element. Datele sunt grupate în funcție de acel partition key (exemplu: un tabel de user pentru anumite jocuri putem să avem ca și partition key un atribut de \"User_ID\", iar ca și sort key un atribut de \"Game_ID\". În acest caz putem să avem aceeași valoare de mai multe ori pentru \"User_ID\", atâta timp cât valoarea pentru \"Game_ID\" este difertă de fiecare dată. Acest lucru are și sens, deoarece există posibilitatea să avem un user care se joacă mai multe jocuri.)\n"
   ]
  }
 ],
 "metadata": {
  "language_info": {
   "name": "python"
  }
 },
 "nbformat": 4,
 "nbformat_minor": 2
}
