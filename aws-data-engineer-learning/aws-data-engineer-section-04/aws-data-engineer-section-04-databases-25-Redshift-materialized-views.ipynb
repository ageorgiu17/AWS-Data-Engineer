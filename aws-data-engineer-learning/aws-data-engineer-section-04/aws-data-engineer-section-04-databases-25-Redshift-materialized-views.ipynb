{
 "cells": [
  {
   "cell_type": "markdown",
   "metadata": {},
   "source": [
    "# Amazon Redshift Materialized Views"
   ]
  },
  {
   "cell_type": "markdown",
   "metadata": {},
   "source": [
    "Trebuie să știm și despre partea de Materialized Views. Știm ce este un view într-o bază de date, practic reprezintă rezultatului unui query ca și un tabel asupra căruia putem să facem un query mai departe. Acest tip de materialized view stochează rezultatele acelui query. Dacă avem un query super complex care se rulează pe acest Dat Wearhouse, putem să salvăm rezultatele acestui query ca și un materialized view și după se poate să ne folosim de acel view ca să îl interogăm ori de câte ori avem nevoie."
   ]
  },
  {
   "cell_type": "markdown",
   "metadata": {},
   "source": [
    "Că să creem un astfel de view o să ne folosim de următoarea comandă"
   ]
  },
  {
   "cell_type": "code",
   "execution_count": null,
   "metadata": {
    "vscode": {
     "languageId": "sql"
    }
   },
   "outputs": [],
   "source": [
    "CREATE MATERIALIZED VIEW ...."
   ]
  },
  {
   "cell_type": "markdown",
   "metadata": {},
   "source": [
    "Dacă datele din Data Wearhouse se modifică, atunci acest view trebuie să fie și el păstrat la zi cu noile modificări. Pentru asta o să ne folosim de comanda"
   ]
  },
  {
   "cell_type": "code",
   "execution_count": null,
   "metadata": {
    "vscode": {
     "languageId": "sql"
    }
   },
   "outputs": [],
   "source": [
    "REFRESH MATERIALIZED VIEW ..."
   ]
  },
  {
   "cell_type": "markdown",
   "metadata": {},
   "source": [
    "Pentru acestă comandă se poate crea și un auto refresh ca acesta să se ruleze automat la o anumită oră"
   ]
  },
  {
   "cell_type": "code",
   "execution_count": null,
   "metadata": {
    "vscode": {
     "languageId": "sql"
    }
   },
   "outputs": [],
   "source": [
    "SET AUTO REFRESH"
   ]
  },
  {
   "cell_type": "markdown",
   "metadata": {},
   "source": [
    "După ce creem acest view, acesta se poate interoga precum orice alt tabel dintr-o bază de date. De asemenea, peste acest materialized view se mai poate crea un altul dacă se dorește"
   ]
  },
  {
   "cell_type": "markdown",
   "metadata": {},
   "source": []
  }
 ],
 "metadata": {
  "language_info": {
   "name": "python"
  }
 },
 "nbformat": 4,
 "nbformat_minor": 2
}
