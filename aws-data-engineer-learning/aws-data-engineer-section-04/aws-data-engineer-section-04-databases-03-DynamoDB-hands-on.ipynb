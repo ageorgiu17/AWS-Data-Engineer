{
 "cells": [
  {
   "cell_type": "markdown",
   "metadata": {},
   "source": [
    "# Amazon DynamoDB - Hands-on"
   ]
  },
  {
   "cell_type": "markdown",
   "metadata": {},
   "source": [
    "Ca să realizăm partea practică o să navigăm la link-ul https://eu-central-1.console.aws.amazon.com/dynamodbv2/home?region=eu-central-1#service de unde putem să ne creem primul tabel. De notat faptul că trebuie să creem doar tabelele, deoarece baza de date este creată și manageriată automat de către Amazon. Ca să creem primul tabel, în partea dreaptă avem butonul de \"Create table\""
   ]
  },
  {
   "cell_type": "markdown",
   "metadata": {},
   "source": [
    "Atunci când creem un tabel trebuie să oferim următoarele informații:\n",
    "\n",
    "- table name = Users (numele tabelului)\n",
    "\n",
    "- partition key = user_id (numele pentru partition key)\n",
    "\n",
    "- sort key (optional) = numele pentru sort key dacă dorim să folosim\n",
    "\n",
    "- table settings = aici avem două opțiuni. Să folosim varianata de \"Default settings\" sau \"Customize Setting\" în care să ne creem setări custom pentru acest tabel. Din moment ce dorim să învățăm DynamoDB o să ne creem setări custom"
   ]
  },
  {
   "cell_type": "markdown",
   "metadata": {},
   "source": [
    "<img src=\"../ss/aws-data-engineer-section-04/section-04-ss-01.png\">"
   ]
  },
  {
   "cell_type": "markdown",
   "metadata": {},
   "source": [
    "Atunci când selectăm oopțiunea de \"Customize settings\" trebuie să stabilim anumite setări pentru acest tabel.\n",
    "\n",
    "- Table class\n",
    "\n",
    "    - Avem două variante din care să alegem \"DynamoDB Standard\" sau \"DynamoDB Standard-IA\". Prima variantă este varianta propusă general, iar cea de a doua este varianta pe care o să o alegem dacă știm că nu o să executăm multe requestyru de tip GET sau POST, atunci când datele sunt accesate nu așa de frecvent. Ultima opțiune este mai puțin costisitoare (o să alegem varianta de \"DynamoDB Standard\")\n",
    "\n",
    "- Capacity calculator\n",
    "\n",
    "    - Momanta lăsăm așa\n",
    "\n",
    "- Read/Write capacity setting\n",
    "\n",
    "    - Don nou, avem două opțiuni, \"On-Demand\" și \"Provisioned\". Pentru prima variantă se plătește în funcție de câte opreații de read și write se fac pe acel tabel. În cea de a doua variantă putem să selectăm o limită de în avans. Din moment ce în opțiunea de free tier avem limită la acestea, o să mergem pe opțiunea de \"Provisioned\"\n",
    "\n",
    "    - Read capacity - debifăm opțiunea de auto-scaling, iar pentru unitățile de capacitate o să oferim valoare 2\n",
    "\n",
    "    - Write capacity - debifăm opțiunea de auto-scaling, iar pentru unitățile de capacitate o să oferim valoare 2\n",
    "\n",
    "    - În opțiunea de free avem la dispoziție un număr de 10 de unități de capacitate\n",
    "\n",
    "- Secondary index\n",
    "\n",
    "    - Momentan lăsăm așa\n",
    "\n",
    "- Encryption key management\n",
    "\n",
    "    - Pentru parte de encriptare lăsăm să se ocupe Amazon DynamoDB de această parte. O să selectăm opțiunea de \"Owned by Amazon DynamoDB\""
   ]
  },
  {
   "cell_type": "markdown",
   "metadata": {},
   "source": [
    "După ce am setat toate aceste opțiuni, în această pagină o să ne apară și o estimare de cost pe lună a acestui tabel (folosind partea de free tier, acest cost nu o să fim nevoiți să îl plătim)"
   ]
  },
  {
   "cell_type": "markdown",
   "metadata": {},
   "source": [
    "După ce am creat acest table putem să îl accesăm. Ce o să facem în continare o să populăm acest tabel cu anumite items. Pentru a face asta navigăm la secțiunea de \"Explore table items\", după care \"Create item\""
   ]
  },
  {
   "cell_type": "markdown",
   "metadata": {},
   "source": [
    "<img src=\"../ss/aws-data-engineer-section-04/section-04-ss-02.png\">"
   ]
  },
  {
   "cell_type": "markdown",
   "metadata": {},
   "source": [
    "Atunci când creem un nou item, automat trebuie să oferim o valoare pentru acel partition key pe care l-am ales (în cazul de față, \"user_id\"). După ce oferim această valoare, mai putem să oferim și alte atribute acestui item prin butonul \"add new attribute\". Atunci când adăugăm un nou atribut, putem să specificăm ce tip de date să fie acel nou atribut. După ce suntem mulțumiți cu item-ul respectiv, putem să îl creem (\"Create item\")"
   ]
  },
  {
   "cell_type": "markdown",
   "metadata": {},
   "source": [
    "<img src=\"../ss/aws-data-engineer-section-04/section-04-ss-03.png\">"
   ]
  },
  {
   "cell_type": "markdown",
   "metadata": {},
   "source": [
    "După ce am creat acest item, acesta apare în listă în secțiunea de \"Explore table items\""
   ]
  },
  {
   "cell_type": "markdown",
   "metadata": {},
   "source": [
    "Din moment ce avem doar un partition key (fără un sort key), dacă dorim să introducem un item în cadrul acestui tabel care are aceeași valoare pentru \"user_id\" (john123 în cazul de față) o să primim atunci o eroare. "
   ]
  },
  {
   "cell_type": "markdown",
   "metadata": {},
   "source": [
    "Ce o să facem în continuare, o să ne mai introducem un item în acest tabel, de data aceasta pentru alice123. Ce o să fie diferit la alice este faptul că pentru acest item nu o să știm valorile pentru cars, dar știm valoarea pentru age (age, atribut care nu este specificat pentru John, nu apare acest atribut în acest tabel)"
   ]
  },
  {
   "cell_type": "markdown",
   "metadata": {},
   "source": [
    "<img src=\"../ss/aws-data-engineer-section-04/section-04-ss-04.png\">"
   ]
  },
  {
   "cell_type": "markdown",
   "metadata": {},
   "source": [
    "O să creem acest item ca să vedem ce anume o să se întâmple."
   ]
  },
  {
   "cell_type": "markdown",
   "metadata": {},
   "source": [
    "<img src=\"../ss/aws-data-engineer-section-04/section-04-ss-05.png\">"
   ]
  },
  {
   "cell_type": "markdown",
   "metadata": {},
   "source": [
    "După cum se poate observa, item-ul respectiv a fost creat, cu toate că atributul de \"age\" nu era definit înainte în acest tabel. În cazul unei baze de date relaționale, aici ar fi apărut o eroare. În cazul unei baze de date NoSQL, adăugarea de atribute noi este posibilă. Când se adaugă câte un atribut nou, atunci se creează automat acel atribut și se completează cu null pentru item-urile care existau în tabel înainte."
   ]
  },
  {
   "cell_type": "markdown",
   "metadata": {},
   "source": [
    "<img src=\"../ss/aws-data-engineer-section-04/section-04-ss-06.png\">"
   ]
  },
  {
   "cell_type": "markdown",
   "metadata": {},
   "source": [
    "O să ne creem un nou tabel acuma, tabel pentru care o să oferim atât un partition key (același \"user_id\"), cât și un sort key (\"post_ts\") (post timestamp). Acest tabel reprezintă informații despre ceea ce și când postează userii respectivi. Din moment ce un user poate crea mai multe posturi, este normal ca id-ul de user să apară de mai multe ori în tabel. Din acest motiv utilizăm și un sort key, ca să putem să avem totuși o partiționare unică pentru fiecare post în parte"
   ]
  },
  {
   "cell_type": "markdown",
   "metadata": {},
   "source": [
    "<img src=\"../ss/aws-data-engineer-section-04/section-04-ss-07.png\">"
   ]
  },
  {
   "cell_type": "markdown",
   "metadata": {},
   "source": [
    "După cum se poate observa din imagine de mai sus, am putut să două item-uri care au același partition key, dar au valori diferite la sort key. Aceasta este diferența atunci când avem un tabel cu sau fără acest sort key (în tabelul în care nu am avut sort key, nu am putut să creem un item care același user_id)"
   ]
  },
  {
   "cell_type": "markdown",
   "metadata": {},
   "source": []
  }
 ],
 "metadata": {
  "language_info": {
   "name": "python"
  }
 },
 "nbformat": 4,
 "nbformat_minor": 2
}
