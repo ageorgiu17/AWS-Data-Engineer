{
 "cells": [
  {
   "cell_type": "markdown",
   "metadata": {},
   "source": [
    "# Amazon Redshift Resizing"
   ]
  },
  {
   "cell_type": "markdown",
   "metadata": {},
   "source": [
    "Atunci când partea de concurrency nu funcționează există și posibilitatea de a face resizing la Clusterul de Redshift. Există mai multe metode prin care putem să realizăm acestă parte de resizing."
   ]
  },
  {
   "cell_type": "markdown",
   "metadata": {},
   "source": [
    "#### Elastic Resize"
   ]
  },
  {
   "cell_type": "markdown",
   "metadata": {},
   "source": [
    "Metoda de \"Elastic Resize\" se poate utiliza extrem de rapid pentru a adăuga sau a șterge nodes de același tip din cadrul clusterului. Cu acest resize, cluster-ul de Redshift o să fie down doar pentru câteva minute și încearcă și să mențină deschise conexiunile către clusterul respectiv"
   ]
  },
  {
   "cell_type": "markdown",
   "metadata": {},
   "source": [
    "##### Classic Resize"
   ]
  },
  {
   "cell_type": "markdown",
   "metadata": {},
   "source": [
    "Dacă este necesar să realizăm un resize mai complex, atunci parte de Classic Resize intră în discuție. Prin acest tip de resizing putem să facem update la tipul de nodes din cluster sau la numărul de nodes. Partea negativă cu acest tip de resize însă este faptul că dacă dorim și să modificăm tipul de nodes din cluster poate dura ore sau chiar zile până ce o să putem executa și operații de write în acest cluster. Este indicat să folosim Elastic resize atunci când se poate. Dacă este necesar să se modifice și tipul de nodes din cluster, atunci avem opțiunea următoare"
   ]
  },
  {
   "cell_type": "markdown",
   "metadata": {},
   "source": [
    "##### Snapshot, restore, resize"
   ]
  },
  {
   "cell_type": "markdown",
   "metadata": {},
   "source": [
    "Varianta prin care putem să ne menținem cluster-ul disponibil în cazul unui Classic Resize. Prin această opțiune utilizând snapshot o să ne creem o copie a clusterului respectiv și o să creem un nou cluster. O să facem resize la acest cluster iar datele care o să fie scrie, o să fie scrise în vechiul cluster până ce se face resize la acest nou cluster. După ce se termină procesul de resize la noul cluster, putem să ne redirecționăm traficul către noul cluster."
   ]
  },
  {
   "cell_type": "markdown",
   "metadata": {},
   "source": []
  }
 ],
 "metadata": {
  "language_info": {
   "name": "python"
  }
 },
 "nbformat": 4,
 "nbformat_minor": 2
}
