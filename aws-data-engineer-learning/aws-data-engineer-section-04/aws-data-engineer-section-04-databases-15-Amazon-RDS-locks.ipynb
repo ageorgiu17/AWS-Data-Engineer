{
 "cells": [
  {
   "cell_type": "markdown",
   "metadata": {},
   "source": [
    "# Amazon RDS Locks"
   ]
  },
  {
   "cell_type": "markdown",
   "metadata": {},
   "source": [
    "În continuare o să vorbim despre conceptul de \"locks\" în bazele de date relaționale. Acest concept ajută la stoparea (lock) unui tabel ca să se prevină să nu se realizeze două lucruri în același timp, sau să se citească ceva dintr-o bază de date atunci când este executat și un proces de scriere. În mod default, acest concept este aplicat pe toate bazele de date relaționale. Deși acest lucru este făcut automat, există posibilitatea și de a crea anumite locks specifice pentru o anumită bază de date. Există două astfel de tipuri de locks:\n",
    "\n",
    "- Shared lock\n",
    "\n",
    "- Explicit lock"
   ]
  },
  {
   "cell_type": "markdown",
   "metadata": {},
   "source": [
    "Un lock de tip \"shared lock\" permite acțiunea de citire, dar stopează acțiunea de scriere într-o bază de date. Al doilea tip de lock stopează și partea de citire și partea de scriere, astfel încât o singură tranzacție să poată fi executată. O să ne uităm peste codul pe care trebuie să îl utilizăm atunci când dorim să implementăm astfel de locks în cadrul unei baze de date."
   ]
  },
  {
   "cell_type": "markdown",
   "metadata": {},
   "source": [
    "### Locking an entire table"
   ]
  },
  {
   "cell_type": "code",
   "execution_count": null,
   "metadata": {
    "vscode": {
     "languageId": "sql"
    }
   },
   "outputs": [],
   "source": [
    "LOCK TABLE employee WRITE;"
   ]
  },
  {
   "cell_type": "markdown",
   "metadata": {},
   "source": [
    "Acest tip de lock o să ne blocheze tot tabelul respectiv pentru operațiile de scriere. Este folositor atunci când dorim să realizăm anumite operațiuni pe tabelul respectiv și dorim să știm că nu o să mai existe alte operațiuni de write până în momentul ce terminăm ceea ce avem de făcut. Pentru a debloca accesul se va rula comanda"
   ]
  },
  {
   "cell_type": "code",
   "execution_count": null,
   "metadata": {
    "vscode": {
     "languageId": "sql"
    }
   },
   "outputs": [],
   "source": [
    "UNLOCK TABLES"
   ]
  },
  {
   "cell_type": "markdown",
   "metadata": {},
   "source": [
    "Amazon Redshift de asemenea are comanda LOCK care este folosită pentru același caz, de a bloca un întreg tabel pentru partea de scriere."
   ]
  },
  {
   "cell_type": "markdown",
   "metadata": {},
   "source": [
    "### Shared Lock"
   ]
  },
  {
   "cell_type": "code",
   "execution_count": null,
   "metadata": {
    "vscode": {
     "languageId": "sql"
    }
   },
   "outputs": [],
   "source": [
    "SELECT * FROM employee WHERE department='Finance' FOR SHARE;"
   ]
  },
  {
   "cell_type": "markdown",
   "metadata": {},
   "source": [
    "Utlizând comanda de mai sus o să se prevină partea de sriere în tabelul respectiv. Se pot realiza citiri din tabel, dar partea de scriere este stopată utilizând comanda de mai sus"
   ]
  },
  {
   "cell_type": "markdown",
   "metadata": {},
   "source": [
    "### Exclusive Lock"
   ]
  },
  {
   "cell_type": "code",
   "execution_count": null,
   "metadata": {
    "vscode": {
     "languageId": "sql"
    }
   },
   "outputs": [],
   "source": [
    "SELECT * FROM employee WHERE employee_id=123 FOR UPDATE;"
   ]
  },
  {
   "cell_type": "markdown",
   "metadata": {},
   "source": [
    "Prin comanda de mai sus o să fie stopate toate acțiunile de scriere sau de citire din tabelul respectiv până ce comanda respectivă se termină de rulat."
   ]
  }
 ],
 "metadata": {
  "language_info": {
   "name": "python"
  }
 },
 "nbformat": 4,
 "nbformat_minor": 2
}
