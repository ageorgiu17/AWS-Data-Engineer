{
 "cells": [
  {
   "cell_type": "markdown",
   "metadata": {},
   "source": [
    "# Amazon DynamoDB Throughput (Read/Write Capacity)"
   ]
  },
  {
   "cell_type": "markdown",
   "metadata": {},
   "source": [
    "În ceea ce privește partea de capacitate de scriere și citire din Amazon DynamoDB există două metode\n",
    "\n",
    "1. Provision Mode\n",
    "\n",
    "    - utilizând această opțiune se specifică numărul de read/write per secundă. Acest lucru înseamnă că trebuie să plătim înainte această capacitate. Există opțiunea de a face auto-scaling pentru acest mod\n",
    "\n",
    "2. On-Demand Mode\n",
    "\n",
    "    - utilizând opțiunea respcetivă partea de read/write se face automat și se face scaling automat la aceste capacități. Cu această opțiune nu trebuie să specificăm dinainte capacitatea de care avem nevoie, aceasta este calculată pe moment, dar acest lucru înseamnă că o să avem costuri mai mari\n",
    "\n",
    "Se pot schimba aceste moduri odată la 24 de ore."
   ]
  },
  {
   "cell_type": "markdown",
   "metadata": {},
   "source": [
    "### Read/Write Capacity Modes"
   ]
  },
  {
   "cell_type": "markdown",
   "metadata": {},
   "source": [
    "Pentru un tabel trebuie să specificăm aceste unități de capacitate pentru partea de read și write.\n",
    "\n",
    "- Read Capacity Units = RCU\n",
    "\n",
    "- Write Capacity Units = WCU"
   ]
  },
  {
   "cell_type": "markdown",
   "metadata": {},
   "source": [
    "#### WCU"
   ]
  },
  {
   "cell_type": "markdown",
   "metadata": {},
   "source": [
    "O unitate de scriere (WCU) reprezintă o scriere pe secundă a unui item cu mărimea de 1 KB. Exemple:\n",
    "\n",
    "- dacă scriem 10 items pe secundă, fiecare cu o mărime de 1 KB avem nevoie de 10 units/secundă\n",
    "\n",
    "- dacă scriem 10 items pe secundă, fiecare cu o mărime de 2 KB avem nevoie de 20 units/secundă (fiecare item are nevoie de 2 units/secundă pe scriere deoarece valoarea este de 2 KB)\n",
    "\n",
    "- dacă scriem 10 items pe secundă, fiecare cu o mărime de 3.5 KB avem nevoie de 40 units/secundă (fiecare item are 3.5 KB, iar această valoare se rotunjește la valoarea cea mai mare, adică la 4 KB. Deci avem nevoie de 4 units/secundă pentru a scrie un item)"
   ]
  },
  {
   "cell_type": "markdown",
   "metadata": {},
   "source": [
    "#### RCU"
   ]
  },
  {
   "cell_type": "markdown",
   "metadata": {},
   "source": [
    "Pentru partea de citire există două categorii de citire:\n",
    "\n",
    "1. Strong Consistent Read \n",
    "\n",
    "2. Eventually Consistent Read"
   ]
  },
  {
   "cell_type": "markdown",
   "metadata": {},
   "source": [
    "<img src=\"../ss/aws-data-engineer-section-04/section-04-ss-08.png\">"
   ]
  },
  {
   "cell_type": "markdown",
   "metadata": {},
   "source": [
    "Amazon DynamoDB, această bază de date este creată din servere (deși nu le manageriem noi, acestea există în spate). Datele din tabel o să fie distribuite și replicate pe aceste servere. Atunci când dintr-o anumită aplicație dorim să scriem date într-un tabel, aceste date o să fie scrie pe un anumit server și replicate pe alte servere (pentru recovery).\n",
    "\n",
    "În momentul în care aplicație citește date din DynamoDB, există șanse mari ca datele să nu fie citite sin serverul1, ci din serverul2 (server pe care datele au fost replicate). În modul Eventually Consistent Read, dacă se citesc datele chiar după ce sunt scrise, extrem de repede, este posibil să primim date eronate, sau să nu primim datele deoarece datele respective încă nu există pe sererul2 (încă nu au fost replicate)\n",
    "\n",
    "În situația în care se folosește Strong Consistent Read, îi spunem la Amazon DynamoDB faptul că dorim să citim aceste date chiar după scriere și dorim să primim înapoi exact datele corecte. Acest tip de citire consumă de două ori mai multe unități de capacitate pe secundă și este posibil ca partea de scriere să dureze mai mult, până ce se asigură faptul că datele au fost și replicate."
   ]
  },
  {
   "cell_type": "markdown",
   "metadata": {},
   "source": [
    "În ceea ce privește partea de consum de unități pe secundă, o citire de tipul Strongly Consisten Read reprezintă citirea unui item/secundă cu o mărime de 4 KB, iar citirea Eventually Consistent Read reprezintă citirea a două items/secundă cu o mărime de 4 KB. Exemple:\n",
    "\n",
    "- dacă dorim să citim 10 items per secundă utilizând Strongly Consistent Read iar fiecare item are o mărime de 4 KB atunci avem nevoie de 10 units/second\n",
    "\n",
    "- dacă dorim să citim 10 items per secundă utilizând Eventually Consistent Read iar fiecare item are o mărime de 4 KB atunci avem nevoie doar de 5 units/second\n",
    "\n",
    "- dacă dorim să citim 10 items per secundă utilizând Strongly Consistent Read iar fiecare item are o mărime de 6 KB atunci avem nevoie de 20 units/second (fiecare item are nevoie de 2 units/second deoarece are o mărime de 6 KB care se rotunjește la 8)"
   ]
  }
 ],
 "metadata": {
  "language_info": {
   "name": "python"
  }
 },
 "nbformat": 4,
 "nbformat_minor": 2
}
