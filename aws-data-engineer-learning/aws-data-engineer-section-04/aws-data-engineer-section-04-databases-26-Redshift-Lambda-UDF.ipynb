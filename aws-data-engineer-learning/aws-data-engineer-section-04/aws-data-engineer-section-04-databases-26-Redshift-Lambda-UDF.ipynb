{
 "cells": [
  {
   "cell_type": "markdown",
   "metadata": {},
   "source": [
    "# Amazon Redshift Lambda UDF"
   ]
  },
  {
   "cell_type": "markdown",
   "metadata": {},
   "source": [
    "Acest concept din Redshift ne permite să rulăm o funcție de AWS Lambda în cadrul unui query. Acest feature este foarte puternic deoarece o funcție Lambda poate fi scrisă în orice limbaj și în cadrul unei astfel de funcții se poate face aproape orice (crearea unui alt serviciu, accesul de sisteme externe, integrarea cu servicii locale). Ca să registrăm o astfel de funcție o să utilizăm comanda:"
   ]
  },
  {
   "cell_type": "code",
   "execution_count": null,
   "metadata": {
    "vscode": {
     "languageId": "sql"
    }
   },
   "outputs": [],
   "source": [
    "CREATE EXTERNAL FUNCTION"
   ]
  },
  {
   "cell_type": "markdown",
   "metadata": {},
   "source": [
    "Iar pe tabelul din Redshift trebuie să utilizăm următoarea comandă "
   ]
  },
  {
   "cell_type": "code",
   "execution_count": null,
   "metadata": {
    "vscode": {
     "languageId": "sql"
    }
   },
   "outputs": [],
   "source": [
    "GRANT USAGE ON LANGUAGE EXFUNC "
   ]
  },
  {
   "cell_type": "code",
   "execution_count": null,
   "metadata": {
    "vscode": {
     "languageId": "sql"
    }
   },
   "outputs": [],
   "source": [
    "CREATE EXTERNAL FUNCTION exfunc_sum (INT,INT) RETURNS INT VOLATILE LAMBDA 'lambda_sum' IAM_ROLE 'arn:aws:iam:12345678912:role/Redshidt-Exfunc-Test'"
   ]
  },
  {
   "cell_type": "markdown",
   "metadata": {},
   "source": [
    "Comanda de mai sus este comanda completă de a înregistra o astfel de funcție în Redshift.\n",
    "\n",
    "- exfunc_sum (numele funcție pe care să o aibă în SQL)\n",
    "\n",
    "- LAMBDA 'lambda_sum' - numele funcției lambda pe care o apelăm\n",
    "\n",
    "- IAM_ROLE - rolul IAM pe care trebuie să îl oferim acestei funcții pentru a îi oferi accesul necesar."
   ]
  },
  {
   "cell_type": "markdown",
   "metadata": {},
   "source": [
    "Redshift comunică cu AWS Lambda utilizând JSON. Ceea ce primește Lambda poate fi un astfel de mesaj"
   ]
  },
  {
   "cell_type": "code",
   "execution_count": null,
   "metadata": {},
   "outputs": [],
   "source": [
    "{\n",
    "    \"request_id\": \"5B531B5-513BKJ513-513-FDSF\",\n",
    "    \"cluster\": \"arn:aws:redshit:xxxx\",\n",
    "    \"user\": \"adminuser\",\n",
    "    \"database\": \"db1\",\n",
    "    \"external_function\": \"public.foo\",\n",
    "    \"query_id\": \"5678234\",\n",
    "    \"num_records\": \"4\",\n",
    "    \"arguments\": [\n",
    "        [1, 2],\n",
    "        [2, None],\n",
    "        None,\n",
    "        [4, 6]\n",
    "    ],\n",
    "}"
   ]
  },
  {
   "cell_type": "markdown",
   "metadata": {},
   "source": [
    "Ceea ce o să trimită AWS Lambda către Redshift este următorul rezultat:"
   ]
  },
  {
   "cell_type": "code",
   "execution_count": null,
   "metadata": {},
   "outputs": [],
   "source": [
    "{\n",
    "    \"success\": True, #indicates the call succeeded \n",
    "    \"error_msg\":\"my function is not working\",\n",
    "    \"num_records\":\"4\",\n",
    "    \"results\":[\n",
    "        1,\n",
    "        4,\n",
    "        None,\n",
    "        7\n",
    "    ]\n",
    "}"
   ]
  }
 ],
 "metadata": {
  "language_info": {
   "name": "python"
  }
 },
 "nbformat": 4,
 "nbformat_minor": 2
}
