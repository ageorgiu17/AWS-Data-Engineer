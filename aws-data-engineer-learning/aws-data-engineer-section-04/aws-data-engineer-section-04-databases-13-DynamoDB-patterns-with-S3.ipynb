{
 "cells": [
  {
   "cell_type": "markdown",
   "metadata": {},
   "source": [
    "# Amazon DynamoDB - Patterns with S3"
   ]
  },
  {
   "cell_type": "markdown",
   "metadata": {},
   "source": [
    "După cum am spus la începutul acestei secțiuni, item-urile din DynamoDB nu pot să aibă o dimensiune mai mare de 400 KB. Pentru informații de tip text, acestă valoare este una relativ ok. Întrebarea apare ce facem atunci când avem de lucru cu obiecte mari (imagini, fișiere video sau audio, fișiere text mai mari). Pentru aceste cazuri putem să combinăm partea de S3 și de DynamoDB. În S3 o să stocăm fișierul respectiv, iar în DynamoDB o să stocăm metadatele despre aceste fișiere"
   ]
  },
  {
   "cell_type": "markdown",
   "metadata": {},
   "source": [
    "<img src=\"../ss/aws-data-engineer-section-04/section-04-ss-33.png\">"
   ]
  },
  {
   "cell_type": "markdown",
   "metadata": {},
   "source": [
    "La ce ne ajută stocare datelor și în S3 și în DynamoDB? În primul rând se folosește fiecare serviciu pentru ceea ce este creat să facă. S3 este creat ca să stocheze fișiere mari, iar DynamoDB este creat ca să stocheze mai mult informații despre date, metadate despre aceste date. La ce ne ajută să avem aceste informații și în DynamoDB? Pe aceste date putem să facem query-uri, să interogăm datele respective deoarece S3 nu a fost creat cu scopul de a fi interogat. Prin urmare, combinarea dintre aceste două servicii este una bună în cazurile în care trebuie să lucrăm cu astfel de date."
   ]
  },
  {
   "cell_type": "markdown",
   "metadata": {},
   "source": []
  }
 ],
 "metadata": {
  "language_info": {
   "name": "python"
  }
 },
 "nbformat": 4,
 "nbformat_minor": 2
}
