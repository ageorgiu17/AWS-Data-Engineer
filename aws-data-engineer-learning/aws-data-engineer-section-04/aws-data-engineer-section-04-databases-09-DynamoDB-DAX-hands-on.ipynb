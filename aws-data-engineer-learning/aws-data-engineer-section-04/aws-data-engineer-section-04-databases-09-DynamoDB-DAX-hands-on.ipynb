{
 "cells": [
  {
   "cell_type": "markdown",
   "metadata": {},
   "source": [
    "# Amazon DynamoDB - DAX hands-on"
   ]
  },
  {
   "cell_type": "markdown",
   "metadata": {},
   "source": [
    "Crearea unui cluster de Amzon DynamoDB se găsește în secțiunea de DynamoDB, în consola de specifică pentru acest serviciu. Trebuie menționat faptul că acest cluster nu intră la secțiunea de Free Tier, prin urmare crearea unui astfel de cluster nu o să fie gratis."
   ]
  },
  {
   "cell_type": "markdown",
   "metadata": {},
   "source": [
    "Atunci când ne creem um cluster de DAX trebuie specificat numele pe care să îl aibă acesta și tipul de node pe care dorim să îl avem în acest cluster. Aici se referă la mașina virtuală pe care o alegem (o să selectăm ceva mai mică mașină virtuală, t2.small). O să ne creem un singur astfel de node (într-un mediu de producție se recomandă să existe un număr de 3 node-uri minim)"
   ]
  },
  {
   "cell_type": "markdown",
   "metadata": {},
   "source": [
    "<img src=\"../ss/aws-data-engineer-section-04/section-04-ss-16.png\">"
   ]
  },
  {
   "cell_type": "markdown",
   "metadata": {},
   "source": [
    "După ce ne setăm aceste informații trebuie să specificăm informațiile pentru partea de networking. Aici trebuie ales un anumit VPC unde să existe acest cluster, un subnet pentru cluster-ul respectiv și security group. Următoarea opțiune este ce de rol IAM. Atunci când ne creem un astfel de rol, trebuie să îi oferim anumite permisiuni serviciul de DynamoDB. Aici se specificăm și ce roluri o să îi oferim acestui cluster (read and write) și pentru ce tabele. Avem opțiunea de a selecta doar anumite tabele, sau să oferim toatele tabelele."
   ]
  },
  {
   "cell_type": "markdown",
   "metadata": {},
   "source": [
    "<img src=\"../ss/aws-data-engineer-section-04/section-04-ss-17.png\">"
   ]
  },
  {
   "cell_type": "markdown",
   "metadata": {},
   "source": [
    "În pasul 4 (cel de VEry advanced setting), aici se stabiles (după cum spune și numele) setări avansate pentru acest cluster. O primă setare este cea de \"parameter group\". Acastă secțiune conține anumite opțiuni specifice pentru acest cluster. Secțiunea de parameter group se poate găsi în panoul de navigare din DAX"
   ]
  },
  {
   "cell_type": "markdown",
   "metadata": {},
   "source": [
    "<img src=\"../ss/aws-data-engineer-section-04/section-04-ss-18.png\">"
   ]
  },
  {
   "cell_type": "markdown",
   "metadata": {},
   "source": [
    "Mai sus este prezentă secțiunea de Parameter Group. Aici se pot crea opțiuni diferite pentru un cluster de DAX în care să se specifice pentru cât timp să se păstreze acel cache (noi o să ne folosim de parametrul default care ne oferă 5 minute de item time și query time)."
   ]
  },
  {
   "cell_type": "markdown",
   "metadata": {},
   "source": [
    "<img src=\"../ss/aws-data-engineer-section-04/section-04-ss-19.png\">"
   ]
  },
  {
   "cell_type": "markdown",
   "metadata": {},
   "source": [
    "Acest parametru default trebuie specificat după cum spuneam la pasul 4, în secțiunea de parameter group. Ultima setare pe care putem să o facem este cea de \"maintanance window\". Acest cluster fiind unul manageriat în totalitate de către Amazon, și fiind un cluster, există momente când se face update la acesta. În timpul acestui update, sau în timpul mentenanței, acest cluster nu o să fie disponibil. Din acest caz putem să specificăm o oră anume la care să se realizeze această mentenanță, sau putem lăsa asta la decizia DAX."
   ]
  },
  {
   "cell_type": "markdown",
   "metadata": {},
   "source": [
    "După ce am specificat fiecare opțiune putem să creem acest cluster de DAX."
   ]
  },
  {
   "cell_type": "markdown",
   "metadata": {},
   "source": [
    "<img src=\"../ss/aws-data-engineer-section-04/section-04-ss-20.png\">"
   ]
  },
  {
   "cell_type": "markdown",
   "metadata": {},
   "source": [
    "După ce ne-am creat acest cluster, la informațiile generale despre acesta putem găsi endpoint-ul care s-a creat pentru cluster-ul respectiv. Acest endpoint trebuie să îl folosim atunci când dorim să ne folosim de acest cluster, de datele pe care le are în cache."
   ]
  }
 ],
 "metadata": {
  "language_info": {
   "name": "python"
  }
 },
 "nbformat": 4,
 "nbformat_minor": 2
}
