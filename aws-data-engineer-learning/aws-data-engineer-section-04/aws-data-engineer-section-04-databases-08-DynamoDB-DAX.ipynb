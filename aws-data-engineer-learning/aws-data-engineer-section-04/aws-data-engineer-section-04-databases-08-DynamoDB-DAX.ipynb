{
 "cells": [
  {
   "cell_type": "markdown",
   "metadata": {},
   "source": [
    "# Amazon DynamoDB DAX"
   ]
  },
  {
   "cell_type": "markdown",
   "metadata": {},
   "source": [
    "În continuare o să vorbim despre Amazon DynamoDB DAX (DynamoDB Accelerator). Acesta este un sistem de cache in-memory pentru DynamoDB (manageriat în totalitate de către Amazon). Sistemul respectiv de cache ne permite să ne creem un cache pentru datele cele mai utilizate din cadrul acestui table, iar prin acest fel o să avem răspunsuri din partea serverului de microsecunde (pentru datele care se găsesc în acest cache). Nu necesită nicio modificare a logisticii aplicației, fiind compatibil cu API-urile existente din DynamoDB"
   ]
  },
  {
   "cell_type": "markdown",
   "metadata": {},
   "source": [
    "Între aplicație și layer-ul de Amazon DynamoDB o să ne adăugăm un nou layer, cel de DAX Cluster. În cadrul acestui cluster o să ne adăugăm node-uri care o să conțină datele ce au fost cache-uite. În cadrul unui astfel de cluster avem un TLL de cache de 5 minute (setat în mod default). De asemeneam nunărul de node-uri care poate fi creat într-un astfel de cluster este de 10. Acest Cluster de DAX poate rezolva problema de Throttling pentru partea de RCU, deoarece utilizând acest cluster o să citim uneori date și din acest cluster de cache, nu direct din tabele ceea ce înseamnă că se consumă mai puține unități de citire."
   ]
  }
 ],
 "metadata": {
  "language_info": {
   "name": "python"
  }
 },
 "nbformat": 4,
 "nbformat_minor": 2
}
