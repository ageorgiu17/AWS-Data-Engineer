{
 "cells": [
  {
   "cell_type": "markdown",
   "metadata": {},
   "source": [
    "# Amazon DynamoDB - Indexes Hands-on"
   ]
  },
  {
   "cell_type": "markdown",
   "metadata": {},
   "source": [
    "Ca să exersăm pe partea de index în DynamoDB o să ne creem un nou tabel din consolă."
   ]
  },
  {
   "cell_type": "markdown",
   "metadata": {},
   "source": [
    "<img src=\"../ss/aws-data-engineer-section-04/section-04-ss-11.png\">"
   ]
  },
  {
   "cell_type": "markdown",
   "metadata": {},
   "source": [
    "Atunci când creem un nou tabel, avem opțiunea de a crea fie Local index, fie globally index. După cum spunea, un Local Index poate fi creat doar atunci când se creează tabelul, dar un Global Index poate fi creat și după ce tabelul respectiv a fost creat. Atunci când se creează un Local Index se poate oferi ca și input valoare de atribut doar pentru sort key (este singura opțiune disponibilă). Când se creează un Global Index, pentru acesta putem specifica atât un Primary Key, cât și un Sort Key. O să ne creem momentan doar un Local Index, doarece pentru Global Index putem să facem asta și după ce avem creat tabelul"
   ]
  },
  {
   "cell_type": "markdown",
   "metadata": {},
   "source": [
    "<img src=\"../ss/aws-data-engineer-section-04/section-04-ss-12.png\">"
   ]
  },
  {
   "cell_type": "markdown",
   "metadata": {},
   "source": [
    "Acest Local Index o să fie pentru atributul de \"game_id\" și pentru partea de \"attribute projection\" o să selectăm \"all\". După ce am creat acest Local Index putem să creem și tabelul respectiv. După ce ne-am creat acest tabel, din secțiunea de \"Explore items\", la secțiunea de Scan or query, dacă selectăm opțiunea de \"Query\", în acest moment, Amazon DynamoDB ne întrebă dacă dorim să selectăm un query sau un tabel."
   ]
  },
  {
   "cell_type": "markdown",
   "metadata": {},
   "source": [
    "<img src=\"../ss/aws-data-engineer-section-04/section-04-ss-13.png\">"
   ]
  },
  {
   "cell_type": "markdown",
   "metadata": {},
   "source": [
    "În momentul în care selectăm \"demo_indexes\", atunci partea de sort key rămâne atributul pe care l-am setat atunci când am creat tabelul (atributul de \"game_ts\"). În momentul în care selectăm să facem query pe un index, atributul de \"game_id\" devine acuma acel sort key (acesta este atributul pe care l-am setat în momentul în care am creat acest index la definirea tabelului)"
   ]
  },
  {
   "cell_type": "markdown",
   "metadata": {},
   "source": [
    "<img src=\"../ss/aws-data-engineer-section-04/section-04-ss-14.png\">"
   ]
  },
  {
   "cell_type": "markdown",
   "metadata": {},
   "source": [
    "Atunci când navigăm la secțiunea de \"Indexes\" din tabelul creat, în acestă secțiune se pot observa cele două categorii de indexes (Global Index și Local Index). În secțiunea de Local Index se găsește index-ul pe care l-am creat la definirea tabelului. După cum se poate observa, nu există opțiunea de a crea un Local Index, însă există opțiunea de a crea un Global Index. În continuare o să facem asta, o să ne creem un Global Index."
   ]
  },
  {
   "cell_type": "markdown",
   "metadata": {},
   "source": [
    "În momentul în care ne creem un Global Index este nevoie să oferim o valoare atât pentru Primary Key, cât și pentru Sort Key. După cum specificam, pentru un astfel de Global Index trebuie să specificăm și capacitățile de scriere și de citire separat. Putem fie să copiem aceste setări de capacități din tabelul din care face parte, ori putem să specificăm opțiuni diferite pentru acest index"
   ]
  },
  {
   "cell_type": "markdown",
   "metadata": {},
   "source": [
    "<img src=\"../ss/aws-data-engineer-section-04/section-04-ss-15.png\">"
   ]
  },
  {
   "cell_type": "markdown",
   "metadata": {},
   "source": [
    "După ce ne-am creat acest index, acesta o să apară în lista de Gloal Index și de asemenea și în lista de query din explore items, putând acuma să facem query după acest index."
   ]
  },
  {
   "cell_type": "markdown",
   "metadata": {},
   "source": []
  }
 ],
 "metadata": {
  "language_info": {
   "name": "python"
  }
 },
 "nbformat": 4,
 "nbformat_minor": 2
}
