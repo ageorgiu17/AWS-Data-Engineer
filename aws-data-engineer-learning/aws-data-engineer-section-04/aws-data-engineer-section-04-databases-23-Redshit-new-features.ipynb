{
 "cells": [
  {
   "cell_type": "markdown",
   "metadata": {},
   "source": [
    "# Amazon Redshift New Features"
   ]
  },
  {
   "cell_type": "markdown",
   "metadata": {},
   "source": [
    "Observând că acest serviciu de Redshift este tot mai utilizat, cei de la AWS au mai tot adăugat noi features pentru acesta. Dintre acestea putem enumera:"
   ]
  },
  {
   "cell_type": "markdown",
   "metadata": {},
   "source": [
    "1. RA3 - un nou tip de node special și optimizat pentru redshift. Acest tip de node vine cu ceea ce poartă denumirea de \"Managed storage\". Prin acest node eu au separat resursele de storage de cele de compute, deoarece de cele mai multe ori aceste două tipuri de memorii sunt foarte diferite și au nevoie de resurse diferite.\n",
    "\n",
    "2. Redshoft Data Lake Export - putem să slavăm rezultatele unui query mare direct în S3 în format parquet (care este de 2x rapid pentru partea de unload și ocupă de 6x mai puțin storage).\n",
    "\n",
    "3. Spatial Data Types - au adăugat și aceste tipuri de date spațile în Redshift, date geometrie sau geografice\n",
    "\n",
    "4. AQUA (Advanced Query Accelerator) - un layer care se găsește între S3 și cluster-ul de Redshift și face ca query-urile ce rulează pe S3 să fie mai rapide. Acest layer se găsește fizic mai aproape de datele ce stau în S3 și astfel interogarea se face mai repede. Este de 10x mai rapid, este gratis și nu necesită modificări de cod. Singura dependință a acestuia este faptul că poate rula doar pe nodeurile de tipul ra3.4xl sau ra3.16xl\n",
    "\n",
    "5. Redshift ML - crearea de modelele utilizând code de SQL (create model). În spate folosește defapt Amazon SageMaker AutoPilot"
   ]
  }
 ],
 "metadata": {
  "language_info": {
   "name": "python"
  }
 },
 "nbformat": 4,
 "nbformat_minor": 2
}
