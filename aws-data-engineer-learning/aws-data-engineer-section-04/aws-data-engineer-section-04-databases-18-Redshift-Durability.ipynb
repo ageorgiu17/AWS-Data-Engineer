{
 "cells": [
  {
   "cell_type": "markdown",
   "metadata": {},
   "source": [
    "# Amazon Redshift Durability"
   ]
  },
  {
   "cell_type": "markdown",
   "metadata": {},
   "source": [
    "Redshift creează replici ale datelor în cadrul clusterului atunci când sunt făcute load la date în mod automat, iar pe lângă asta, datelor le este făcut un backup în S3. Trei copii ale datelor sunt păstrate, datele originale, replică a datelor în cluster (în compute node) și acest backup în S3. Pentru zona de Disaster recovery, Amazon Redshift face backup la date în mod asincron și în alte regiuni de S3. Redshift are și capacitatea de a detecta și de a înlocui un node care nu funcționează cum trebuie în mod automat, dar până ce acest nod este recreat, cluster-ul o să fie indisponibil pentru query-uri de citire și de update"
   ]
  },
  {
   "cell_type": "markdown",
   "metadata": {},
   "source": [
    "În ceea ce privește partea de scaling, Redshift suportă un scale atât orizontal (crescând numărul de nodes) cât și vertical (crescând tipul de node). Atunci când facem un request să se realizeze anumite schimbări ce țin de partea de scalinig, acestea o să fie aplicate imediat. Atunci când se realizează partea de scaling, un cluster o să rămână disponibil pentru operații de citire în timp ce un nou cluster este creat cu noile specificații. După ce noul cluster este gata, clusterul existent nu o să mai fie disponibil până ce recordurile din acest cluster de data wearhouse sunt mutate către noul cluster. Acest proces de obicei durează câteva minute. Datele către noul cluster o să fie mutate în paralel către noul cluster"
   ]
  },
  {
   "cell_type": "markdown",
   "metadata": {},
   "source": []
  }
 ],
 "metadata": {
  "language_info": {
   "name": "python"
  }
 },
 "nbformat": 4,
 "nbformat_minor": 2
}
