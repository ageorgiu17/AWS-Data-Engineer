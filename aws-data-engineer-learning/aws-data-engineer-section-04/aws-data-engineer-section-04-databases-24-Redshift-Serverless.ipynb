{
 "cells": [
  {
   "cell_type": "markdown",
   "metadata": {},
   "source": [
    "# Amazon Redshift Serverless"
   ]
  },
  {
   "cell_type": "markdown",
   "metadata": {},
   "source": [
    "Prin adăugarea de Redshift Serverless, există posibilitatea de scalare automată pentru workload-ul pe care îl avem în clusterul respectiv. Adăugarea acestui serviciu are scopul de a reduce costul unui cluster de Redshift și de a crește performața aceastuia. În spate, acesta folosește ceva model de Machine Learning pentru a verifica constant workload-ul și de a face o anumită predicție pentru ce resurse ar avea nevoie. Acest tip de serverless este perfect pentru crearea unui cluster rapid pentru testare."
   ]
  },
  {
   "cell_type": "markdown",
   "metadata": {},
   "source": [
    "Momenta, atunci când ne creem un cluster de Redshift Serverless trebuie să creem manual un IAM role care să conțină următorul Policy"
   ]
  },
  {
   "cell_type": "code",
   "execution_count": null,
   "metadata": {},
   "outputs": [],
   "source": [
    "{\n",
    "    \"Version\": \"2012-10-17\",\n",
    "    \"Statement\": [\n",
    "        {\n",
    "            \"Effect\": \"Allow\",\n",
    "            \"Action\": \"redshift-serverless:*\",\n",
    "            \"Resource\": \"*\"\n",
    "        }\n",
    "    ]\n",
    "}"
   ]
  },
  {
   "cell_type": "markdown",
   "metadata": {},
   "source": [
    "După crearea acestui IAM role, tot ce trebuie să facem este să oferim informații pentru:\n",
    "\n",
    "- numele bazei de date\n",
    "\n",
    "- credențialele de admin\n",
    "\n",
    "- VPC\n",
    "\n",
    "- setări de encriptare\n",
    "\n",
    "- logging"
   ]
  },
  {
   "cell_type": "markdown",
   "metadata": {},
   "source": [
    "După ce oferim aceste informații o să avem un cluster de Redshift."
   ]
  },
  {
   "cell_type": "markdown",
   "metadata": {},
   "source": [
    "Capacitatea de măsurare pentru un Redshift Serverless este denumită \"Redshift Processing Units\" (RPU's). Se plătește pentru aceste RPU pe ore (calculate pe secundă) plus capacitatea de storage. Putem să ne setăm un RPU de bază atunci când ne creem clusterul în cazul în care știm dinainte că avem nevoie de o procesare mai rapidă de date."
   ]
  },
  {
   "cell_type": "markdown",
   "metadata": {},
   "source": []
  }
 ],
 "metadata": {
  "kernelspec": {
   "display_name": "Python 3",
   "language": "python",
   "name": "python3"
  },
  "language_info": {
   "name": "python",
   "version": "3.9.6"
  }
 },
 "nbformat": 4,
 "nbformat_minor": 2
}
