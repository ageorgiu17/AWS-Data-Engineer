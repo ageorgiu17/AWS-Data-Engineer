{
 "cells": [
  {
   "cell_type": "markdown",
   "metadata": {},
   "source": [
    "# Amazon RDS (Relational Database Service)"
   ]
  },
  {
   "cell_type": "markdown",
   "metadata": {},
   "source": [
    "Am terminat secțiunea de baze de date NoSQL, acum o să aruncăm o privire scurtă peste partea de baze de date relaționale și ce servicii există în AWS pentru astfel de baze de date. De cele mai multe ori, aceste tipuri de baze de date sunt mai potrivite pentru mai puține informații (nu pentru Big Data). Ce este Amazon RDS?"
   ]
  },
  {
   "cell_type": "markdown",
   "metadata": {},
   "source": [
    "Amazon RDS este un host pentru orice tip de bază de date relațională\n",
    "\n",
    "- PostgreSQL\n",
    "\n",
    "- MySQL\n",
    "\n",
    "- Amazon Aurora\n",
    "\n",
    "- MariaDB\n",
    "\n",
    "- Oracle\n",
    "\n",
    "- SQL Server"
   ]
  },
  {
   "cell_type": "markdown",
   "metadata": {},
   "source": [
    "#### Amazon Aurora"
   ]
  },
  {
   "cell_type": "markdown",
   "metadata": {},
   "source": [
    "Este un serviciu de baze de date relațional care este compatibil cu MySQL și PostgreSQL. Un avantaj al folosirii acestui serviciu este faptul că poate fi de până la 5 ori mai rapid decât MySQL și de 3 ori mai rapid decât PostgreSQL. De asemenea, acest serviciu este și unul foarte ieftin în comparație cu bazele de date comercial (Amazon susține că ai doar o zecime 1/10 din costul unei baze de date comerciale). Ca și alte features putem să menționăm:\n",
    "\n",
    "- Se poate stoca până la 128 TB per database\n",
    "\n",
    "- putem să ne creem un număr de 15 read replicas care să ne crească performanța acestei baze de date (citire la milisecundă)\n",
    "\n",
    "- se face backup continuu în S3\n",
    "\n",
    "- se realizează partea de replicare în regiuni și availability zones diferite"
   ]
  },
  {
   "cell_type": "markdown",
   "metadata": {},
   "source": []
  }
 ],
 "metadata": {
  "language_info": {
   "name": "python"
  }
 },
 "nbformat": 4,
 "nbformat_minor": 2
}
