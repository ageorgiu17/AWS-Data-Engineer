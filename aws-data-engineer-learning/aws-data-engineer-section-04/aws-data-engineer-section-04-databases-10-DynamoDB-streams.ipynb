{
 "cells": [
  {
   "cell_type": "markdown",
   "metadata": {},
   "source": [
    "\n",
    "# Amazon DynamoDB Streams"
   ]
  },
  {
   "cell_type": "markdown",
   "metadata": {},
   "source": [
    "Aceste stream reprezintă un liste ordonate (order list) la nivel de modificare de item, precum create, read, update, delete, etc. De fiecare dată când se creează un anumit item, se modifică sau se șterge acest item, notificarea respectivă o să fie vizibilă în acest Stream. Aceste notificări pot fi trimise mai departe către:\n",
    "\n",
    "- Kinesis Data Stream\n",
    "\n",
    "- Read using AWS Lambda Function\n",
    "\n",
    "- Read by Kinesis Client Library Application"
   ]
  },
  {
   "cell_type": "markdown",
   "metadata": {},
   "source": [
    "Datele din strem-ul de DynamoDB au o viață de 24 de ore. Dacă dorim să păstrăm acest date pentru mai mult timp, atunci trebuie să introducem aceste data în alt sistem (precum Kinesis Data Stream). Aceste notificări de evenimente ne pot ajuta să oferim updates în timp real pentru anumiți useri (trimiterea unui mesaj de confirmare la crearea unui cont), partă de analiză"
   ]
  },
  {
   "cell_type": "markdown",
   "metadata": {},
   "source": [
    "Atunci când vorbim despre Stream-urile din DynamoDB pentru acestea se poate să stabilim ce date o să fie trecute în acest stream. Astfel putem să avem:\n",
    "\n",
    "- KEYS_ONLY = doar cheile atributelor pentru item-urile care au fost modificate\n",
    "\n",
    "- NEW_IMAGE = întregul item, așa cum apare după modificare\n",
    "\n",
    "- OLD_IMAGE = întregul item, dar cum a apărut înainte de modificare\n",
    "\n",
    "- NEW_AND_OLD_IMAGE = datele înainte și după modificarea item-ului"
   ]
  },
  {
   "cell_type": "markdown",
   "metadata": {},
   "source": []
  }
 ],
 "metadata": {
  "language_info": {
   "name": "python"
  }
 },
 "nbformat": 4,
 "nbformat_minor": 2
}
