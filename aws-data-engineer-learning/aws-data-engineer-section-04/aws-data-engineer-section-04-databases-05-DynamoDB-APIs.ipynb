{
 "cells": [
  {
   "cell_type": "markdown",
   "metadata": {},
   "source": [
    "# Amazon DynamoDB - APIs"
   ]
  },
  {
   "cell_type": "markdown",
   "metadata": {},
   "source": [
    "În lecția curentă o să trecem peste partea API calls din DynamoDB."
   ]
  },
  {
   "cell_type": "markdown",
   "metadata": {},
   "source": [
    "### PutItem"
   ]
  },
  {
   "cell_type": "markdown",
   "metadata": {},
   "source": [
    "Acest API se ocupă cu parte de creare a unui nou item în tabel (sau înlocuirea deplină a unui item dacă acel primary key există deja). Atunci când se utilizează acest API se consumă din WCU"
   ]
  },
  {
   "cell_type": "markdown",
   "metadata": {},
   "source": [
    "### UpdateItem"
   ]
  },
  {
   "cell_type": "markdown",
   "metadata": {},
   "source": [
    "Acest API modifică doar numite atribute ale unui item (acelea pe care le specificăm în call). Dacă item-ul cu acel primary key nu există, o să fie creat un item nou. Acest API poate fi utilizat pentru a implementa \"Atomic Counters\" - un atribut numeric care este incrementat necondițional"
   ]
  },
  {
   "cell_type": "markdown",
   "metadata": {},
   "source": [
    "### Conditional Writes"
   ]
  },
  {
   "cell_type": "markdown",
   "metadata": {},
   "source": [
    "Aceste tipuri de API call acceptă operații de write/update/delete dacă o anumită condiție (sau mai multe) sunt îndeplinite. Acest tip de call-uri ajută la partea de concurrent acces către date."
   ]
  },
  {
   "cell_type": "markdown",
   "metadata": {},
   "source": [
    "### GetItem"
   ]
  },
  {
   "cell_type": "markdown",
   "metadata": {},
   "source": [
    "Utilizat pentru a citi date. Se utilizează acel primary key pentru parte de citire. Se folosește ca și mod de citire Eventually Consistent Read (dar s poate opta și pentru Strongly Consistent Read). De asemenea, se poate folosi un anumit \"ProjectionExpression\" prin care să specificăm ce atribute să fie returnate. "
   ]
  },
  {
   "cell_type": "markdown",
   "metadata": {},
   "source": [
    "### Query"
   ]
  },
  {
   "cell_type": "markdown",
   "metadata": {},
   "source": [
    "Partea de query returnează date în funcție de:\n",
    "\n",
    "- KeyConditionExpression\n",
    "\n",
    "    - expresii de query-uri care se folosec de partition key (must be = operator) sau de sort key. Pentru sort key se pot utiliza operații precum =, <, >, Between, Begins with. Partea de partition key este obligatorie în acest tip de query, iar cea de sort key este opțională\n",
    "\n",
    "- FilterExpression\n",
    "\n",
    "    - filtrare adițională a atributelor după ce procesul de query a fost executat (înainte ca datele să fie returnate). Acest tip de filtrare folosește atributele care nu sunt keys.\n",
    "\n",
    "Query-urile returnează un număr specific de items (dacă se folosește cuvântul cheie \"limit\") sau o valoare maximă de până la 1 MB. Aceste date sunt returnate sub formă de listă."
   ]
  },
  {
   "cell_type": "markdown",
   "metadata": {},
   "source": [
    "### Scan"
   ]
  },
  {
   "cell_type": "markdown",
   "metadata": {},
   "source": [
    "Este folosit pentru a scana întregul table și apoi să facem filtrarea de date. Acest tip de interogare de date este destul de ineficient. Acesta folosește foarte mult RCU deoarece se scanează întreg tabelul."
   ]
  },
  {
   "cell_type": "markdown",
   "metadata": {},
   "source": [
    "### DeleteItem"
   ]
  },
  {
   "cell_type": "markdown",
   "metadata": {},
   "source": [
    "Pentru a șterge anumite items. Se poate șterge ori un singur item, ori se poate realiza un delete condițional în care să ștergem anumite date care conțin anumite informații"
   ]
  },
  {
   "cell_type": "markdown",
   "metadata": {},
   "source": [
    "### DeleteTable"
   ]
  },
  {
   "cell_type": "markdown",
   "metadata": {},
   "source": [
    "Utilizat pentru a șterge un tabel întreg. Acest tip de ștergere este mult mai rapid și recomandat decât să facem un scan la întregul tabel și să ștergem fiecare item din tabel."
   ]
  },
  {
   "cell_type": "markdown",
   "metadata": {},
   "source": [
    "### Batch operations"
   ]
  },
  {
   "cell_type": "markdown",
   "metadata": {},
   "source": [
    "Amazon DynamoDB ne pune la dispoziție și anumite API-uri pentru procesări în batch-uri. Aceste procesări o să scadă din viteza de scriere (deaorece se scriu sau se citesc mai multe items în același timp în paralel) și o să scadă și numărul de API calls. Anumite părți dintr-un proces de batch pot să rezulte cu fail, caz în care trebuie să repetăm operația (write, delete, get) doar pentru acele items care au rezultat cu fail."
   ]
  },
  {
   "cell_type": "markdown",
   "metadata": {},
   "source": [
    "BatchWriteItem\n",
    "\n",
    "- permite până la 25 de PutItem sau DeleteItem într-un singur call\n",
    "\n",
    "- până la 16 MB de date scrise per call (400 KB per call)\n",
    "\n",
    "- nu se poate face update la items\n",
    "\n",
    "- pentru item-urile cu fail o să se returneze \"UnprocessedItems\". Pentru aceste items putem să creem o buclă și să se tot încerce procesul, sau se poate mări cantitatea de unități (ori de scriere ori de citire)\n"
   ]
  },
  {
   "cell_type": "markdown",
   "metadata": {},
   "source": [
    "BatchGetItem\n",
    "\n",
    "- returnează items din unul sau mai multe tabele\n",
    "\n",
    "- până la 100 de items returnate, sau până la 16 MB de date\n",
    "\n",
    "- items sunt returnate în paralel pentru a scădea timpul de așteptare"
   ]
  },
  {
   "cell_type": "markdown",
   "metadata": {},
   "source": [
    "### PartiQL"
   ]
  },
  {
   "cell_type": "markdown",
   "metadata": {},
   "source": [
    "Se poate utiliza cod de SQL pentru p bază de date NoSQL"
   ]
  }
 ],
 "metadata": {
  "language_info": {
   "name": "python"
  }
 },
 "nbformat": 4,
 "nbformat_minor": 2
}
