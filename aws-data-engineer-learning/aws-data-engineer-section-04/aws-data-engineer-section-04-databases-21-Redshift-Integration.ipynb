{
 "cells": [
  {
   "cell_type": "markdown",
   "metadata": {},
   "source": [
    "# Amazon Redshift - Integration"
   ]
  },
  {
   "cell_type": "markdown",
   "metadata": {},
   "source": [
    "Să vedema acuma cum se integrează serviciul de Amazon Redshift cu alte servicii existente în AWS. Putem să folosim partea de parallel processing ca să exportăm datele din Redshift în mai multe fișiere din S3. De asemenea putem și să păstrăm datele în S3 și să rulăm query-uri pe aceste date utilizând Redshift Spectrum."
   ]
  },
  {
   "cell_type": "markdown",
   "metadata": {},
   "source": [
    "Pentru partea de DynamoDB se poate utiliza comanda de COPY pentru a copia datele dintr-un tabel de DynamoDB în Redshift. Comanda COPY se poate utiliza și pentru a copia date dintr-un cluster de EMR sau dintr-o instanță de EC2 utilizând SSH."
   ]
  },
  {
   "cell_type": "markdown",
   "metadata": {},
   "source": [
    "#### Redshift WLM (Workload management)"
   ]
  },
  {
   "cell_type": "markdown",
   "metadata": {},
   "source": [
    "Acest concept ajută userii să prioritizeze workload-ul astfel încât quer-urile scurte care durează mai puțin să nu aștepte după cele lungi. Prin acest concept, un query scurt o să ruleze rapid, nefiind nevoit să aștepte până ce se rulează un query care durează super mult. Acest proces funcționează prin crearea de queue-uri pentru query la runtime"
   ]
  },
  {
   "cell_type": "markdown",
   "metadata": {},
   "source": [
    "Acest concept de WLM vine în mai multe opțiuni. Una dintre aceste opțiuni este cea de \"Automatic\". Cu ajutorul acestuia putem seta un număr de până la 8 queues, iar în mod default o să existe un număr de 5 queues cu alocare de memorie egală între acestea. Dacă există query-uri mari (unde se realizează anumite join-uri), partea de concurrency o să fie mai mică, iar pentru query-urile mai simple (insert, scan, aggregations), aceasta o să fie mai mare (concurrency, câte query-uri putem rula simultan)."
   ]
  },
  {
   "cell_type": "markdown",
   "metadata": {},
   "source": [
    "#### Concurrency scaling"
   ]
  },
  {
   "cell_type": "markdown",
   "metadata": {},
   "source": [
    "Acest feature ne permite să adăugăm capacite în cluster ca să se ocupe de operațiile de read. Poate suporta un număr nelimitat de users concurent și query-uri."
   ]
  }
 ],
 "metadata": {
  "language_info": {
   "name": "python"
  }
 },
 "nbformat": 4,
 "nbformat_minor": 2
}
