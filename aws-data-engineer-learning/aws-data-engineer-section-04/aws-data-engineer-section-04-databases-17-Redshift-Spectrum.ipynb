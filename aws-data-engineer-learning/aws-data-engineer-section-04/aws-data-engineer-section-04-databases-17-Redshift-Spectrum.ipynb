{
 "cells": [
  {
   "cell_type": "markdown",
   "metadata": {},
   "source": [
    "# Amazon Redshift Spectrum"
   ]
  },
  {
   "cell_type": "markdown",
   "metadata": {},
   "source": [
    "Redshift Spectrum ne permite să facem query la exabytes de date (peste Pentabytes) din S3 fără să le facem upload într-un cluster de Redshift. Acest serviciu oferă concurrency nelimitat (putem avea mai multe query-uri care rulează în paralel și care accesează aceleași date) și dispune de scaling orizontal. Se poate face query pentru un număr vast de formate de date, precum avro, csv, JSON, Grok, Ion, Parquet, iar pe lângă acestea, suportă și compressi precum Gzip sau Snappy"
   ]
  },
  {
   "cell_type": "markdown",
   "metadata": {},
   "source": []
  }
 ],
 "metadata": {
  "language_info": {
   "name": "python"
  }
 },
 "nbformat": 4,
 "nbformat_minor": 2
}
