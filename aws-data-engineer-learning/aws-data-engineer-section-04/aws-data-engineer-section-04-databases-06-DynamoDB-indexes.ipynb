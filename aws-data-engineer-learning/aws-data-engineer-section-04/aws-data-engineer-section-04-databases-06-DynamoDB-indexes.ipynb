{
 "cells": [
  {
   "cell_type": "markdown",
   "metadata": {},
   "source": [
    "# Amazon DynamoDB Indexes"
   ]
  },
  {
   "cell_type": "markdown",
   "metadata": {},
   "source": [
    "În cadrul Amazon DynamoDB există două categorii de index."
   ]
  },
  {
   "cell_type": "markdown",
   "metadata": {},
   "source": [
    "### Local Secondary Index (LSI)"
   ]
  },
  {
   "cell_type": "markdown",
   "metadata": {},
   "source": [
    "Acest tip de index ne oferă un sert key adițional pentru a putea sorta și filtra datele mai repede. Acest sort key consistă dintr-un atribut de tipul string, număr sau binary. Avem posibilitatea de a crea un număr de 5 astfel de LSI, dar acestea trebuie specificate în momentul în care se definește tabelul. Putem să specificăm toate atributele din tabel să fie de tipul LSI (dacă avem un număr de 5 atribute), sau doar unele dintre ele."
   ]
  },
  {
   "cell_type": "markdown",
   "metadata": {},
   "source": [
    "<img src=\"../ss/aws-data-engineer-section-04/section-04-ss-09.png\">"
   ]
  },
  {
   "cell_type": "markdown",
   "metadata": {},
   "source": [
    "### Global Security Index (GSI)"
   ]
  },
  {
   "cell_type": "markdown",
   "metadata": {},
   "source": [
    "Acest tip de index ne oferă o nouă posibilitate de primary key în cadrul tabelului. Acest tip de index crește performanța de citire  și de scriere din tabel, dar totodată trebuie să stabilim și unități noi de capacitate de scriere și de citire pentru acest tip de index (aproape ca și cum am avea un tabel nou). Un aspect important pentru acest tip de index este faptul că se pot modifica/adăuga/șterge după ce am creat tabelul."
   ]
  },
  {
   "cell_type": "markdown",
   "metadata": {},
   "source": [
    "<img src=\"../ss/aws-data-engineer-section-04/section-04-ss-10.png\">"
   ]
  },
  {
   "cell_type": "markdown",
   "metadata": {},
   "source": [
    "După cum se poate observa în imaginea de mai sus, este ca și cum ne-am crea un nou tabel în care acuma atributul de \"Game_ID\" reprezintă acel partition key după care putem să facem search în tabel."
   ]
  },
  {
   "cell_type": "markdown",
   "metadata": {},
   "source": []
  }
 ],
 "metadata": {
  "language_info": {
   "name": "python"
  }
 },
 "nbformat": 4,
 "nbformat_minor": 2
}
