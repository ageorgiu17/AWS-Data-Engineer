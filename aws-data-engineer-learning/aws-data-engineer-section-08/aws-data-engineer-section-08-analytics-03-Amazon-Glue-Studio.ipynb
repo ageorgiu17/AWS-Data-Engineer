{
 "cells": [
  {
   "cell_type": "markdown",
   "metadata": {},
   "source": [
    "# Amazon Glue Studio"
   ]
  },
  {
   "cell_type": "markdown",
   "metadata": {},
   "source": [
    "Acest studio reprezintă o interfață grafică pentru partea de creare și manage la workflow într-un mod vizual. Ne permite să creem pipeline-uri de ETL mai complexe, unde poate avem mai multe operații de transformare care se întâmplă în paralel pentru datele sursă, ne permite să creem DAG-uri într-un mod vizual. Ca și surse pentru datele de intrare putem menționa S3, Kinese, Kafka sau surse de JDBC. După parte de transformare și procesare de date, datele pot fi scrise înapoi în S3 sau în Glue Data Catalog."
   ]
  },
  {
   "cell_type": "markdown",
   "metadata": {},
   "source": [
    "<center><img src=\"../ss/aws-data-engineer-section-08/section-08-ss-02.png\" width=700</center>"
   ]
  },
  {
   "cell_type": "markdown",
   "metadata": {},
   "source": [
    "Ca să ajungem la Studio, navigăm la serviciul de Glue,iar în dashboard-ul din partea stângă avem secțiunea de ETL Jobs. Din această secțiune o să alegem opțiunea de Visual ETL (care ne permite să creem un pipeline de ETL într-un mod vizual)"
   ]
  },
  {
   "cell_type": "markdown",
   "metadata": {},
   "source": [
    "<center><img src=\"../ss/aws-data-engineer-section-08/section-08-ss-03.png\" width=700</center>"
   ]
  },
  {
   "cell_type": "markdown",
   "metadata": {},
   "source": [
    "După ce selectăm opțiunea de Visual ETL o să se deschidă acel Glue Studio. În cadrul acestui Studio, în partea dreaptă avem opțiunile pe care putem să le adăugăm pentru acest job. Avem secțiuni pentru\n",
    "\n",
    "- Source = sursa de unde să preluăm datele respective\n",
    "\n",
    "- Transforms = transformările care să fie realizate pe sursele respective\n",
    "\n",
    "- Target = locația unde să fie copiate noile date transformate."
   ]
  },
  {
   "cell_type": "markdown",
   "metadata": {},
   "source": [
    "Utilizând aceste opțiuni grafice putem să realizăm anumite transformări pentru datele respective, transformări mai simple sau mai complexe. După ce terminăm cu partea de transformare de date putem să scriem datele într-o anumită locație. Pentru partea de target avem multe opțiuni, dintre care enumerăm AWS Glue Data Catalog, Amazon S3, PostgreSQL, MySQL, MongoDB, Snowflake și altele."
   ]
  },
  {
   "cell_type": "markdown",
   "metadata": {},
   "source": []
  }
 ],
 "metadata": {
  "language_info": {
   "name": "python"
  }
 },
 "nbformat": 4,
 "nbformat_minor": 2
}
