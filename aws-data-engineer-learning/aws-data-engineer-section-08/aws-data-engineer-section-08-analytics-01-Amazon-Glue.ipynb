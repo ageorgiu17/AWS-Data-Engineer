{
 "cells": [
  {
   "cell_type": "markdown",
   "metadata": {},
   "source": [
    "# Amazon Glue"
   ]
  },
  {
   "cell_type": "markdown",
   "metadata": {},
   "source": [
    "Acesta este un tool pentru crearea de definiții de tabele și executarea de ETL a datelor în mod automat. Glue este un serviciu de tip Serverless (nu trebuie să ne ocupăm cu partea de mentananță a computației) care se ocupă automat de partea de descoperire de scheme și definiții pentru tabele"
   ]
  },
  {
   "cell_type": "markdown",
   "metadata": {},
   "source": [
    "Scopul principal este de a centraliza metadatele din Data Lake. În mare parte se ocupă de extragerea de structuri de date din date nestrustructurate care sunt stocate în S3."
   ]
  },
  {
   "cell_type": "markdown",
   "metadata": {},
   "source": [
    "Alt scop al serviciului de Amazon Glue este partea de custom ETL (extract, transform, load). După ce descoperă acea schemă a datelor, poate să realizeze ceva procesare de date. Aceste pipeline-uri de modifcare de date pot fi triggeruite (atunci când apar date), se poate face scheduling la ele (să ruleze la o anumită dată sau oră) sau la cerere. Procesarea de date se face utilizând Apache Spark. Din moment ce acest serviciu este Serverless, nu trebuie să ne ocupăm de mentenanța clusterului de Spark, acesta fiind un avantaj deoarece Amazon se ocupă în totalitate de asta."
   ]
  },
  {
   "cell_type": "markdown",
   "metadata": {},
   "source": [
    "<center><img src=\"../ss/aws-data-engineer-section-08/section-08-ss-01.png\" width=700</center>"
   ]
  },
  {
   "cell_type": "markdown",
   "metadata": {},
   "source": [
    "În imaginea de mai sus ne este prezentat modul prin care putem utiliza serviciul de Glue. Glue folosește ceea ce poartă denumirea de 'Glue crawler' pentru a scana datele din S3 și pentru a crea o schemă a acestor date (o definiție pentru un eventual tabel). După ce creează această structură, stochează structura respectivă în Glue Data Catalog. Din momentul în care datele sunt catalogate, putem să utilizăm servicii precum Redsfit Spectrum, Amazon Athena, EMR ca să interogăm acele date ca și cum ar fi date structurate. Cu datele obținute prin interogare se poate să trimitem datele în Amazon QucikSight pentru partea de vizualizare"
   ]
  },
  {
   "cell_type": "markdown",
   "metadata": {},
   "source": []
  }
 ],
 "metadata": {
  "language_info": {
   "name": "python"
  }
 },
 "nbformat": 4,
 "nbformat_minor": 2
}
