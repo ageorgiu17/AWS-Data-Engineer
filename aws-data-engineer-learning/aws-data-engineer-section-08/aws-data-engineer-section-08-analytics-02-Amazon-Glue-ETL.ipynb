{
 "cells": [
  {
   "cell_type": "markdown",
   "metadata": {},
   "source": [
    "# Amazon Glue ETL"
   ]
  },
  {
   "cell_type": "markdown",
   "metadata": {},
   "source": [
    "Glue ETL poate să genereze cod automat pentru partea de transformare de date. Există posibilitatea de a genera într-o manieră grafică ce modificări dorim să realizăm pentru acele date, iar Glue o să ne genereze automat cod de Pyton sau de Scala (cod care o să ruleze pe Spark). Există și posibilitatea de a scrie noi acel cod. Se poate oferi DPU adițional (data processing units) pentru a crește puterea de procesare pentru Spark ca să proceseze mai repede datele. Putem să facem enable la metricile pentru job-uri astfel încât să ne dăm seama de metricile pentru Job-uri și să știm dacă trebuie să creștem acele DPU sau nu. "
   ]
  },
  {
   "cell_type": "markdown",
   "metadata": {},
   "source": [
    "Structura de bază cu care o să interacționăm poartă denumirea de DynamicFrame. O astfel de structură este alcătuită din DynamicRecords. Putem să ne gândim la un DynamicRecord ca și la un Spark DataFrame care însă conține mai multe informații relevante pentru partea de ETL."
   ]
  },
  {
   "cell_type": "markdown",
   "metadata": {},
   "source": [
    "Pentru partea de transformări, există anumite transformări default pe care le putem aplica, precum \n",
    "\n",
    "- DropFields, DropNullFields = ștergerea de date (sau de date nule)\n",
    "\n",
    "- Filter = filtrarea de date\n",
    "\n",
    "- Joins = combinarea de date, pentru a îmbogăți datele\n",
    "\n",
    "- Map = adăugare de field-uri, ștergere de field-uri\n"
   ]
  },
  {
   "cell_type": "markdown",
   "metadata": {},
   "source": [
    "Există și anumite transformări prestabilite pentru operații de Machine Learning. Dintre acesta putem să enumerăm:\n",
    "\n",
    "- FindMatches ML = caută elemente duplicate"
   ]
  },
  {
   "cell_type": "markdown",
   "metadata": {},
   "source": [
    "Alte modificări de date reprezintă transformarea de date dintr-un format în altul, iar formaturile suportate sunt CSV, JSON, Avro, Parquet, ORC, XML. Aceste conversii sunt realizate de către Spark. Orice se poate realiza cu Apache Spark, se poate realiza și cu Amazon Glue (chiar și modele de Machine Learning precum K-Means Clustering)"
   ]
  },
  {
   "cell_type": "markdown",
   "metadata": {},
   "source": []
  }
 ],
 "metadata": {
  "language_info": {
   "name": "python"
  }
 },
 "nbformat": 4,
 "nbformat_minor": 2
}
