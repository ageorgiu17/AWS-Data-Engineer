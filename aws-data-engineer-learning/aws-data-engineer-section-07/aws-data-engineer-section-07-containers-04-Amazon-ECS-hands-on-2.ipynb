{
 "cells": [
  {
   "cell_type": "markdown",
   "metadata": {},
   "source": [
    "# Amazon ECS - Hands-on 2"
   ]
  },
  {
   "cell_type": "markdown",
   "metadata": {},
   "source": [
    "În prima parte a tutorialului am creat un cluster de ECS. Pe acest cluster putem să facem deploy la anumite aplicații. Pentru a putea face deploy la un service, inițial trebuie să ne creem o definiție de task (Task definition). Pentru aceasta o să navigăm la clusterul creat, iar din secțiunea de Task Definition --> Create new task definition"
   ]
  },
  {
   "cell_type": "markdown",
   "metadata": {},
   "source": [
    "O să facemn deploy la o imagine de docker de nginx din docker hub. Pentru acest task trebuie să oferim următoarele informații:\n",
    "\n",
    "- Task definition family (nginxdemos-hello)\n",
    "\n",
    "- Launch Type (Fargate)\n",
    "\n",
    "- Operating System (Linux)\n",
    "\n",
    "- CPU (0.5)\n",
    "\n",
    "- Memory (1 GB)\n",
    "\n",
    "- Task execution role (Create new role)\n",
    "\n",
    "- Container name (nginxdemo-hello)\n",
    "\n",
    "- Container image URI (nginxdemo/hello)\n",
    "\n",
    "- Container port (80)\n",
    "\n",
    "Restul opțiunilor le lăsăm default"
   ]
  },
  {
   "cell_type": "markdown",
   "metadata": {},
   "source": [
    "<center><img src=\"../ss/aws-data-engineer-section-07/section-07-ss-06.png\" width=700</center>"
   ]
  },
  {
   "cell_type": "markdown",
   "metadata": {},
   "source": [
    "<center><img src=\"../ss/aws-data-engineer-section-07/section-07-ss-05.png\" width=700</center>"
   ]
  },
  {
   "cell_type": "markdown",
   "metadata": {},
   "source": [
    "La final putem să creem acest task definition."
   ]
  },
  {
   "cell_type": "markdown",
   "metadata": {},
   "source": [
    "Ce dorim să facem mai departe este să rulăm acest task într-un service în spate la un load balancer. Pentru asta o să navigăm la serviciul de EC2 la secțiunea de Security Groups. Trebuie să creem două Security Group noi.\n",
    "\n",
    "1. Application Load Balancer for Elastic Container Service\n",
    "\n",
    "    O să ne creem un security group pentru application Load Balancer din ECS. Acestui Security Group o să îi oferim următoarele informații:\n",
    "\n",
    "    - Security group name: application-load-balancer-ecs-andreig\n",
    "\n",
    "    - Description: Application Load Balancer for Elastic Container Service Security Group\n",
    "\n",
    "    - Outbound Rule1: Custom TCP - Port 80 - Anywhere IpV4 = permite conexiunea de oriunde pe portul 80 folosind o adresă de IpV4\n",
    "\n",
    "    - Outbound Rule2: Custom TCP - Port 80 - Anywhere IpV6 = permite conexiunea de oriunde pe portul 80 folosind o adresă de IpV6\n",
    " "
   ]
  },
  {
   "cell_type": "markdown",
   "metadata": {},
   "source": [
    "<center><img src=\"../ss/aws-data-engineer-section-07/section-07-ss-07.png\" width=700</center>"
   ]
  },
  {
   "cell_type": "markdown",
   "metadata": {},
   "source": [
    "2. Security Group for NGINX\n",
    "\n",
    "    Acest Security Group este pentru taks-ul ce o să ruleze în ECS. Acestui Security Group îi spunem că poate să primeasă conexiuni de pe orice port care vin din acel Security Group creat recent. Trebuie să îi oferim următorele informații:\n",
    "\n",
    "    - Security Group Name\n",
    "\n",
    "    - Description:\n",
    "\n",
    "    - Inbound Rule1: All TCP - application-load-balancer-ecs-andreig (destination)"
   ]
  },
  {
   "cell_type": "markdown",
   "metadata": {},
   "source": [
    "<center><img src=\"../ss/aws-data-engineer-section-07/section-07-ss-08.png\" width=700</center>"
   ]
  },
  {
   "cell_type": "markdown",
   "metadata": {},
   "source": [
    "Acum că avem cele două security groups create, putem să ne facem deploy la un service în clusterul de ECS. Pentru asta, din clusterul creat anterior, din secțiunea de 'Service' -> 'Create Service'"
   ]
  },
  {
   "cell_type": "markdown",
   "metadata": {},
   "source": [
    "Informații pentru a crea acest service:\n",
    "\n",
    "- Application Type: Service\n",
    "\n",
    "- Task Definition: nginxdemo-hello (task-ul creat în începutul acestei lecții)\n",
    "\n",
    "- Service name: nginxdemo-service\n",
    "\n",
    "- Desired task1: 1\n",
    "\n",
    "\n",
    "Load Balancing\n",
    "\n",
    "- Application Load Balancing - Create a new Application Load Balancer\n",
    "\n",
    "- Load balancer name: DemoALBforECS\n",
    "\n",
    "- Healt Check period: 20\n",
    "\n",
    "- Listener: port 80, protocol HTTP\n",
    "\n",
    "- Target group: name nginxdemo-target-group, protocol HTTP, health check path /\n",
    "\n",
    "\n",
    "Networking\n",
    "\n",
    "- Choose Security group -> application-load-balancer-ecs-andreig"
   ]
  },
  {
   "cell_type": "markdown",
   "metadata": {},
   "source": [
    "<center><img src=\"../ss/aws-data-engineer-section-07/section-07-ss-09.png\" width=700</center>"
   ]
  },
  {
   "cell_type": "markdown",
   "metadata": {},
   "source": [
    "<center><img src=\"../ss/aws-data-engineer-section-07/section-07-ss-10.png\" width=700</center>"
   ]
  },
  {
   "cell_type": "markdown",
   "metadata": {},
   "source": [
    "După ce am oferit aceste informații putem să creem acest service."
   ]
  },
  {
   "cell_type": "markdown",
   "metadata": {},
   "source": [
    "Aceasta este modalitatea prin care putem să creem un service în ECS utilizând și conceptele de Load Balancing (astfel încât aplicația să fie disponibilă din exterior)."
   ]
  },
  {
   "cell_type": "markdown",
   "metadata": {},
   "source": []
  }
 ],
 "metadata": {
  "language_info": {
   "name": "python"
  }
 },
 "nbformat": 4,
 "nbformat_minor": 2
}
