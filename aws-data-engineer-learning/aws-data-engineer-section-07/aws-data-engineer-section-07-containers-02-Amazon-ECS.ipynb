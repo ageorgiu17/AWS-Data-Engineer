{
 "cells": [
  {
   "cell_type": "markdown",
   "metadata": {},
   "source": [
    "# Amazon ECS"
   ]
  },
  {
   "cell_type": "markdown",
   "metadata": {},
   "source": [
    "O să începem cu conceptul de Amzon ECS - EC2 Launch Type"
   ]
  },
  {
   "cell_type": "markdown",
   "metadata": {},
   "source": [
    "ECS vine după cum spuneam de la denumirea de Elastic Container Service, care este serviciul ce se ocupă cu partea de management de container din AWS. Atunci când rulăm un container de Docker în AWS se creează un task de ECS pe un cluster de ECS. Acest cluster de ECS defapt reprezintă instanțe de EC2 din AWS. Totuși aceste instanțe de EC2 sunt un pic mai speciale deoarece acestea trebuie să aibă instalat agentul de Docker pentru a putea face partea din clusterul de EC2. După ce acest cluster de ECS este creat, atunci când creem task-uri de ECS, AWS o să ne ruleze container pe aceste instațe de EC2 din clusterul de ECS\n",
    "\n",
    "Atunci când folosim conceptul de EC2 Launch Type utilizatorul este cel care trebuie să se ocupe de partea de mentenanță pentru infrastructura de EC2, acest lucru este foarte important de reținut."
   ]
  },
  {
   "cell_type": "markdown",
   "metadata": {},
   "source": [
    "Un alt tip de concept este cel de ECS - Fargate Launch Type"
   ]
  },
  {
   "cell_type": "markdown",
   "metadata": {},
   "source": [
    "Avantajul pentru acest tip de launch este faptul că nu trebuie să oferim infrastructura de EC2 pentru clusterul respectiv, totul este de tip 'serverless'"
   ]
  },
  {
   "cell_type": "markdown",
   "metadata": {},
   "source": []
  }
 ],
 "metadata": {
  "language_info": {
   "name": "python"
  }
 },
 "nbformat": 4,
 "nbformat_minor": 2
}
