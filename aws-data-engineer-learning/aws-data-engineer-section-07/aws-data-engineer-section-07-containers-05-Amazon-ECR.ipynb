{
 "cells": [
  {
   "cell_type": "markdown",
   "metadata": {},
   "source": [
    "# Amazon ECR - Elastic Container Service"
   ]
  },
  {
   "cell_type": "markdown",
   "metadata": {},
   "source": [
    "Acest serviciu din Amazon se ocupă cu partea de stocare de imagini Docker în cadrul AWS. Avem posibilitatea de a utiliza două tiprui de ECR, unul public (dacă dorim ca imaginea respectivă să poată fi accesată de către oricine) sau unul privat în care putem să ne stocăm imaginile proprii astfel încât doar persoanele cărora le permitem accesul să poată accesa acele imagini.\n",
    "\n",
    "Acest serviciu de ECR este integrat complet cu AWS, iar prin această integrare, imaginilor de Docker din ECR le este făcut un backup și în S3. Accesul către acest serviciu este realizat de către serviciul de IAM. ECR suportă scanare de vulnerabilități, versionare, atribuirea de tag-uri."
   ]
  },
  {
   "cell_type": "markdown",
   "metadata": {},
   "source": []
  }
 ],
 "metadata": {
  "language_info": {
   "name": "python"
  }
 },
 "nbformat": 4,
 "nbformat_minor": 2
}
