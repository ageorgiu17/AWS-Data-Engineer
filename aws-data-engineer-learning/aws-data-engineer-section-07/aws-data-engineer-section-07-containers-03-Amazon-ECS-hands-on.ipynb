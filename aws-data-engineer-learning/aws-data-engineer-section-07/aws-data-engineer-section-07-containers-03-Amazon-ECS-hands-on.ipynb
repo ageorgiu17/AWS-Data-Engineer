{
 "cells": [
  {
   "cell_type": "markdown",
   "metadata": {},
   "source": [
    "# Amazon ECS - Hands-on"
   ]
  },
  {
   "cell_type": "markdown",
   "metadata": {},
   "source": [
    "Ca să ne putem crea un cluster de ECS o să navigăm la link-ul https://eu-central-1.console.aws.amazon.com/ecs/v2/getStarted?region=eu-central-1. Din cadrul acestui link o să mergem la opțiunea de Cluster și Create New Cluster"
   ]
  },
  {
   "cell_type": "markdown",
   "metadata": {},
   "source": [
    "<img src=\"../ss/aws-data-engineer-section-07/section-07-ss-01.png\">"
   ]
  },
  {
   "cell_type": "markdown",
   "metadata": {},
   "source": [
    "În imaginea de mai sus, atunci când creem un cluster de ECS se observă faptul că putem să alegem din două opțiuni pentru partea de infrastructură, avem opțiunea de a folosi instanțe de Fargate (care sunt serverless, nu trebuie să ne ocupăm noi de infrastructură și de mentenanță) sau instanțe de EC2 (pentru care trebuie să specificăm noi partea de infrastructură). Atunci când se creează un astfel de cluster putem să avem ambele opțiuni (Fargate și EC2) selectat. Atunci când selectăm și opțiunea de EC2, o să fim nevoiți să oferim mai multe detalii pentru acest cluster, precum:\n",
    "\n",
    "- Auto Scaling Group (create new)\n",
    "\n",
    "- Provision Model (on demand)\n",
    "\n",
    "- Operating System (Amazon Linux 2)\n",
    "\n",
    "- EC2 Instance Type (t2.micro)\n",
    "\n",
    "- Desired Capacity (minumun = 0, maximum = 5)\n",
    "\n",
    "- SSH Key Pair (None)\n",
    "\n",
    "- EBS Volume Size (30)"
   ]
  },
  {
   "cell_type": "markdown",
   "metadata": {},
   "source": [
    "Din moment ce se utilizează și instanțe de EC2, trebuie să specificăm și partea de networking. Această parte o să o lăsăm default. Se selectează valori default pentru VPC, Subnets, Security Groups."
   ]
  },
  {
   "cell_type": "markdown",
   "metadata": {},
   "source": [
    "După ce am oferit toate informațiile respective, putem să creem clusterul respectiv (Create Cluster)."
   ]
  },
  {
   "cell_type": "markdown",
   "metadata": {},
   "source": [
    "<img src='..//ss/aws-data-engineer-section-07/section-07-ss-02.png'>"
   ]
  },
  {
   "cell_type": "markdown",
   "metadata": {},
   "source": [
    "După ce am creat acest cluster, dacă îl accesăm, în secțiunea de Infrastructure putem observa faptul că avem 3 provideri, unul de FARGATE (care folosește instanțe serverless în spate), unul de FARGATE_SPOT (care folosește instanțe serverless de tipul SPOT în spate) și o  infrastructură care reprezintă acel Auto Scaling Group pe care l-am creat în momentul în care am setat acest cluster să folosească și instanțe de EC2. Acel grup este setat să nu aibă nicio instanță minimă care să ruleze. Dacă navigăm la grupul respectiv și modificăm acest grup astfel încât să aibă minim 1 instanță care rulează, prin acest pas, o să se creeze o instanță de EC2 în clusterul de ECS, instanță care o să apară ca și container în secțiunea de Infrastructure (în momentul de față, la secțiunea de Container instances nu avem nicio instanță care să ruleze)"
   ]
  },
  {
   "cell_type": "markdown",
   "metadata": {},
   "source": [
    "<img src='../ss/aws-data-engineer-section-07/section-07-ss-03.png' width=400>"
   ]
  },
  {
   "cell_type": "markdown",
   "metadata": {},
   "source": [
    "După ce am modificat să avem cel puțin 1 instanță care să fie activă, în partea de containere la clusterul creat o să avem acum acea instanță vizibilă"
   ]
  },
  {
   "cell_type": "markdown",
   "metadata": {},
   "source": [
    "<img src='../ss/aws-data-engineer-section-07/section-07-ss-04.png'>"
   ]
  },
  {
   "cell_type": "markdown",
   "metadata": {},
   "source": [
    "Pentru această instanță avem informații cu privire la numărul total de task-uri care rulează pe instanța respectivă precum și valorile pentru disponibilitatea de CPU și de memori a acelei instanțe."
   ]
  },
  {
   "cell_type": "markdown",
   "metadata": {},
   "source": []
  }
 ],
 "metadata": {
  "language_info": {
   "name": "python"
  }
 },
 "nbformat": 4,
 "nbformat_minor": 2
}
