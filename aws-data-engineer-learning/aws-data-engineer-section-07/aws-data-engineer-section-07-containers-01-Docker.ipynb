{
 "cells": [
  {
   "cell_type": "markdown",
   "metadata": {},
   "source": [
    "# Docker"
   ]
  },
  {
   "cell_type": "markdown",
   "metadata": {},
   "source": [
    "În secțiunea aceasta o să vorbim despre Docker, ECS, ECR și EKS. Docker este o aplicație de software prin care putem face deploy la anumite aplicații în producție (sau testare) într-un mod foarte ușor. Aplicația respectivă este împachetată în containere, iar acele containere pot rula pe orice sistem de operare în care avem docker instalat."
   ]
  },
  {
   "cell_type": "markdown",
   "metadata": {},
   "source": [
    "Avantajul de a folosi docker este faptul că aplicația respectivă rulează pe orice sistem fără probleme fără erori de compatibilitate, este mai puțină muncă la partea de deploy și mentanață. Docker este folosit în special pe partea de microsericii, unde fiecare componentă din cadrul unei aplicații este împachetată într-un container."
   ]
  },
  {
   "cell_type": "markdown",
   "metadata": {},
   "source": [
    "Docker funcționează pe bază de imagini, iar aceste imagini sunt păstrate într-un Hub (dockerhub). De exemplu, în hub-ul de la docker găsim imagini create și uploadate pentru aproape fiecare sistem de operare sau aplicație (imagine pentru liunx, python, java, spark, nodejs, etc)."
   ]
  },
  {
   "cell_type": "markdown",
   "metadata": {},
   "source": [
    "În cadrul Amazon, serviciul de hub pentru imagini poartă denumirea de Elastic Container Registry (ECR). Acest serviciu ne permite să ne creem proprile imagini private cu care o să lucrăm. De asemenea, există și un serviciu de Amazon pentru imagini publice (Amazon ECR Public Gallery)"
   ]
  },
  {
   "cell_type": "markdown",
   "metadata": {},
   "source": [
    "Managementul de containere în Amazon se realizează cu ajutorul serviciului de Amazon Elastic Container Service (ECS). De asemenea, atunci când dorim să facem un deploy la o aplicație în producție putem să ne folosim și de serviciul de Amazon Elastic Kubernetes Service (EKS)"
   ]
  },
  {
   "cell_type": "markdown",
   "metadata": {},
   "source": []
  }
 ],
 "metadata": {
  "language_info": {
   "name": "python"
  }
 },
 "nbformat": 4,
 "nbformat_minor": 2
}
