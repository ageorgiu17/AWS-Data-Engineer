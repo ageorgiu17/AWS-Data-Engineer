{
 "cells": [
  {
   "cell_type": "markdown",
   "metadata": {},
   "source": [
    "# Amazon EKS - Elastic Kubernetes Service"
   ]
  },
  {
   "cell_type": "markdown",
   "metadata": {},
   "source": [
    "Acest serviciu reprezintă o altă modalitate de a rula containere în AWS. Reprezintă o modalitate de a lansa și manageria clustere de Kubernetes în Amazon. Kubernetes este un sistem open source care se ocupă de automatizarea procesului de deployment și auto-scaling la aplicațiile create cu containere (aproape tot timpul utilizează containere create cu Docker)\n"
   ]
  },
  {
   "cell_type": "markdown",
   "metadata": {},
   "source": [
    "Acesta este un serviciu asemănător cu cel de ECS, are același scop, dar are un API de utilizare total diferit (folosește API-ul de Kubernetes). EKS suportă de asemenea două modalități de deploy, deploy folosind instanțe de EC2 sau deploy folosind instanțe de tip Fargate."
   ]
  }
 ],
 "metadata": {
  "language_info": {
   "name": "python"
  }
 },
 "nbformat": 4,
 "nbformat_minor": 2
}
