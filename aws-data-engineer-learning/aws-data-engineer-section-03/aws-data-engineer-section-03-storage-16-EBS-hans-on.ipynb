{
 "cells": [
  {
   "cell_type": "markdown",
   "metadata": {},
   "source": [
    "# Amazon EBS Volumes"
   ]
  },
  {
   "cell_type": "markdown",
   "metadata": {},
   "source": [
    "Ca să putem realizare partea practică pentru acest tip de stocare trebuie să ne creem o instanță de EC2. Ca să facem asta navigăm la link-ul urmtăror (https://eu-central-1.console.aws.amazon.com/ec2/home?region=eu-central-1#Home:) și ne creem o instanță de EC2 (butonul de \"Launch Instance\")"
   ]
  },
  {
   "cell_type": "markdown",
   "metadata": {},
   "source": [
    "<img src=\"../ss/aws-data-engineer-section-03/section-03-ss-27.png\">"
   ]
  },
  {
   "cell_type": "markdown",
   "metadata": {},
   "source": [
    "Acestei instanțe de EC2 trebuie să îi oferim un nume (\"andreig-frankfurt-instance\"). Restul setărilor le putem lăsa default. Atunci când navigăm în jos, la partea de \"Configure Storage\" o să ne alegem ce storage dorim să aibă această instanță. Acest lucru o să creeze automat un volum de EBS, volum care o să fie șters atunci când se șterge această instanță (opțiunea respectivă poate fi modificată, să nu se șteargă volumul respectiv)"
   ]
  },
  {
   "cell_type": "markdown",
   "metadata": {},
   "source": [
    "Dacă suntem mulțumiți cu acestă dimensiune putem să creem această instanță (\"Launch instance\")"
   ]
  },
  {
   "cell_type": "markdown",
   "metadata": {},
   "source": [
    "<img src=\"../ss/aws-data-engineer-section-03/section-03-ss-28.png\">"
   ]
  },
  {
   "cell_type": "markdown",
   "metadata": {},
   "source": [
    "După ce instanța a fost creată, în panoul de navigare din partea stângă putem să navigăm la secțiunea de volumes. În acestă secțiune putem vedea că există un volum (volumul creat atunci când am creat instanța de EC2), volum care este creat default și care o să se șteargă atunci când terminăm acea instanță. Din acestă secțiune putem să ne mai cremm în volum și să îl adăugăm la instanța care rulează."
   ]
  },
  {
   "cell_type": "markdown",
   "metadata": {},
   "source": [
    "Din secțiunea de \"Create Volume\" o să creem un nou volum. Pentru acesta trebuie să oferim următoarele informații:\n",
    "\n",
    "- volume type = General Purpose SSD (gp2)\n",
    "\n",
    "- Size = 2 GB\n",
    "\n",
    "- Availability-zone = eu-central-1a (trebuie să fie în același availability zone ca și instanța. Putem să vedem această informație despre instanță în secțiunea de networking)"
   ]
  },
  {
   "cell_type": "markdown",
   "metadata": {},
   "source": [
    "<img src=\"../ss/aws-data-engineer-section-03/section-03-ss-29.png\">"
   ]
  },
  {
   "cell_type": "markdown",
   "metadata": {},
   "source": [
    "După ce am creat acest volum, acesta o să ne apară în lista de volume."
   ]
  },
  {
   "cell_type": "markdown",
   "metadata": {},
   "source": [
    "<img src=\"../ss/aws-data-engineer-section-03/section-03-ss-30.png\">"
   ]
  },
  {
   "cell_type": "markdown",
   "metadata": {},
   "source": [
    "Din această listă se poate observa noul volum creat. De asemenea, se poate observa și faptul că acesta este disponibili, nu este utilizat de către o instanță de EC2. Ca să legăm acest volum de o instanță de EC2, selectăm columul respectiv, după care din secțiunea de \"Actions\" selectăm \"Attach volume\". Când selectăm acestă opțiune o să se deschidă o nouă pagină unde trebuie să selectăm instanța pentru care dorim să adăguăm acest volum. După aceasta se apasă pe butonul de \"Attach volume\" "
   ]
  },
  {
   "cell_type": "markdown",
   "metadata": {},
   "source": [
    "<img src=\"../ss/aws-data-engineer-section-03/section-03-ss-31.png\">"
   ]
  },
  {
   "cell_type": "markdown",
   "metadata": {},
   "source": [
    "Acum că am creat acest volum, în secțiune de Instances putem să selectăm EC2-ul pentru care am creat un nou volum, să navigăm la secțiunea de \"Storage\", iar acolo acum o să fie prezente două volume la secțiunea de \"Block devices\". Unul dintre ele este acel volum creat default de 8 GB (creat atunci când am creat instanța de EC2), iar al doilea este cel adăugat ulterior pentru instanța respectivă."
   ]
  },
  {
   "cell_type": "markdown",
   "metadata": {},
   "source": [
    "În continuare o să ștergem instanța respectivă și o să aruncăm o privire în secțiunea de volumes din nou."
   ]
  },
  {
   "cell_type": "markdown",
   "metadata": {},
   "source": [
    "<img src=\"../ss/aws-data-engineer-section-03/section-03-ss-32.png\">"
   ]
  },
  {
   "cell_type": "markdown",
   "metadata": {},
   "source": [
    "După ce am șters instanța respectivă, volumul creat default de către AWS a fost șters, a rămas doar volumul creat ulterior manual. Acest volum are acuma statusul de \"Available\" din moment ce instanța de care aparținea a fost ștearsă. Volumul respectiv poate fi adăugat acuma la altă instanță, dacă dorim să avem o instanță nouă care să conțină datele din acel volum"
   ]
  },
  {
   "cell_type": "markdown",
   "metadata": {},
   "source": []
  }
 ],
 "metadata": {
  "kernelspec": {
   "display_name": "venv",
   "language": "python",
   "name": "python3"
  },
  "language_info": {
   "codemirror_mode": {
    "name": "ipython",
    "version": 3
   },
   "file_extension": ".py",
   "mimetype": "text/x-python",
   "name": "python",
   "nbconvert_exporter": "python",
   "pygments_lexer": "ipython3",
   "version": "3.9.6"
  }
 },
 "nbformat": 4,
 "nbformat_minor": 2
}
