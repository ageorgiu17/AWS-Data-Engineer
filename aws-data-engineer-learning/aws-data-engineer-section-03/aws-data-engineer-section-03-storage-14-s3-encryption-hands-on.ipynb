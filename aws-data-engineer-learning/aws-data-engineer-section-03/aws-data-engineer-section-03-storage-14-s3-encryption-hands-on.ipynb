{
 "cells": [
  {
   "cell_type": "markdown",
   "metadata": {},
   "source": [
    "# Amazon S3 Encryption Hands On"
   ]
  },
  {
   "cell_type": "markdown",
   "metadata": {},
   "source": [
    "O să ne uităm peste partea de encriptare de date în AWS. Pentru a face asta o să ne creem un nou bucket \"andreig-aws-data-engineer-bucket-encryption\" în care o să testăm această parte de encriptare de date. "
   ]
  },
  {
   "cell_type": "markdown",
   "metadata": {},
   "source": [
    "<img src=\"../ss/aws-data-engineer-section-03/section-03-ss-23.png\">"
   ]
  },
  {
   "cell_type": "markdown",
   "metadata": {},
   "source": [
    "Atunci când creem un bucket, acesta are setat în mod default encriptarea de tipul SSE-S3, cea prin care se face encriptare de către Amazon S3 automat. Momentan o să lăsăm această encriptare așa cum este."
   ]
  },
  {
   "cell_type": "markdown",
   "metadata": {},
   "source": [
    "După ce am adăugat un obiect în aceast bucket, dacă deschidem informațiile despre acel bucket putem să observăm tipul de encriptare cu care s-a realizata acesta. Tot din această secțiune, dacă dorim se poate și modifca encryptarea pentru bucket."
   ]
  },
  {
   "cell_type": "markdown",
   "metadata": {},
   "source": [
    "<img src=\"../ss/aws-data-engineer-section-03/section-03-ss-24.png\">"
   ]
  },
  {
   "cell_type": "markdown",
   "metadata": {},
   "source": [
    "<img src=\"../ss/aws-data-engineer-section-03/section-03-ss-25.png\">"
   ]
  },
  {
   "cell_type": "markdown",
   "metadata": {},
   "source": [
    "Atunci când dorim să modifcăm encriptarea, aceasta se modifică pentru întreg bucket-ul (override bucket setting for default encryption). Atunci când realizăm această modificare, o să se creeze o nouă versiune pentru elementele existente cu noul tip de encriptare."
   ]
  },
  {
   "cell_type": "markdown",
   "metadata": {},
   "source": [
    "Atunci când dorim să alegem un tip de encriptare, există următoarele opțiuni:\n",
    "\n",
    "- Server-sode encryption with Amazon S3 (SSE-S3)\n",
    "\n",
    "- Server-side encryption with Amazon Key Management Service (SSE-KMS)\n",
    "\n",
    "- Dual-layer server-side encryption with AWS Key Management Service (DSSE-KMS)\n",
    "\n",
    "Ultima dintre aceste varianate este o opțiune apărută recent, opțiune care mai adaugă încă un strat de encriptare pentru obiectele din bucket. Acest tip de ecnriptare nu este prezent în acreditare, din acest motiv nu am trecut peste el."
   ]
  },
  {
   "cell_type": "markdown",
   "metadata": {},
   "source": [
    "Dintre aceste variante lipsesc cele de client encryption. Aceastea lipsesc din opțiuni deoarece, pentru acele cazuri, encriptarea trebuie realizată înainte ca datele să fie trimise către S3. Prin urmare, cei care folosesc datele, (clientul) le encriptează, iar abia după le trimite către S3. Din moment ce partea de encriptare pentru aceste cazuri ține 100% de client, Amazon nu are cum să ofere aceste opțiuni, AWS poate să ofere doar encriptările care se realizează pe serveul de Amazon"
   ]
  }
 ],
 "metadata": {
  "language_info": {
   "name": "python"
  }
 },
 "nbformat": 4,
 "nbformat_minor": 2
}
