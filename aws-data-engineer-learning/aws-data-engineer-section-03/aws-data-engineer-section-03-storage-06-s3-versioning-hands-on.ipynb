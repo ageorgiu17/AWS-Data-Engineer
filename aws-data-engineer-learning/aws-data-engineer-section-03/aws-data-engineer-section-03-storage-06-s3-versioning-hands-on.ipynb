{
 "cells": [
  {
   "cell_type": "markdown",
   "metadata": {},
   "source": [
    "# Amazon S3 Versioning Hands-On"
   ]
  },
  {
   "cell_type": "markdown",
   "metadata": {},
   "source": [
    "O să ne uităm practic peste partea de versionare în S3. Pentru a avtiva opțiunea respectivă, la bucket-ul respectiv trebuie să navigăm la secțiunea de \"Properties\", iar de acolo din secțiunea de \"Bucket  Versioning\" să facem enable la această proprietate."
   ]
  },
  {
   "cell_type": "markdown",
   "metadata": {},
   "source": [
    "<img src=\"../ss/aws-data-engineer-section-03/section-03-ss-11.png\">"
   ]
  },
  {
   "cell_type": "markdown",
   "metadata": {},
   "source": [
    "După ce am activat această opțiune, în bucket, dacă îl deschidem acuma trebuie să apară un buton prin care putem să aratăm versiunile obiectelor sau nu (un buton de tip toggle)"
   ]
  },
  {
   "cell_type": "markdown",
   "metadata": {},
   "source": [
    "<img src=\"../ss/aws-data-engineer-section-03/section-03-ss-12.png\">"
   ]
  },
  {
   "cell_type": "markdown",
   "metadata": {},
   "source": [
    "După cum se poate observa, și după cum știm, atunci când activăm opțiunea de versioning la un bucket, obiectele care sunt deja în acest bucket o să primească ID-ul \"null\". Acum o să facem upload din nou la acest fișier ca să verficăm dacă această opțiune a fost activată. O să facem uploda la același fișier, în aceeași locație, cu același nume. După ce facem upload, dacă bifăm acel buton de toggle o să vedem că acuma avem două versiuni a aceluiași fișier."
   ]
  },
  {
   "cell_type": "markdown",
   "metadata": {},
   "source": [
    "<img src=\"../ss/aws-data-engineer-section-03/section-03-ss-13.png\">"
   ]
  },
  {
   "cell_type": "markdown",
   "metadata": {},
   "source": [
    "Din acest moment, atunci când ștergem un obiect din cadrul acestui bucket, se șterge doar versiunea obiectului pe care dorim să o ștergem, nu se șterge tot fișierul. Atunci când se șterge ceva obiect din S3, se execută ceea ce poartă denumirea de \"permanently delete\", iar asta înseamnă că acțiunea respectivă este ireversibilă."
   ]
  },
  {
   "cell_type": "markdown",
   "metadata": {},
   "source": []
  }
 ],
 "metadata": {
  "language_info": {
   "name": "python"
  }
 },
 "nbformat": 4,
 "nbformat_minor": 2
}
