{
 "cells": [
  {
   "cell_type": "markdown",
   "metadata": {},
   "source": [
    "# Amazon S3 Event Notification"
   ]
  },
  {
   "cell_type": "markdown",
   "metadata": {},
   "source": [
    "Acțiunile (Events) care o să fie realizate în S3, acțiuni precum S3:ObjectCreated, S3:ObjectRemoved, etc.., poate uneori este necesar să realizăm anumite operațiuni, sau să rulăm anumite servicii atunci când un anumit Even apare în S3. Aici intră în calcul partea de Even Notification."
   ]
  },
  {
   "cell_type": "markdown",
   "metadata": {},
   "source": [
    "Aceste event-uri care apar în S3 pot să fie filtrate (event-uri doar pentru fișiere de tipul .jpg). Ca și use case, atunci când apare o nouă imagine în cadrul unui bucket de S3 putem să facem trigger la alt serviciu prin care să se creeze un thumbnail cu imaginea respectivă. Prin acest fel, de fiecare dată când o imagine este adăugată, acel thumbnail o să fie creat automat."
   ]
  },
  {
   "cell_type": "markdown",
   "metadata": {},
   "source": [
    "Acest Event Notification poate să trimită mesaje mai departe către serviciile \n",
    "\n",
    "- Amazon SNS\n",
    "\n",
    "- Amazon SQS\n",
    "\n",
    "- Amazon Lambda Function\n",
    "\n",
    "Acestea sunt servicii pe care o să le învățăm pe parcursul acestui curs.\n",
    "\n",
    "Notifircările respective sunt trimise în decursul a câtorva secunde, dar există posibilitatea să dureze și un minut până ce aceste notificări să fie trimise. Ca aceste notificări să poată fi trimise, pentru fiecare serviciu în parte trebuie să creem un anumit IAM Permission ca bucket-ul să fie capabil să trimită aceste notificări către aceste servicii.\n",
    "\n",
    "- SNS = SNS Resource (Access) Policy\n",
    "\n",
    "- SQS = SQS Resource (Access) Policy\n",
    "\n",
    "- Lambda Function = Lambda Resource Policy"
   ]
  },
  {
   "cell_type": "markdown",
   "metadata": {},
   "source": [
    "Pe lângă aceste servicii cu care se poate integra un Event Notification, mai există posibilitatea să integrăm un Event cu serviciul de Amazon EventBridge. Conectând un bucket cu acest serviciu, putem să trimitem Event Notification către un număr de 18 servicii. Către acest EventBridge sunt trimise toate Event-urile care se întâmplă în bucket-ul de S3. Din serviciul de Amazon EventBridge putem să folosim filtre avansate de JSON prin care să filtrăm cum dorim aceste event-uri. De asemenea, putem să trimitem aceste event-uri către mai multe servicii în același timp."
   ]
  }
 ],
 "metadata": {
  "language_info": {
   "name": "python"
  }
 },
 "nbformat": 4,
 "nbformat_minor": 2
}
