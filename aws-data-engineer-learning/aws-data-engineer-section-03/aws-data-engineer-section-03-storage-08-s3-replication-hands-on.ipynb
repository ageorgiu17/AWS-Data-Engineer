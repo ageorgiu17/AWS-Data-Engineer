{
 "cells": [
  {
   "cell_type": "markdown",
   "metadata": {},
   "source": [
    "# Amazon S3 Replication Hands-On"
   ]
  },
  {
   "cell_type": "markdown",
   "metadata": {},
   "source": [
    "Ca să exersăm partea de Replication, o să ne creem două buckets noi.\n",
    "\n",
    "- andreig-aws-data-engineer-origin\n",
    "\n",
    "- andreig-aws-data-enginner-replica"
   ]
  },
  {
   "cell_type": "markdown",
   "metadata": {},
   "source": [
    "Aceste buckets pot fi ori în aceeași regiune, ori în regiuni diferite. Ceea ce este important este să selectăm opțiunea de \"Versioning\" atunci când creem aceste două buckets."
   ]
  },
  {
   "cell_type": "markdown",
   "metadata": {},
   "source": [
    "<img src=\"../ss/aws-data-engineer-section-03/section-03-ss-14.png\">"
   ]
  },
  {
   "cell_type": "markdown",
   "metadata": {},
   "source": [
    "În acest moment avem cele două buckets create (origin și replica). Dacă facem upload la un obiect în bucket-ul de origin, acesta nu o să fie replicat în bucket-ul de replica. Acest lucru o să se întâmple doar după ce adăugăm această opțiune."
   ]
  },
  {
   "cell_type": "markdown",
   "metadata": {},
   "source": [
    "<img src=\"../ss/aws-data-engineer-section-03/section-03-ss-15.png\">"
   ]
  },
  {
   "cell_type": "markdown",
   "metadata": {},
   "source": [
    "În bucket-ul de origin am adăugat obiectul denumit \"coffee.jpg\". Momentan acesta nu a apărut și în bucket-ul de replica. Ca să facem asta, pentru bucket-ul de origin trebuie să creem acea opțiune de replication. Ca să facem asta, din secțiunea de \"Management\", navigăm la \"Replication rule\" și creem o nouă regulă. În momentul în care se creează o nouă regulă trebuie să oferim anumite informații:\n",
    "\n",
    "- Replication rule name = DemoReplicationRule (numele pe care dorim să îl oferim acestei reguli de replicare)\n",
    "\n",
    "- Status = enabled (statusul acestei reguli, să fie activă)\n",
    "\n",
    "- rule scope = Apply to all objects in this bucket\n",
    "\n",
    "- destination bucket name = andreig-aws-data-engineer-replica (bucket-ul unde să se facă replicarea)\n",
    "\n",
    "- IAM Role = Choose from existing IAM roles | Create new role (creem un nou role de tip IAM prin care oferim aceste permisiuni să se copieze obiecte de pe un bucket pe altul)\n",
    "\n",
    "După ce ofrim aceste informații putem să creem această regulă de replicare.\n",
    "\n"
   ]
  },
  {
   "cell_type": "markdown",
   "metadata": {},
   "source": [
    "<img src=\"../ss/aws-data-engineer-section-03/section-03-ss-16.png\">"
   ]
  },
  {
   "cell_type": "markdown",
   "metadata": {},
   "source": [
    "După ce am creat această regulă o fereastră de Pop-Up o să ne apară și o să ne întrebe dacă dorim să replicăm obiectele deja existente sau nu. Această fereastră de pop-up apare doar atunci când creem această regulă, după nu o să mai apară. Acuma o să specificăm că nu dorim să se replice obiectele existente deja."
   ]
  },
  {
   "cell_type": "markdown",
   "metadata": {},
   "source": [
    "<img src=\"../ss/aws-data-engineer-section-03/section-03-ss-17.png\">"
   ]
  },
  {
   "cell_type": "markdown",
   "metadata": {},
   "source": [
    "Acum după ce am creat această regulă de replicare și am adăugat un nou obiect în bucket-ul de origin, acest obiect a fost replicat și în bucket-ul de replica. De unde ne dăm seama că este același obiect, de faptul că este replicat? Dacă ne uităm la versiunea obiectului, putem să vedem că are aceeași versiune în ambele buckets, ceea ce înseamnă că este același obiect."
   ]
  },
  {
   "cell_type": "markdown",
   "metadata": {},
   "source": [
    "Cum funcționează această regulă? Atunci când se face upload la un obiect în bucket-ul de origin, acest obiect este replicat și în bucket-ul de replica. Replicarea obiectelor se realizează doar pentru obiectele create după ce se adaugă această regulă. De asemenea, dacă se face upload la un obiect în bucket-ul de replica, acesta nu o să fie replicat în bucket-ul de origin, această regulă merge doar într-o singură direcție."
   ]
  },
  {
   "cell_type": "markdown",
   "metadata": {},
   "source": []
  }
 ],
 "metadata": {
  "language_info": {
   "name": "python"
  }
 },
 "nbformat": 4,
 "nbformat_minor": 2
}
