{
 "cells": [
  {
   "cell_type": "markdown",
   "metadata": {},
   "source": [
    "# Amazon EBS"
   ]
  },
  {
   "cell_type": "markdown",
   "metadata": {},
   "source": [
    "Acum o să ne uităm la diferite opțiuni de stocare pentru instanțele de EC2. Cea mai importantă stocare pentru un EC2 este un volum denumit EBS (Elastic Block Store). Acesta este un drive de network care poate fi atașat la instanțe în timp ce acestea rulează.\n",
    "\n",
    "Aceste volume ne permite să păstrăm datele dintr-o instanșă de EC2 chiar și după ce acestea au fost terminate. Dacă se șterge o anumită instanță, dar acest volum există, putem să atașăm acest volum la o nouă instanță, iar prin acest fel, datele nu o să fie pierdute. Putem să atașăm acest volum de EBS doar unei singure instanțe, se poate să fie atașat la mai multe instanțe în același timp."
   ]
  },
  {
   "cell_type": "markdown",
   "metadata": {},
   "source": [
    "De asemenea, aceste volume sund dependente și de regiunea din care face parte o instanță. Nu putem să atașăm un volum care se găsește în regiunea US-East-1 pentru o instanță de EC2 care se găsește în regiunea US-East-2"
   ]
  },
  {
   "cell_type": "markdown",
   "metadata": {},
   "source": [
    "Un astfel de volum este un driver de network (nu este un disk fizic (physical drive)). Acest lucru înseamnă că se folosește de partea de networking pentru a comunica cu instanța, ceea ce înseamnă că poate să existe un pic de întrârzieri în comunicare, să nu se întâmple acestă comunicare între instanța de EC2 și volumul de EBS în timp real. Din moment ce aceasta este un driver de network, acesta se poate detașa foarte rapid de la instanță și să fie adăugat la o altă instanță (într-un timp scurt)"
   ]
  },
  {
   "cell_type": "markdown",
   "metadata": {},
   "source": [
    "Din moment ce este un volum, atunci când creem acest volum trebuie să specificăm dinainte capacitatea în GB și viteza de operare pentru operații de tipul I/O. Aceste valori se pot modifica cu timpul, nu o să fie definite pentru toată durata de viață a unui volum (prin partea de free tier avem o capacitate de 30GB gratis pe lună)"
   ]
  },
  {
   "cell_type": "markdown",
   "metadata": {},
   "source": [
    "<img src=\"../ss/aws-data-engineer-section-03/section-03-ss-26.png\">"
   ]
  },
  {
   "cell_type": "markdown",
   "metadata": {},
   "source": [
    "Acesta este un exemplu pentru partea de volume EBS pentru instanțele de EC2. \n",
    "\n",
    "În prima regiune avem o instanță de EC2 la care îi atribuim un volum. Dacă mai creem altă instanță de EC2 în această regiune și avem nevoie și pentru aceasta de un volum trebuie să creem un volum nou deoarece nu putem să avem un volum atașat la două sau mai multe instanțe. Ce se poate realiza, este să avem mai multe volume EBS conecate la o singură instanță EC2. De asemena, se poate să avem un volum care nu este atașat pentru nicio instanță.\n",
    "\n",
    "Aceste volume fiind dependente de Regiune, dacă ne creem o instață EC2 în altă regiune, trebuie să ne creem și volume de EBS în aceeași regiune deoarece nu putem atașa un volum de EBS care se găsește în regiunea US-EAST-1A la o insatnță de EC2 care se găsește în regiunea US-EAST-1B (trebuie să ne creem un volum în aceeași regiune cu instanța de EC2)"
   ]
  },
  {
   "cell_type": "markdown",
   "metadata": {},
   "source": []
  }
 ],
 "metadata": {
  "language_info": {
   "name": "python"
  }
 },
 "nbformat": 4,
 "nbformat_minor": 2
}
