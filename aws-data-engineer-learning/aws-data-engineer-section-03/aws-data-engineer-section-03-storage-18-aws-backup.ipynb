{
 "cells": [
  {
   "cell_type": "markdown",
   "metadata": {},
   "source": [
    "# AWS Backup"
   ]
  },
  {
   "cell_type": "markdown",
   "metadata": {},
   "source": [
    "AWS Service este un serviciu manageriat de către Amazon prin car eputem să facem backup automat și manage la mai multe servicii din AWS. Acest serviciu ne permite să avem o centralizare automată a tutor serviciilor pentru care facem backup, fără a avea acnumite scripturi care să facă asta, sau fără procese manuale."
   ]
  },
  {
   "cell_type": "markdown",
   "metadata": {},
   "source": [
    "Dintre serviciile suportate pentru Backup enumerăm următoarele:\n",
    "\n",
    "- Amazon EC2 / EBS\n",
    "\n",
    "- Amazon S3\n",
    "\n",
    "- Amazon RDS (all DBs engines), Amazon Aurora, Amazon DynamoDB\n",
    "\n",
    "- Amaozn DocumentDB, Amazon Neptune\n",
    "\n",
    "- Amazon EFS, Amazon FSx (Lusture & Windoes File Sercer)\n",
    "\n",
    "- AWS Storage Gateway (Volume Gateway)"
   ]
  },
  {
   "cell_type": "markdown",
   "metadata": {},
   "source": [
    "Acest serviciu suportă backup de tipul \"cross-region\" și \"cross-account\". Ca și tipuri de backup, suportă On-demand sau scheduled backups. Există posibilitatea de a crea policy-uri pentru acest serviciu de Backup, iar aceste policy poartă denumirea de \"Backup Plans\". În cadrul acestora putem specifica:\n",
    "\n",
    "- tag-uri (dacă dorim să facem backup la anumite servicii care au anumite tag-uri)\n",
    "\n",
    "- frecvența de backup (la fiecare 12 ore, zilnic, săptămânal, lunar, utilizând cron expresion)\n",
    "\n",
    "- dacă să facem tranzicție către cold storage (never, days, weeks, months, years)\n",
    "\n",
    "- perioada pe care să fie păstrate aceste date (tot timpul, zilnic, săptămânal, lunar, anual)"
   ]
  },
  {
   "cell_type": "markdown",
   "metadata": {},
   "source": [
    "Ca să ne asigurăm că aceste backup-uri nu o să fie șterse, există noțiunea de \"Backup Vaul Lock\". Această opțiune impune un WORM (write one read many) state pentru toate backup-urile creat în AWS Backup Vault. Prin acest concept se previne ștergerea backup-urilor din serviciul de AWS Backup"
   ]
  },
  {
   "cell_type": "markdown",
   "metadata": {},
   "source": []
  }
 ],
 "metadata": {
  "language_info": {
   "name": "python"
  }
 },
 "nbformat": 4,
 "nbformat_minor": 2
}
