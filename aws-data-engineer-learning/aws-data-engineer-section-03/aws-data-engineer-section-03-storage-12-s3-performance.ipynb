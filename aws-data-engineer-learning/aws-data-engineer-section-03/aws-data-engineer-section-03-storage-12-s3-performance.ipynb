{
 "cells": [
  {
   "cell_type": "markdown",
   "metadata": {},
   "source": [
    "# Amazon S3 Performance"
   ]
  },
  {
   "cell_type": "markdown",
   "metadata": {},
   "source": [
    "În ceea ce privește partea de performanță, S3 este un serviciu extrem de rapid. Acest serviciu poate să își facă scale automat ca să răspundă la requesturi extrem de mari. Ca și o idee, o aplicație poate să ajungă la:\n",
    "\n",
    "- 3500 de requesturi de tip PUT/COPY/POST/DELETE per secundă per prefix într-un bucket\n",
    "\n",
    "- 5500 de requesturi de tip GET/HEAD per secundă per prefix într-un bucket."
   ]
  },
  {
   "cell_type": "markdown",
   "metadata": {},
   "source": [
    "O să explicăm și ce anume înseamnă acestea. Dar ca o idee, în cadrul unui bucket nu există o limită pentru prefixe. Să înțelegem mai bine partea de prefixe. Un prefix reprezintă ceea ce se găsește între numele bucket-ului și obiectul în sine. Să zicem că o să avem un bucket denumit \"andreig-aws-data-engineer-bucket\". În cadrul acestui bucket o să creem două directoare denumite \"section-01\" și \"section-02\""
   ]
  },
  {
   "cell_type": "markdown",
   "metadata": {},
   "source": [
    "-- andreig-aws-data-engineer-bucket\n",
    "\n",
    "      -- section-01\n",
    "\n",
    "      -- section-02"
   ]
  },
  {
   "cell_type": "markdown",
   "metadata": {},
   "source": [
    "În primul director o să ne copiem un fișier denumit \"coffee.jpg\". Pentru acest obiect o să avem următorul key (path)\n",
    "\n",
    "s3://andreig-aws-data-engineer-bucket/section-01/coffee.jpg\n",
    "\n",
    "După cum spuneam, un prefix reprezintă ceea ce se găsește între numele bucket-ului și obiect. În cazul de mai sus prefixul o să fie \"section-01\". Pentru fiecare dintre aceste prefixe pe care le avem într-un bucket putem să avem numărul menționat mai sus de requesturi. Dacă în directorul \"section-01\" avem un număr de 3000 de obiecte, iar în directorul \"section-02\" avem un număr de 4000 de obiecte, putem să facem un număr de 7000 requesturi de tip GET per secundă, deoarece 4000 din acestea sunt în prefixul \"section-02\", iar 3000 sunt în prefixul \"section-01\""
   ]
  },
  {
   "cell_type": "markdown",
   "metadata": {},
   "source": [
    "Ca să creștem performanța din S3 putem să realizăm următoarele:\n",
    "\n",
    "1. Multi-Part Upload\n",
    "\n",
    "    - dacă avem fișiere mai mari de 100 MB este recomandat să folosim partea de multi-part upload. Aceasta o să împartă fișierul respectiv în mai multe părți și o să realizeze partea de upload paralelizată ca să se realizeze mai repede acest proces de upload. Atunci când se termină de uploadat toate părțile fișierului, S3 convertește toate părțile într-un singur fișier.\n",
    "\n",
    "2. S3 Transfer Acceleration\n",
    "\n",
    "    - creșterea vitezei de transfer prin transferarea fișierelor către o locație de tip Edge din AWS care o să trimită mai departe datele către S3 din regiunea targetată\n",
    "\n",
    "    - este compoatibil cu multi-part\n",
    "\n",
    "    - ex: dacă avem un fișier locat în USA și dorim să îi facem upload într-un bucket din Australia, prima dată o să se facă upload la fișier într-o locație edge din USA, iar după, folosind un network privat din AWS se poate face transferul către bucket-ul din Australia mult mai rapid\n",
    "\n",
    "3. S3 Byte-Range Fetches\n",
    "\n",
    "    - cu acest procedeu se poate paraleliza procesul de GET request. Prin acest procedeu se face un request de tip GET doar pentru un număr de bytes din întreg fișierul\n",
    "\n",
    "    - poate crește timpul de download atunci când avem un fișier mare. Când avem un fișier mare, se împarte acel fișier în mai multe părți de bytes și se face câte un request de tip GET pentru fiecare bucată în parte. Aceste requesturi pentru fiecare bucată din fișier se va face în mod paralel\n",
    "\n",
    "    - este folositor când dorim să vedem doar header-ul dintr-un fișier mare deoarece putem să facem un requeste de tip GET doar pentru primii bytes din cadrul fișierului respectiv."
   ]
  }
 ],
 "metadata": {
  "language_info": {
   "name": "python"
  }
 },
 "nbformat": 4,
 "nbformat_minor": 2
}
