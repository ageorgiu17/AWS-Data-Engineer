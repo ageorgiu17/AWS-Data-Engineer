{
 "cells": [
  {
   "cell_type": "markdown",
   "metadata": {},
   "source": [
    "# Amazon S3 Storage Classes"
   ]
  },
  {
   "cell_type": "markdown",
   "metadata": {},
   "source": [
    "Atunci când creem un bucket în Amazon S3, avem posibilitatea de a alege din mai multe clase de stocare. Acestea sunt următoarele:\n",
    "\n",
    "1. Amazon S3 Standard - General Purpose\n",
    "\n",
    "2. Amazon S3 Standard-Infrequent Access (IA)\n",
    "\n",
    "3. Amazon S3 One Zone-Infrequent Access\n",
    "\n",
    "4. Amazon S3 Glacier Instant Retrieval\n",
    "\n",
    "5. Amazon S3 Glacier Flexible Retrieval\n",
    "\n",
    "6. Amazon S3 Glacier Deep Archive\n",
    "\n",
    "7. Amazon S3 Intelligent Tiering"
   ]
  },
  {
   "cell_type": "markdown",
   "metadata": {},
   "source": [
    "Atunci când se creează un Bucket avem posibilitatea de a specifica una dintre clasele respective, putem să modifcăm clasa respectivă manual, iar pe lângă acestea, există și posibilitatea de a modifca aceste clase automat"
   ]
  },
  {
   "cell_type": "markdown",
   "metadata": {},
   "source": [
    "Înainte să trecem prin fiecare categorie, o să aruncăm o privire peste partea de Durability și Availability din Amazon, ce anume înseamnă acestea."
   ]
  },
  {
   "cell_type": "markdown",
   "metadata": {},
   "source": [
    "##### Durability"
   ]
  },
  {
   "cell_type": "markdown",
   "metadata": {},
   "source": [
    "În ceea ce privește partea de duarbilitate, Amazon S3 are o durabilitate extrem de mare, de 99.999999999% (11 9's). Asta înseamnă că dacă stocăm 10.000.000 obiecte în Amazon S3, putem să ne așteptăm să pierdem un singur obiect odată la 10.000 de ani. Această durabilitate este la fel pentru fiecare tip de clasă de stocare din S3"
   ]
  },
  {
   "cell_type": "markdown",
   "metadata": {},
   "source": [
    "##### Availability"
   ]
  },
  {
   "cell_type": "markdown",
   "metadata": {},
   "source": [
    "Pentru partea de disponibilitate, acest lucru înseamnă cât de ușor disponibil este un serviciu. Acesta depinde de clasa de stocare pe care o alegem. Ca și exemplu, S3 standard are o disponibilitate de 99.99% (adică nu este disponibil aproximativ 53 de minute pe an)"
   ]
  },
  {
   "cell_type": "markdown",
   "metadata": {},
   "source": [
    "### S3 Standard"
   ]
  },
  {
   "cell_type": "markdown",
   "metadata": {},
   "source": [
    "- are o disponibilitate de 99.99%\n",
    "\n",
    "- este folosit pentru date care sunt accesate frecvent\n",
    "\n",
    "- răspunde extrem de rapid la call-uri de API\n",
    "\n",
    "- se folosește la Big Data, aplicații mobile și de gaiming"
   ]
  },
  {
   "cell_type": "markdown",
   "metadata": {},
   "source": [
    "### S3 Infrequent Access\n",
    "\n",
    "După cum îi spune și numele, reprezintă o clasă unde ar trebui să se stocheze date care sunt accesate mai rar, dar necesită acces rapid atunci când este nevoie\n",
    "\n",
    "- data accesate mai rar\n",
    "\n",
    "- necesită acces rapid\n",
    "\n",
    "- cost mai mic decât S3 Standard"
   ]
  },
  {
   "cell_type": "markdown",
   "metadata": {},
   "source": [
    "#### Amazon S3 Standard-Infrequent Access (S3 Standard-IA)\n",
    "\n",
    "- disponibilitate 99.9%\n",
    "\n",
    "- utilizat pentru backup și revocery"
   ]
  },
  {
   "cell_type": "markdown",
   "metadata": {},
   "source": [
    "#### Amazon S3 One Zone-Infrequent Access (S3 One Zone-IA)\n",
    "\n",
    "- disponibilitate 99.5%\n",
    "\n",
    "- utilizat pentru backup secundar"
   ]
  },
  {
   "cell_type": "markdown",
   "metadata": {},
   "source": [
    "### Glacier Storage classes\n",
    "\n",
    "Aceste clase sunt folosite pentru partea de arhivare a datelor. Ca și cost, acestea sunt mai mici decât un S3 standard. Ca și costuri, există costuri de stocare și costuri atunci când dorim să accesăm un anumit obiect stocat ca și arhivă. În această categorie de clase avem 3 subcategorii"
   ]
  },
  {
   "cell_type": "markdown",
   "metadata": {},
   "source": [
    "#### Amazon S3 Glacier Instant retrieval\n",
    "\n",
    "- accesare de date la milisecundă\n",
    "\n",
    "- potrivit pentru date care sunt accesate odată pe quarter\n",
    "\n",
    "- stocarea datelor pe o durată de minim 90 de zile\n",
    "\n",
    "\n",
    "\n",
    "#### Amazon S3 Glacier Flexible retrieval\n",
    "\n",
    "- dispune de 3 opțiuni de accesare de date\n",
    "\n",
    "    - expedited = între 1 și 5 minute\n",
    "\n",
    "    - standard = între 3 și 5 ore\n",
    "\n",
    "    - bulk = între 5 și 12 ore (acesta este gratis)\n",
    "\n",
    "- stocarea datelor pe o durată de minim 90 de zile\n",
    "\n",
    "\n",
    "#### Amazon S3 Glacier Deep Archive\n",
    "\n",
    "- dispune de 2 opțiuni de accesare de date\n",
    "\n",
    "    - standard = 12 ore\n",
    "\n",
    "    - bulk = 48 de ore\n",
    "\n",
    "- stocarea datelor pe o durată de minim 180 de zile"
   ]
  },
  {
   "cell_type": "markdown",
   "metadata": {},
   "source": [
    "### S3 Intelligent-Tiering"
   ]
  },
  {
   "cell_type": "markdown",
   "metadata": {},
   "source": [
    "Utilizând acestă opțiune (și plătind o sumă lunară de monitorizare și una de auto-tiering) putem să mutăm datele autimat în diferite Access tiers bazate pe cât de des sunt acestea folosite. Există 5 opțiuni din care putem alege\n",
    "\n",
    "1. Frequent Access tier (automatic) = default tier\n",
    "\n",
    "2. Infrequent Access tier (automatic) = obiectele neaccesate pe o durată de 30 de zile\n",
    "\n",
    "3. Archive Instant Access tier (automatic) = obiectele neaccesate pe o durată de 90 de zile\n",
    " \n",
    "4. Archive Access tier (optional) = obiectele neaccesate pe o durată configurabilă între 90 și 700+ de zile\n",
    "\n",
    "5. Deep Archive Access tier (optional) = obiectele neaccesate pe o durată configurabilă între 180 și 700+ de zile"
   ]
  },
  {
   "cell_type": "markdown",
   "metadata": {},
   "source": []
  }
 ],
 "metadata": {
  "language_info": {
   "name": "python"
  }
 },
 "nbformat": 4,
 "nbformat_minor": 2
}
