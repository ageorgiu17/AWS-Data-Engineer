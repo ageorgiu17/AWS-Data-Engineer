{
 "cells": [
  {
   "cell_type": "markdown",
   "metadata": {},
   "source": [
    "# Amazon S3 Hands-on"
   ]
  },
  {
   "cell_type": "markdown",
   "metadata": {},
   "source": [
    "Ca să putem să facem exerciții practice trebuie să avem creat un cont de AWS. După ce terminăm de creat și configurat contul o să navigăm la următorul link.\n",
    "\n",
    "https://s3.console.aws.amazon.com/s3/get-started?region=us-east-1"
   ]
  },
  {
   "cell_type": "markdown",
   "metadata": {},
   "source": [
    "Link-ul respectiv o să descidă următoarea pagină."
   ]
  },
  {
   "cell_type": "markdown",
   "metadata": {},
   "source": [
    "<img src=\"../ss/aws-data-engineer-section-03/section-03-ss-01.png\">"
   ]
  },
  {
   "cell_type": "markdown",
   "metadata": {},
   "source": [
    "Din această pagină putem să apăsăm pe butonul de \"Create bucket\", buton care o să ne deschidă altă pagină de AWS în care putem crea un bucket de S3."
   ]
  },
  {
   "cell_type": "markdown",
   "metadata": {},
   "source": [
    "<img src=\"../ss/aws-data-engineer-section-03/section-03-ss-02.png\">"
   ]
  },
  {
   "cell_type": "markdown",
   "metadata": {},
   "source": [
    "Atunci când creem aceste Buckets trebuie să selectăm regiunea în care dorim să fie plasat acest bucket, împreună cu numele pe care dorim să îl oferim acestuia. "
   ]
  },
  {
   "cell_type": "markdown",
   "metadata": {},
   "source": [
    "În cazul de față se lucrează pe un cont de AWS în care nu mai există niciun bucket creat înainte. Pentru acest bucket am ales denumirea \"test\". O să încercăm să creem acest bucket să vedem ce se întâmplă. Ca să creem bucket-ul respectiv trebuie să facem scroll până la finalul paginii și să apăsăm pe butonul de \"Create bucket\". Dacă facem acuma acest lucru, nu o să se creeze bucket-ul respectiv deoarece apare o eroare. Eroarea respectivă ne spune că acest nume de bucket există deja (deși în contul pe care lucrăm nu mai există niciun bucket creat). Acest lucru apare deoarece după cum am specificat, denumirea bucket-urilor trebuie să fie unicat la nivel global."
   ]
  },
  {
   "cell_type": "markdown",
   "metadata": {},
   "source": [
    "<img src=\"../ss/aws-data-engineer-section-03/section-03-ss-03.png\">"
   ]
  },
  {
   "cell_type": "markdown",
   "metadata": {},
   "source": [
    "O să modificăm numele acestui bucket în \"andreig-aws-data-engineer-bucket\". După ce modificăm acest nume și apăsăm butonul de \"Create bucket\", acest bucket este creat cu succes."
   ]
  },
  {
   "cell_type": "markdown",
   "metadata": {},
   "source": [
    "<img src=\"../ss/aws-data-engineer-section-03/section-03-ss-04.png\">"
   ]
  },
  {
   "cell_type": "markdown",
   "metadata": {},
   "source": [
    "Acum acest bucket se poate observa în lista de buckets, din contul curent din regiunea în care am creat acest bucket."
   ]
  },
  {
   "cell_type": "markdown",
   "metadata": {},
   "source": [
    "Dacă navigăm în cadrul acestui bucket putem să vedem că există anumite butoane care sunt extrem de intuitive. Avem buton prin care putem să facem upload la un obiect în cadrul acestui bucket, buton prin care putem să creem un nou folder în acest bucket, există posibilitatea și de a șterge obiecte din acest bucket folosind tot interfața grafică. În continuare o să ne creem un nou folder și o să facem upload la un obiect în acest bucket."
   ]
  },
  {
   "cell_type": "markdown",
   "metadata": {},
   "source": [
    "<img src=\"../ss/aws-data-engineer-section-03/section-03-ss-05.png\">"
   ]
  },
  {
   "cell_type": "markdown",
   "metadata": {},
   "source": [
    "Am creat un nou folder în acest bucket denumit \"images\" în care am adăugat o imagine .png denumită \"spice_labels\". Putem să facem click pe acest obiect, iar asta o să ne deschidă o nouă pagină în care o să se vadă informații generale despre acest obiect, cum ar fi data la care a fost uploadat în bucket, dimensiunea, key-ul acestui obiect (path-ul complet) și alte informații. "
   ]
  },
  {
   "cell_type": "markdown",
   "metadata": {},
   "source": [
    "<img src=\"../ss/aws-data-engineer-section-03/section-03-ss-06.png\">"
   ]
  },
  {
   "cell_type": "markdown",
   "metadata": {},
   "source": [
    "Acest obiect are și un url prin care se poate accesa, dar atunci când am creat acest bucket am selectat opțiunea ca acesta să nu fie public. Din acest motiv, atunci când încercăm să deschidem acest URL o să primim un mesaj de Access Denied"
   ]
  },
  {
   "cell_type": "markdown",
   "metadata": {},
   "source": [
    "<img src=\"../ss/aws-data-engineer-section-03/section-03-ss-07.png\">"
   ]
  },
  {
   "cell_type": "markdown",
   "metadata": {},
   "source": []
  }
 ],
 "metadata": {
  "language_info": {
   "name": "python"
  }
 },
 "nbformat": 4,
 "nbformat_minor": 2
}
