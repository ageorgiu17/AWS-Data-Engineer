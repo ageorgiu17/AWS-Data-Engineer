{
 "cells": [
  {
   "cell_type": "markdown",
   "metadata": {},
   "source": [
    "# S3 Security hands-on"
   ]
  },
  {
   "cell_type": "markdown",
   "metadata": {},
   "source": [
    "După cum am observat, nu putem să accesăm obiectul (imaginea) care este în bucket-ul de S3 deoarece acest obiectu nu are acces public. În lecția curentă o să vedem cum anume putem să creem un policy prin care să oferim acces public la obiectele din bucket. Pentru a face asta o să navigăm la secțiunea de \"Permission\" de la acel bucket"
   ]
  },
  {
   "cell_type": "markdown",
   "metadata": {},
   "source": [
    "<img src=\"../ss/aws-data-engineer-section-03/section-03-ss-08.png\">"
   ]
  },
  {
   "cell_type": "markdown",
   "metadata": {},
   "source": [
    "Primul lucru pe care trebuie să îl facem, la secțiune de \"Block public access (bucket settings)\" trebuie să mutăm acea opțiune pe Off. Pentru a face asta se apasă pe Edit și o să debifăm opțiunea respectivă. Deoarece este o operațiune nu tocmai sigură, de a oferi acces public la obiectele din Buckets, AWS o să ne ceară acordul în cadrul unui prompt atunci când facem asta. "
   ]
  },
  {
   "cell_type": "markdown",
   "metadata": {},
   "source": [
    "Deși am debifat opțiunea de \"Block all public access\", momentan tot nu putem să accesăm obiectele din acest bucket deoarece nu am creat încă acel policy. Opțiunea de \"Block public access\" a fost creată de către Amazon doar pentru un nivel mai mare de securitate. Defibând această opțiune nu oferim acces public încă la obiecte, doar spunem că avem acum opțiunea de a crea un policy prin care să oferim acces public la aceste obiecte. În continuare o să creem un policy prin care oferim acces public la aceste date."
   ]
  },
  {
   "cell_type": "markdown",
   "metadata": {},
   "source": [
    "Din secțiunea de \"Permission\", sub secțiunea de \"Block public access\" există o secțiune denumită \"Bucket Policy\". Selectăm opțiunea de \"Edit\", iar de acolo avem o opțiune (dreapta sus) de a genera un policy \"Policy Generator\". Acest buton o să ne deschidă o nouă pagină în care putem să ne generăm un policy."
   ]
  },
  {
   "cell_type": "markdown",
   "metadata": {},
   "source": [
    "<img src=\"../ss/aws-data-engineer-section-03/section-03-ss-09.png\">"
   ]
  },
  {
   "cell_type": "markdown",
   "metadata": {},
   "source": [
    "Pagina respectivă arată ca și cea de sus. În cadrul acestei pagini trebuie să oferim informații pentru:\n",
    "\n",
    "- Type of Policy = S3 Bucket Policy\n",
    "\n",
    "- Effect = Allow\n",
    "\n",
    "- Principal = *\n",
    "\n",
    "- AWS Service = Amazon S3\n",
    "\n",
    "- Actions = GetObject\n",
    "\n",
    "- ARN = arn:aws:s3:::andreig-aws-data-engineer-bucket/* (acest ARN poate fi copiat din secțiunea de Bucket policy)"
   ]
  },
  {
   "cell_type": "markdown",
   "metadata": {},
   "source": [
    "După ce am ofetit toate aceste informații apăsăm pe butonul de \"Add Statement\", iar la final \"Generate Policy\". După ce apăsăm pe butonul de \"Generate Policy\" o să se genereze un policy în format JSON. Acest cod trebuie copiat în secțiunea de Bucket Policy de la Permission"
   ]
  },
  {
   "cell_type": "markdown",
   "metadata": {},
   "source": [
    "<img src=\"../ss/aws-data-engineer-section-03/section-03-ss-10.png\">"
   ]
  },
  {
   "cell_type": "markdown",
   "metadata": {},
   "source": [
    "După ce am copiat acest policy, dacă dăm scroll, în partea de jos avem un buton de Save Changes. Apăsăm acest buton pentru a crea acest policy prin care oferim acces public la toate obiectele din acest bucket."
   ]
  },
  {
   "cell_type": "markdown",
   "metadata": {},
   "source": [
    "În acest moment, dacă deschidem din nou acel URL public, de această dată imaginea respectivă o să se deschidă datorită faptului că acum, cu acel policy, toate obiectele din acest bucket sunt deschise la acces public"
   ]
  },
  {
   "cell_type": "markdown",
   "metadata": {},
   "source": []
  }
 ],
 "metadata": {
  "language_info": {
   "name": "python"
  }
 },
 "nbformat": 4,
 "nbformat_minor": 2
}
