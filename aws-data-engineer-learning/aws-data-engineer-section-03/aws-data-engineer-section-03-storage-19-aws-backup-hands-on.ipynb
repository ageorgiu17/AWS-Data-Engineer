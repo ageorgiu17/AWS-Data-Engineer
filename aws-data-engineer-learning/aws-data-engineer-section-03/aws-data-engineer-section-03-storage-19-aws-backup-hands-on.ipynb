{
 "cells": [
  {
   "cell_type": "markdown",
   "metadata": {},
   "source": [
    "# Amazon Backup - Hands-On"
   ]
  },
  {
   "cell_type": "markdown",
   "metadata": {},
   "source": [
    "În această lecție o să vedem practic cum funcționează serviciul de AWS Backup. Pentru început o să ne creem un volum EBS căruia o să îi oferim un tag de \"Environment\":\"Production\". De asemenea o să ne creem și un bucket căruia o să îi oferim același nume"
   ]
  },
  {
   "cell_type": "markdown",
   "metadata": {},
   "source": [
    "După ce creem aceste resurse o să căutăm serviciul de AWS Backup și o să creem un plan de backup nou (\"Create Backup Plan\"). Atunci când creem un nou backup avem la dispoziție 3 opțiuni din care să alegem\n",
    "\n",
    "1. Start with a template\n",
    "\n",
    "2. Build a new plan\n",
    "\n",
    "3. Define a plan using JSON"
   ]
  },
  {
   "cell_type": "markdown",
   "metadata": {},
   "source": [
    "Pentru cazul de față o să începem cu un plan default. Din lista de planuri \"Templates\" o să ne alegem planul \"Daily-Monthly-1yr-Retention\". "
   ]
  },
  {
   "cell_type": "markdown",
   "metadata": {},
   "source": [
    "<img src=\"../ss/aws-data-engineer-section-03/section-03-ss-33.png\">"
   ]
  },
  {
   "cell_type": "markdown",
   "metadata": {},
   "source": [
    "După ce ne-am selectat planul, automat apar acele reguli de backup. Pentru acest template există două reguli, una de dailu și una de monthly. O să ștergem backup-ul de daily și o să păstrăm acel backup monthly (deoarece dorim să facem backup odată pe lună)"
   ]
  },
  {
   "cell_type": "markdown",
   "metadata": {},
   "source": [
    "<img src=\"../ss/aws-data-engineer-section-03/section-03-ss-34.png\">"
   ]
  },
  {
   "cell_type": "markdown",
   "metadata": {},
   "source": [
    "Dacă dorim, se poate modifica acea regulă de backup monthly. În cadrul acesteia putem să selectăm frecvența cu care să se facă backup (este setat în fiecare lună), data la care să se facă acesta (în prima zi din lună), acel Backup Vault în care să fie păstrat aceast backup și de asemenea putem seta și pentru ce perioadă de timp să fie aceste date păstrate în backup."
   ]
  },
  {
   "cell_type": "markdown",
   "metadata": {},
   "source": [
    "După ce suntem mulțumiți cu acest plan, putem să îl creem (după ce îi oferim un nume acestuia). După ce am creat acest plan, ne duce automat la pagina în care putem adăuga serviciile pentru care dorim să facem backup."
   ]
  },
  {
   "cell_type": "markdown",
   "metadata": {},
   "source": [
    "<img src=\"../ss/aws-data-engineer-section-03/section-03-ss-35.png\">"
   ]
  },
  {
   "cell_type": "markdown",
   "metadata": {},
   "source": [
    "În această pagină trebuie să oferim:\n",
    "\n",
    "- Resource assigment name = nume pe care să îl poarte acest resource assigment (în acesta definim la ce servicii să se facă backup)\n",
    "\n",
    "- IAM Role = rolul care să se folosească pentru backup (o să creem un rol default)\n",
    "\n",
    "- Resource selection\n",
    "\n",
    "    - 1. include all resource type (se adaugă toate resursele din contul curent)\n",
    "\n",
    "    - 2. include specific resource type (alegem resursele pentru care dorim să facem backup)\n",
    "\n"
   ]
  },
  {
   "cell_type": "markdown",
   "metadata": {},
   "source": [
    "<img src=\"../ss/aws-data-engineer-section-03/section-03-ss-36.png\">"
   ]
  },
  {
   "cell_type": "markdown",
   "metadata": {},
   "source": [
    "Dacă selectăm a doua opțiune (\"Include specific resource types\") putem să selectăm anumite servicii și anumite resurse pentru care să facem acest backup. În exemplul de mai sus am ales serviciul de S3, iar din acest serviciu am specificat să facă backup la bucket-ul \"andreig-aws-data-engineer-backup\"."
   ]
  },
  {
   "cell_type": "markdown",
   "metadata": {},
   "source": [
    "Dacă dorim să facem backup la mai multe servicii, servicii care au un anumit tag specificat, putem să realizăm această selectare folosind opțiunea de \"Refine selection using tags\". Prin această opțiune o să selectăm un număr de tag-uri după care dorim să filtrăm toate sertviciile. Aici întră în calucl acel tag de \"Environment\":\"Prodcution\" creat pentru volumul de EBS și pentru bucket-ul de S3. Putem să adăugăm acestă regulă astfel încât să ne facă backup la toate serviciile și resursele din servicii care au acel tag"
   ]
  },
  {
   "cell_type": "markdown",
   "metadata": {},
   "source": [
    "<img src=\"../ss/aws-data-engineer-section-03/section-03-ss-37.png\">"
   ]
  },
  {
   "cell_type": "markdown",
   "metadata": {},
   "source": [
    "Cu regula respectivă putem să selectîm diferite tag-uri, dacă tag-ul respectiv este egal cu o anumită valoare, dacă începe cu anumite valori, dacă conține anumite valori. Lista de opțiuni este una destul de mare."
   ]
  },
  {
   "cell_type": "markdown",
   "metadata": {},
   "source": [
    "După ce am selectat resursele pentru care dorim să facem backup putem să creem acest \"Resource  Assignment\". După crearea acestuia, acesta poate fi vizualizat în plan-ul de backup pe care l-am creat, împreună cu acea regulă de backup."
   ]
  },
  {
   "cell_type": "markdown",
   "metadata": {},
   "source": [
    "<img src=\"../ss/aws-data-engineer-section-03/section-03-ss-38.png\">"
   ]
  },
  {
   "cell_type": "markdown",
   "metadata": {},
   "source": [
    "Dacă se dorește, în acest plan de backup se mai pot adăuga alte resruse. Resursele care o să fie adăugate o să foloseacă regula de backup de mai sus."
   ]
  },
  {
   "cell_type": "markdown",
   "metadata": {},
   "source": []
  }
 ],
 "metadata": {
  "language_info": {
   "name": "python"
  }
 },
 "nbformat": 4,
 "nbformat_minor": 2
}
