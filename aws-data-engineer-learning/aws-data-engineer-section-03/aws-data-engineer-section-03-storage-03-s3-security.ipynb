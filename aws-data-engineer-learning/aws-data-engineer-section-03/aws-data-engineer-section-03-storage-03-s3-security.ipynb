{
 "cells": [
  {
   "cell_type": "markdown",
   "metadata": {},
   "source": [
    "# Amazon S3 Security"
   ]
  },
  {
   "cell_type": "markdown",
   "metadata": {},
   "source": [
    "În lecția trecută am observat faptul că atunci când am dorit să decshidem acel obiect (acel URL) am primit access denied. Acest lucru este datorat faptului că acel bucket s-a creat privat și nu are acces nimeni din domeniul public la el. Asta ține de securitate, de cine poate accesa acel obiect/bucket respectiv"
   ]
  },
  {
   "cell_type": "markdown",
   "metadata": {},
   "source": [
    "Partea de securitate poate fi modificată pentru un obiect/bucket. există două categorii mari prin care se poate face acest lucru:\n",
    "\n",
    "1. User-based\n",
    "\n",
    "2. Resource-based"
   ]
  },
  {
   "cell_type": "markdown",
   "metadata": {},
   "source": [
    "În ceea ce privește zona de user-based, accesul la un bucket/obiect se realizează prin anumite policies pentru rolul de Amazon (IAM Policies). Unui anumit cont din Amazon  poți să îi creezi un policy prin care specifici ce API pot fi alocate atunci când se face un call către acel API."
   ]
  },
  {
   "cell_type": "markdown",
   "metadata": {},
   "source": [
    "Pentru secțiunea de resource-based, aici există 3 categorii:\n",
    "\n",
    "- Bucket policies\n",
    "\n",
    "- Object Access Control List (ACL)\n",
    "\n",
    "- Bucket Access Control List (ACL)\n",
    "\n",
    "\n",
    "Dintre acestea, cel mai mult s utilizează partea de Bucket Policies. Un astfel de policy este de format JSON și arată în felul următor:"
   ]
  },
  {
   "cell_type": "code",
   "execution_count": null,
   "metadata": {
    "vscode": {
     "languageId": "json"
    }
   },
   "outputs": [],
   "source": [
    "{\n",
    "    \"Version\": \"2012-10-17\",\n",
    "    \"Statement\": [\n",
    "        {\n",
    "            \"Sid\": \"PublicRead\",\n",
    "            \"Effect\": \"Allow\",\n",
    "            \"Principal\": \"*\",\n",
    "            \"Action\": [\n",
    "                \"s3:GetObject\"\n",
    "            ],\n",
    "            \"Resource\": [\n",
    "                \"arn:aws:s3:::examplebucket/*\"\n",
    "            ]\n",
    "        }\n",
    "    ]\n",
    "}"
   ]
  },
  {
   "cell_type": "markdown",
   "metadata": {},
   "source": [
    "Mai sus este un policy pentru un bucket din AWS. Cum anume se citește acest policy?\n",
    "\n",
    "- Resources: în această secțiune se listează bucket-urile și obiectele pentru care dorim să creem acest policy. În cazul de față, acea steluță (*) semnifică faptul că dorim să aplicăm acest policy pentru toate elementele din acel bucket (examplebucket)\n",
    "\n",
    "- Effect: poate fi \"Allow\" sau \"Deny\"\n",
    "\n",
    "- Actions: acțiunile pentru care se setează efectul de allow sau deny. În cazul de față permitem (allow) să se citească (s3:GetObject) obiectele din bucket (examplebucket/*)\n",
    "\n",
    "- Principal: către cine să se aplice acest policy (în cazul de față se apliocă pentru toată lumea)"
   ]
  },
  {
   "cell_type": "markdown",
   "metadata": {},
   "source": [
    "Putem să folosim aceste policy pentru a permite accesul public la anumite obiecte sau buckets, să forțăm anumite obiecte să fie encritate atunci când se face upload la ele sau să permite acces la un bucket pentru un cond diferit (Cross Account)"
   ]
  },
  {
   "cell_type": "markdown",
   "metadata": {},
   "source": []
  }
 ],
 "metadata": {
  "language_info": {
   "name": "python"
  }
 },
 "nbformat": 4,
 "nbformat_minor": 2
}
