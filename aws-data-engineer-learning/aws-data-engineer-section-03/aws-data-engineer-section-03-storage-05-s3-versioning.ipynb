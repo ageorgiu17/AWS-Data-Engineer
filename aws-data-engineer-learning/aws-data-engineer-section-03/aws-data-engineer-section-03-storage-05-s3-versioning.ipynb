{
 "cells": [
  {
   "cell_type": "markdown",
   "metadata": {},
   "source": [
    "# Amazon S3 Versioning"
   ]
  },
  {
   "cell_type": "markdown",
   "metadata": {},
   "source": [
    "Amazon S3 ne pune la dispoziție posibilitatea de a versiona obiectele care sunt stocate. Această opțiune se setează la nivel de bucket, nu se poate seta la nivel de obiecte."
   ]
  },
  {
   "cell_type": "markdown",
   "metadata": {},
   "source": [
    "Atunci când se activează opțiunea de versioning și se face upload la un obiect în S3, se creează și o versiune a acestui obiect. Să zicem că facem upload la fișierul denumit \"my_file.txt\". Atunci când obiectul a fost uploadat, se  creează și un număr de versiune pentru acest obiect (de exemplu, versiunea 1). În momentul în care se face uploda la același obiect, în aceeași locație, se creează o nouă versiune a acestui obiect (versiunea 2). "
   ]
  },
  {
   "cell_type": "markdown",
   "metadata": {},
   "source": [
    "Versionarea obiectelor este un lucru bun în Amazon S3 deoarece:\n",
    "\n",
    "- se protejează ștergerea involuntară a obiectelor (se poate face restore la o anumită versiune)\n",
    "\n",
    "- se poate face rollback ușor la versiuni precedente"
   ]
  },
  {
   "cell_type": "markdown",
   "metadata": {},
   "source": [
    "Atunci când se activează opțiunea de versioning, iar în cadrul acelui bucket există deja anumite obiecte, aceste obiecte o să primeasă versiunea \"null\". De asemenea, atunci când se face diasble la opțiunea de versionare, nu se șterg versiunile obiectelor care există deja."
   ]
  },
  {
   "cell_type": "markdown",
   "metadata": {},
   "source": []
  }
 ],
 "metadata": {
  "language_info": {
   "name": "python"
  }
 },
 "nbformat": 4,
 "nbformat_minor": 2
}
