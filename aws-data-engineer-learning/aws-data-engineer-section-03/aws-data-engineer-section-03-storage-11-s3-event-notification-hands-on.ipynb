{
 "cells": [
  {
   "cell_type": "markdown",
   "metadata": {},
   "source": [
    "# Amazon S3 Event Notification Hands-On"
   ]
  },
  {
   "cell_type": "markdown",
   "metadata": {},
   "source": [
    "Ca să putem verifica partea de Event Notification, o să ne creem un Queue în Amazon SQS."
   ]
  },
  {
   "cell_type": "markdown",
   "metadata": {},
   "source": [
    "<img src=\"../ss/aws-data-engineer-section-03/section-03-ss-18.png\">"
   ]
  },
  {
   "cell_type": "markdown",
   "metadata": {},
   "source": [
    "După ce ne-am creat acest Queue, o să ne creem și un bucket nou (andreig-aws-data-engineer-bucket-event-notification), bucket în care o să testăm acest event notification. \n",
    "\n",
    "După ce ne-am creat acest bucket nou, o să navigăm la secțiunea de \"Properties\", facem scroll până ce găsim proprietatea de \"Event Notification\". Sub aceasta trebuie să fie opțiunea de Amazon EventBridge prin care putem să conectăm acest bucket cu serviciul de EventBridge prin care se trimit toate event-urile către acest serviciu."
   ]
  },
  {
   "cell_type": "markdown",
   "metadata": {},
   "source": [
    "Ca să creem un Event Notification nou o să apăsăm pe butonul de \"Create Event Notification\". Acestei proprietăți trebuie să îi oferim următoarele informații\n",
    "\n",
    "- Event Name = DemoEventNotification (numele pe care dorim să îl aibă acest Event)\n",
    "\n",
    "- Event type = All object create events (event-ul care se realizează în S3 pentru care dorim să trimitem acest notification)\n",
    "\n",
    "- Destination = SQS Queue (către ce destinație dorim să trimitem acest event)\n",
    "\n",
    "- SQS Queue = andreig-aws-data-engineer-sqs (numele acelui queue pe care l-am creat)"
   ]
  },
  {
   "cell_type": "markdown",
   "metadata": {},
   "source": [
    "După ce am oferit aceste informații putem să creem această proprietate."
   ]
  },
  {
   "cell_type": "markdown",
   "metadata": {},
   "source": [
    "<img src=\"../ss/aws-data-engineer-section-03/section-03-ss-19.png\">"
   ]
  },
  {
   "cell_type": "markdown",
   "metadata": {},
   "source": [
    "În acest moment, dacă dorim să creem această proprietate o să avem o eroare. Această eroare apare deoarece bucket-ul respectiv nu are posibilitatea de a trimite mesaje către acest Queue (nu are accesul). Ca să îi oferim acces, trebuie să modificăm acel Queue. Pentru asta navigăm la queue-ul pe care l-am creat, în secțiunea de \"Access Policy\", \"Edit\" și \"Policy Generator\". Așa o să se deschidă un generator de policy prin care specificăm că dorim să creem un policy pentru SQS prin care oricine poate să trimită mesaje către acest queue."
   ]
  },
  {
   "cell_type": "markdown",
   "metadata": {},
   "source": [
    "- Type of Policy = SQS Queue Policy\n",
    "\n",
    "- Effect = Allow\n",
    "\n",
    "- Principal = *\n",
    "\n",
    "- Actions = SendMessage\n",
    "\n",
    "- Amazon Resource Name (ARN) = arn:aws:sqs:eu-central-1:671514712712:andreig-aws-data-engineer-sqs (ARN-ul queue-ului pentru care dorim să creem acest policy)"
   ]
  },
  {
   "cell_type": "markdown",
   "metadata": {},
   "source": [
    "\"Add Statement\" --> \"Generate Policy\""
   ]
  },
  {
   "cell_type": "markdown",
   "metadata": {},
   "source": [
    "Acel policy care este creat o să îl adăugăm acuma la Access Policy pentru Queue-ul respectiv"
   ]
  },
  {
   "cell_type": "markdown",
   "metadata": {},
   "source": [
    "<img src=\"../ss/aws-data-engineer-section-03/section-03-ss-20.png\">"
   ]
  },
  {
   "cell_type": "markdown",
   "metadata": {},
   "source": [
    "Acum salvăm acest policy. După ce am salvat acest policy, încercăm din nou să creem acel Event Notification. De data aceasta nu ar trebui să mai primim erori. După ce creem acest Event Notification cu succes, dacă navigăm la acel queue, apăsăm pe \"Send and recieve messages\" --> \"Poll for messages\" ar trebui să apară un mesaj nou. Acest mesaj a fost trimis de test pentru a verifica această conexiune."
   ]
  },
  {
   "cell_type": "markdown",
   "metadata": {},
   "source": [
    "<img src=\"../ss/aws-data-engineer-section-03/section-03-ss-21.png\">"
   ]
  },
  {
   "cell_type": "markdown",
   "metadata": {},
   "source": [
    "Se poate observa faptul că avem un mesaj, iar acest mesaj este de tipul \"TestEvent\". Acum o să facem upload la un obiect în acest bucket și o să verificăm dacă se trimite acest event către acest queue."
   ]
  },
  {
   "cell_type": "markdown",
   "metadata": {},
   "source": [
    "<img src=\"../ss/aws-data-engineer-section-03/section-03-ss-22.png\">"
   ]
  },
  {
   "cell_type": "markdown",
   "metadata": {},
   "source": [
    "După ce am făcut upload la obiect în noul bucket, dacă mergem la Queue-ul respectiv în secțiunea de \"Send and recieve message\", \"Pool for messages\" putem observa acuma că avem două mesaje. Cel de al doilea mesaj este un event de tipul \"ObjectCreated:Put\". Mai jos, în detaliile acestui event se poate observa și numele obiectului care a fost adăugat, \"coffee.jpg\""
   ]
  },
  {
   "cell_type": "markdown",
   "metadata": {},
   "source": []
  }
 ],
 "metadata": {
  "language_info": {
   "name": "python"
  }
 },
 "nbformat": 4,
 "nbformat_minor": 2
}
