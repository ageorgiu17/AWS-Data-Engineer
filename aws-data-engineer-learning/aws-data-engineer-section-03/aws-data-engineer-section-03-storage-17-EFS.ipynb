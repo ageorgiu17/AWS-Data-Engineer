{
 "cells": [
  {
   "cell_type": "markdown",
   "metadata": {},
   "source": [
    "# Amazon EFS - Elastic File System"
   ]
  },
  {
   "cell_type": "markdown",
   "metadata": {},
   "source": [
    "EFS reprezintă un Managed NFS (network file system) care poate fi adăugat la mai multe instanțe de EC2. Acest sistem nu este dependent de availability zone, iar de asemenea este foarte scalabil, are o disponibilitate foarte mare, dar cu aceste beneficii vine și un cost mai mare (undeva de 3 ori mai mare decât gp2). Acest sistem fiind scalat automat, nu trebuie să stabilim dinainte de ce capacitate avem nevoie pentru el.\n",
    "\n",
    "Având mai multe avantaje, există și mai multe opțiuni dintre care să alegem (în ceea ce privește partea de performanță și de storage) atunci când creem un astfel de serviciu de EFS."
   ]
  }
 ],
 "metadata": {
  "language_info": {
   "name": "python"
  }
 },
 "nbformat": 4,
 "nbformat_minor": 2
}
