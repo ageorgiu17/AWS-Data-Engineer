{
 "cells": [
  {
   "cell_type": "markdown",
   "metadata": {},
   "source": [
    "# Amazon S3 replication"
   ]
  },
  {
   "cell_type": "markdown",
   "metadata": {},
   "source": [
    "Replicarea înseamnă, după cum îi și spune numele, replicarea datelor de pe un bucket în alt bucket. Există două tipuri de replicare în Amazon S3\n",
    "\n",
    "- CRR = Cross Region Replication\n",
    "\n",
    "- SRR = Same Region Replication"
   ]
  },
  {
   "cell_type": "markdown",
   "metadata": {},
   "source": [
    "Avem cazul în care există un bucket într-o anumită regiune și alt bucket în altă regiune. Între aceste două buckets dorim să realizăm replicarea asincron (asynchronous replication). Ca să putem realiza acest lucru, primul pas pe care trebuie să îl facem este să facem enable la opțiunea de versionare atât în bucket-ul sursă, cât și în bucket-ul destinație. În cazul de față, bucket-urile fiind în regiuni diferite există o replicare CRR (Cross Region Replication). Copierea asincron se realizează automat de către Amazon, nu trebuie să ne ocupăm noi de asta. Din moment ce am specificat opțiunile pentru replicare, acest lucru se realizează automat. Ca acest procedeu să funcționeze, trebuie să oferim permisiunile IAM necesare pentru S3 ca să poată citi și scrie din aceste buckets"
   ]
  },
  {
   "cell_type": "markdown",
   "metadata": {},
   "source": [
    "Care ar fi cazurile în care se realizează acest tip de replicare:\n",
    "\n",
    "- CRR = replicare pe mai multe conturi, compilare mai rapidă, acces cu timp scăzut\n",
    "\n",
    "- SRR = agregare de loguri, replicare live între conturi de producție și de test"
   ]
  },
  {
   "cell_type": "markdown",
   "metadata": {},
   "source": [
    "Atunci când se activează opțiunea de replicare, doar pentru obiectele care sunt adăugate după o să se realizeze acest procedeu de replicare. Opțional, dacă dorim replicarea și pentru obiectele care deja există trebuie aleasă opțiunea de \"S3 Batch Replication\"."
   ]
  },
  {
   "cell_type": "markdown",
   "metadata": {},
   "source": [
    "Între replicare nu există conceptul de \"înlănțuire\". Dacă avem o replicare în bucket 1 și bucket 2 (bucket1 «--» bucket2) și o replicare între bucket2 și bucket3 (bucket2 «--» bucket3) nu o să existe o replicare între bucket1 și bucket3 (bucket1 «-X-» bucket3)"
   ]
  },
  {
   "cell_type": "markdown",
   "metadata": {},
   "source": []
  }
 ],
 "metadata": {
  "language_info": {
   "name": "python"
  }
 },
 "nbformat": 4,
 "nbformat_minor": 2
}
