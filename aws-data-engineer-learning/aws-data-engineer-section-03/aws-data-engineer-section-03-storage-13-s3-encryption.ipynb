{
 "cells": [
  {
   "cell_type": "markdown",
   "metadata": {},
   "source": [
    "# Amazon S3 Object Encryption"
   ]
  },
  {
   "cell_type": "markdown",
   "metadata": {},
   "source": [
    "În Amzon S3 există 4 variante prin care putem encripta obiectele respective.\n",
    "\n",
    "1. Server-Side Encryption (SSE)\n",
    "\n",
    "    - Server-Side Encryption with Amazon S3-Managed Keys (SSE-S3) - vine default pentru buckets\n",
    "\n",
    "        - Encriptează obiecte utilizând key de encriptare deținute de către AWS\n",
    "\n",
    "    - Server-Side Encryption with KMS Keys stored in AWS KMS (SSE-KMS)\n",
    "\n",
    "        - Pune accent pe serviciul de AWS Key Management Serice (AWS KMS) pentru a manageria cheile de encriptare\n",
    "\n",
    "    - Server-Side Encryption with Customer-Provided Keys (SSE-C)\n",
    "\n",
    "        - Atunci când dorim să ne manageriem propriile chei de ecnriptare\n",
    "\n",
    "2. Client-Side Encryption"
   ]
  },
  {
   "cell_type": "markdown",
   "metadata": {},
   "source": [
    "Este foarte important să înțelegem care dintre ele se aplică pentru ce examen."
   ]
  },
  {
   "cell_type": "markdown",
   "metadata": {},
   "source": [
    "### Amazon S3 Encryption - SSE-S3"
   ]
  },
  {
   "cell_type": "markdown",
   "metadata": {},
   "source": [
    "Acest procedeu de encriptare folosește o cheie care este manageriată de către AWS, utilizatorul neavând acces la această cheie. Obiectele sunt encriptate \"server-side\", iar tipul de encriptare este \"AES-256\". Atunci când dorim să encriptăm un obiect trebuie să oferim ca și header următoarele informații\n",
    "\n",
    "\"x-amz-server-side-encryption\":\"AES256\"\n",
    "\n",
    "Această encriptare este activată în mod default pentru buckets și obiecte noi în S3."
   ]
  },
  {
   "cell_type": "markdown",
   "metadata": {},
   "source": [
    "### Amazon S3 Encryption - SSE-KSM"
   ]
  },
  {
   "cell_type": "markdown",
   "metadata": {},
   "source": [
    "Acest tip de encriptare se folosește atunci când nu dorim ca managementul de chei să fie automat de către S3, ci atunci când dorim să ne manageriem proprii cheile de encriptare folosind serviciul de Amazon Key Management Service (KMS). Avantajul pentru acest tip de encriptare este faptul că user-ul are un anumit control asupra acestor key, iar pe lângă asta, atunci când se folosește o anumită cheie, logurile folosirii cheii sunt stocate în CloudTrial. \n",
    "\n",
    "Encriptare se face \"server-side\", iar ca și header trebuie să oferim următorul argument:\n",
    "\n",
    "\"x-amz-server-side-encryption\":\"aws:kms\"\n",
    "\n",
    "Ca și limitare folosind SSE-KMS, de fiecare dată când se face upload și download la un fișier și se folosește acest tip de encryptare, la fiecare request să face un request separat către AWS KMS. Aceste requesturi sunt limitate între 5500 și 30.000 de requesturi pe secundă, depinzând de regiunea în care se află serviciul de KMS.\n",
    "\n",
    "Atunci când avem un bucket care utilizează multe requesturi de tip POST sau GET, iar acele obiecte sunt encriptate folosind acest tip de encriptare, atunci posibil să ajungem la acea limită de requesturi către serviciul de KMS."
   ]
  },
  {
   "cell_type": "markdown",
   "metadata": {},
   "source": [
    "### Amazon S3 Encryption - SSE-C"
   ]
  },
  {
   "cell_type": "markdown",
   "metadata": {},
   "source": [
    "Acest tip de encryptare folosește chei care sunt manageriate de către utilizator în afara AWS. Atunci când utilizăm acest tip de encriptare este tot de tipul \"server-side\" deoarece trebuie să oferim această cheie de encriptare către AWS. Totuși, Amazon nu o să stocheze această cheie.\n",
    "\n",
    "Când folosim acest tip de encriptare trebuie să facem requesturi de tip HTTPS, iar în cadrul acestor requesturi trebuie să oferim cheia de encriptare (la fiecare HTTPS request făcut)"
   ]
  },
  {
   "cell_type": "markdown",
   "metadata": {},
   "source": [
    "### Amazon S3 Encryption - Client-Side Encryption"
   ]
  },
  {
   "cell_type": "markdown",
   "metadata": {},
   "source": [
    "Acest tip de encriptare se folosește de librării precum Amazon S3 Client-Side Encryption. Encriptarea trebuie realizată de către clienți înainte de a trimite datele către S3. De asemenea, atunci când se descară datele, decriptare trebuie să fie realizată tot de către client."
   ]
  },
  {
   "cell_type": "markdown",
   "metadata": {},
   "source": [
    "### Amazon S3 - Encryption in Transit (SSL/TLS)"
   ]
  },
  {
   "cell_type": "markdown",
   "metadata": {},
   "source": [
    "Acest tip de encriptare poartă denumirea de SSL sau TLS. Un bucket de S3 dispune de două endpoint-uri:\n",
    "\n",
    "- HTTP Endpoint - nu este encriptat\n",
    "\n",
    "- HTTPS Endpoint - este encriptat folosit Encryption in transit (S-ul provine de la Secure)"
   ]
  },
  {
   "cell_type": "markdown",
   "metadata": {},
   "source": []
  }
 ],
 "metadata": {
  "language_info": {
   "name": "python"
  }
 },
 "nbformat": 4,
 "nbformat_minor": 2
}
