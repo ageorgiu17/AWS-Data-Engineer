{
 "cells": [
  {
   "cell_type": "markdown",
   "metadata": {},
   "source": [
    "# Amazon S3"
   ]
  },
  {
   "cell_type": "markdown",
   "metadata": {},
   "source": [
    "În cadrul acestei secțiuni despre Storage din Amazon, cea mai mare parte a acesteia o să fie despre Amazon S3. Amazon S3 reprezintă una dintre cele mai importante și utilizate servicii din AWS. Acest serviciu este descris ca fiind un serviciu de stocare infinit (infinitelty scaling service).\n",
    "\n",
    "O parte considerabilă din ceea ce reprezintă WEB-ul are în spate serviciul de Amazon S3. Ca și utilizare, putem enumera:\n",
    "\n",
    "1. Backup și storage\n",
    "\n",
    "2. Disaster recovery\n",
    "\n",
    "3. Archive\n",
    "\n",
    "4. Hybrid Cloud Storage (atunci când există storage on-premise dar dorim să facem o exapansiune și în Cloud)\n",
    "\n",
    "5. Application hosting\n",
    "\n",
    "6. Media hosting (stocare de imagini, fișiere audio și video)\n",
    "\n",
    "7. Data Lake\n",
    "\n",
    "8. Software updates\n",
    "\n"
   ]
  },
  {
   "cell_type": "markdown",
   "metadata": {},
   "source": [
    "Amazon S3 stochează datele în ceea ce portă denumirea de \"buckets\". Un bucket poate fi văzut ca și un director top level, iar fișierele din  buckets poartă denumirea de obiecte. Aceste buckets trebuie să aibă un nume global unic (în totalitatea regiunilor și conturilor). Deși aceste buckets trebuie să aibă denumir specifice la nivel global, acesta este un serviciu bazat pe regiune. Atunci când ne creem un Bucket în S3, deși numele trebuie să fie unic global, trebuie să specificăm în ce regiune o să creem acest bucket."
   ]
  },
  {
   "cell_type": "markdown",
   "metadata": {},
   "source": [
    "În ceea ce privește denumirea unui bucket, această denumire trebuie să se încadreze în anumite convenții\n",
    "\n",
    "- numele nu trebuie să conțină caractere mari (uppercase) sau underscore (_)\n",
    "\n",
    "- trebuie să fie cuprins între 3-63 caractere\n",
    "\n",
    "- nu trebuie să fie o denumire de IP\n",
    "\n",
    "- trebuie să înceapă cu o literă mică sau un număr\n",
    "\n",
    "- nu trebuie să înceapă cu prefixul \"xn--\"\n",
    "\n",
    "- nu trebuie să se încheie cu prefixul \"-s3alias\""
   ]
  },
  {
   "cell_type": "markdown",
   "metadata": {},
   "source": [
    "După cum spuneam, fișierel din buckets poartă denumirea de obiecte (objects). Aceste obiecte au un Key unic. Acest key este reprezentat de către full path-ul din S3 pe care îl au. "
   ]
  },
  {
   "cell_type": "markdown",
   "metadata": {},
   "source": [
    "Fiecare path de bucket din Amazon S3 începe cu prefixul \"s3://\". După acest prefix vine numele bucket-ului. O să luăm un exemplu în care o să ne creem un bucket pe care o să îl denumim \"andreig-aws-data-engineer-bucket\". În cadrul acestui bucket o să adăugăm un fișier (un obiect) denumit \"my_file.txt\". La final o să avem următoarea cale (path) către obiectul respectiv"
   ]
  },
  {
   "cell_type": "markdown",
   "metadata": {},
   "source": [
    "\"s3://andreig-aws-data-engineer-bucket/my_file.txt\""
   ]
  },
  {
   "cell_type": "markdown",
   "metadata": {},
   "source": [
    "Calea de mai sus reprezintă acel key (identificatorul obiectului respectiv). Dacă dorim, în cadrul acestui bucket putem să ne creem și alte directoare și să avem o structură mai complexă. O structură mai complexă presupune și un Key mai complex către obiectele din cadrul acelui bucket."
   ]
  },
  {
   "cell_type": "markdown",
   "metadata": {},
   "source": [
    "\"s3://andreig-aws-data-engineer-bucket/my_folder/another_folder/my_file.txt\"  --> un alt path către un obiect dintr-un bucket"
   ]
  },
  {
   "cell_type": "markdown",
   "metadata": {},
   "source": [
    "Ce anume este un obiecte din S3?"
   ]
  },
  {
   "cell_type": "markdown",
   "metadata": {},
   "source": [
    "\"Objects value are the content of the body\". În S3 putem să facem upload la aproape orice tip de fișiere. Dimensiunea maximă pentru un fișier la care se poate face upload este de 5 TB (5000 GB). Dacă avem un fișier care are o dimensiune mai mare de 5TB, atunci putem să ne folosim de \"multi-part upload\" ca să facem upload la un fișier mare în mai multe părți.\n",
    "\n",
    "Obiectele respectie mai au și partea de \"metadata\" (care după nume, reprezintă metadate despre acel obiect, metadate de tipu lkey-value). Acestea pot fi de trecute fie de către siste, fie de către user. Pentru fiecare obiect din buckets putem să îi adăugăm și anumite tag-uri, tag-uri care de multe ori ajută la partea de security sau lifecycle"
   ]
  },
  {
   "cell_type": "markdown",
   "metadata": {},
   "source": [
    "Există și o opțiune de versionare prin care un anumit obiect poate să aibă mai multe versiuni (asta dacă se face enable la această opțiune atunci când se creează câte un bucket)"
   ]
  },
  {
   "cell_type": "markdown",
   "metadata": {},
   "source": []
  }
 ],
 "metadata": {
  "language_info": {
   "name": "python"
  }
 },
 "nbformat": 4,
 "nbformat_minor": 2
}
