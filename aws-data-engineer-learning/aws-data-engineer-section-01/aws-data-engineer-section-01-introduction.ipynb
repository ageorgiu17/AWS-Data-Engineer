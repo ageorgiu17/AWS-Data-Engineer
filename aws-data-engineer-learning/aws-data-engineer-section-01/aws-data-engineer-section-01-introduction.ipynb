{
 "cells": [
  {
   "cell_type": "markdown",
   "metadata": {},
   "source": [
    "# AWS Data Engineer"
   ]
  },
  {
   "cell_type": "markdown",
   "metadata": {},
   "source": [
    "În cadrul acestui curs o să învățăm serviciile din Amazon AWS care ne pot ajuta la partea de Data Engineer. Să aruncăm o privire peste serviciile peste care o să ne uităm în acest curs:"
   ]
  },
  {
   "cell_type": "markdown",
   "metadata": {},
   "source": [
    "### Analytics"
   ]
  },
  {
   "cell_type": "markdown",
   "metadata": {},
   "source": [
    "1. Amazon EMR (Elastic Map Reduce) = folosit pentru partea de procesare a datelor\n",
    "\n",
    "2. AWS Lake Formation = arhitectura și siguranța pipeline-urilor\n",
    "\n",
    "3. Amazon Redshift\n",
    "\n",
    "4. Amazon Kinesis = streaming de date\n",
    "\n",
    "5. Amazon Managed Streaming for Apache Kafka = streaming de date\n",
    "\n",
    "6. AWS Glue = procese de ETL (extract-transform-load) și mutare de date\n",
    "\n",
    "7. Amazon OpenSearch Service\n",
    "\n",
    "8. Amazon QuickSight = pentru vizualizarea datelor\n",
    "\n",
    "9. Amazon Athena = query în timp real a datelor din data lake"
   ]
  },
  {
   "cell_type": "markdown",
   "metadata": {},
   "source": [
    "### App Integration"
   ]
  },
  {
   "cell_type": "markdown",
   "metadata": {},
   "source": [
    "1. Amazon Event Bridge\n",
    "\n",
    "2. AWS Step Function\n",
    "\n",
    "3. Amazon AppFlow\n",
    "\n",
    "4. Amazon Simple Notification Service (Amazon SNS)\n",
    "\n",
    "5. Amazon Simple Queue Service (Amazon SQS)\n",
    "\n",
    "6. Amazon Managed Workflow for Apache Airflow"
   ]
  },
  {
   "cell_type": "markdown",
   "metadata": {},
   "source": [
    "Serviciile de mai sus se ocupă de partea de legături între servicii pentru a crea pipeline-uri mari"
   ]
  },
  {
   "cell_type": "markdown",
   "metadata": {},
   "source": [
    "### Cloud Financial Management"
   ]
  },
  {
   "cell_type": "markdown",
   "metadata": {},
   "source": [
    "1. AWS Budgets\n",
    "\n",
    "2. AWS Cost Explorer"
   ]
  },
  {
   "cell_type": "markdown",
   "metadata": {},
   "source": [
    "### Compute"
   ]
  },
  {
   "cell_type": "markdown",
   "metadata": {},
   "source": [
    "1. AWS Batch\n",
    "\n",
    "2. Amazon Elastic Compute Cloud (EC2)\n",
    "\n",
    "3. AWS Lambda\n",
    "\n",
    "4. AWS Serverless Application Repository\n",
    "\n",
    "Acestea sunt servicii prin care se realizează partea de computații, de rulare de cod. În funcție de resursele de care avem nevoie ne alegem un anumit serviciu"
   ]
  },
  {
   "cell_type": "markdown",
   "metadata": {},
   "source": [
    "### Containers\n"
   ]
  },
  {
   "cell_type": "markdown",
   "metadata": {},
   "source": [
    "1. Amazon Elastic Container Registry (Amazon ECR)\n",
    "\n",
    "2. Amazon Elastic Container Service (Amazon ECS)\n",
    "\n",
    "3. Amazon Elastic Kubernetes Service (EKS)"
   ]
  },
  {
   "cell_type": "markdown",
   "metadata": {},
   "source": [
    "### Database"
   ]
  },
  {
   "cell_type": "markdown",
   "metadata": {},
   "source": [
    "1. Amazon DocumentDB (with MongoDB Compatibility)\n",
    "\n",
    "2. Amazon DynamoDB\n",
    "\n",
    "3. Amazon Keyspaces (for Apache Cassandra)\n",
    "\n",
    "4. Amazon MemoryDB for Redis\n",
    "\n",
    "5. Amazon Neptune\n",
    "\n",
    "6. Amazon Relational Database Service (Amazon RDS)"
   ]
  },
  {
   "cell_type": "markdown",
   "metadata": {},
   "source": [
    "În bazele de date o să ne stocăm informațiile. Avem la dispoziție mai multe tipuri de date de unse să alegem, baze de date relaționale (RDS), NoSQL (DynamoDB)"
   ]
  },
  {
   "cell_type": "markdown",
   "metadata": {},
   "source": [
    "### Developers Tools"
   ]
  },
  {
   "cell_type": "markdown",
   "metadata": {},
   "source": [
    "1. AWS Command Line Interface (AWS CLI)\n",
    "\n",
    "2. AWS Cloud9\n",
    "\n",
    "3. AWS Cloud Development Kit (AWS CDK)\n",
    "\n",
    "4. AWS CodeBuilt\n",
    "\n",
    "5. AWS CodeCommit\n",
    "\n",
    "6. AWS CodeDeploy\n",
    "\n",
    "7. AWS CodePipeline"
   ]
  },
  {
   "cell_type": "markdown",
   "metadata": {},
   "source": [
    "### Management and Governance"
   ]
  },
  {
   "cell_type": "markdown",
   "metadata": {},
   "source": [
    "1. AWS CLoudFormation\n",
    "\n",
    "2. AWS CloudTrail\n",
    "\n",
    "3. Amazon CloudWatch\n",
    "\n",
    "4. AWS Config\n",
    "\n",
    "5. Amazon Managed Grafana\n",
    "\n",
    "6. AWS System Manager\n",
    "\n",
    "7. AWS Well-Architected Tool"
   ]
  },
  {
   "cell_type": "markdown",
   "metadata": {},
   "source": [
    "### Migration and Transfer"
   ]
  },
  {
   "cell_type": "markdown",
   "metadata": {},
   "source": [
    "1. AWS Application Discovery Service\n",
    "\n",
    "2. AWS Application Migration Service\n",
    "\n",
    "3. AWS Database Migration Service (AWS DMS)\n",
    "\n",
    "4. AWS DataSync\n",
    "\n",
    "5. AWS Transfer Family\n",
    "\n",
    "6. AWS Snow Family"
   ]
  },
  {
   "cell_type": "markdown",
   "metadata": {},
   "source": [
    "Serviciile de mai sus sunt utilizate pentru a transfera date din punctul A în punctul B, procedeu des utilizat în Data Engineer"
   ]
  },
  {
   "cell_type": "markdown",
   "metadata": {},
   "source": [
    "### Networking and Content Delivery"
   ]
  },
  {
   "cell_type": "markdown",
   "metadata": {},
   "source": [
    "1. Amazon CloudFront\n",
    "\n",
    "2. AWS PrivateLink\n",
    "\n",
    "3. Amazon Route 53\n",
    "\n",
    "4. Amazon Virtual Private Cloud (Amazon VPC)"
   ]
  },
  {
   "cell_type": "markdown",
   "metadata": {},
   "source": [
    "### Security, Identity and Compilance"
   ]
  },
  {
   "cell_type": "markdown",
   "metadata": {},
   "source": [
    "1. AWS Identity and Access Management (IAM)\n",
    "\n",
    "2. AWS Key Management Service (AWS KMS)\n",
    "\n",
    "3. Amazon Macie\n",
    "\n",
    "4. AWS Secret Manager\n",
    "\n",
    "5. AWS Shield\n",
    "\n",
    "6. AWS WAF"
   ]
  },
  {
   "cell_type": "markdown",
   "metadata": {},
   "source": [
    "### Storage"
   ]
  },
  {
   "cell_type": "markdown",
   "metadata": {},
   "source": [
    "1. AWS Backup\n",
    "\n",
    "2. Amazon Elastic Block Store (Amazon EBS)\n",
    "\n",
    "3. Amazon Elastic File System (Amazon EFS)\n",
    "\n",
    "4. Amazon Simple Storage Service (Amazon S3)"
   ]
  },
  {
   "cell_type": "markdown",
   "metadata": {},
   "source": [
    "Serviciile unde se stochează datele"
   ]
  },
  {
   "cell_type": "markdown",
   "metadata": {},
   "source": [
    "Aceste sunt serviciile peste care o să ne uităm în cadrul acestui curs. Este un număr mare de servicii deoarece cursul se bazează pe examenul de AWS Data Engineer unde se parcurg toate aceste servicii. O să ne concetrăm pe un anumit număr de servicii  care se folosesc cel mai des din AWS."
   ]
  },
  {
   "cell_type": "markdown",
   "metadata": {},
   "source": []
  }
 ],
 "metadata": {
  "language_info": {
   "name": "python"
  }
 },
 "nbformat": 4,
 "nbformat_minor": 2
}
