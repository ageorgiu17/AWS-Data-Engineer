{
 "cells": [
  {
   "cell_type": "markdown",
   "metadata": {},
   "source": [
    "# AWS SAM - Serverless Application Model"
   ]
  },
  {
   "cell_type": "markdown",
   "metadata": {},
   "source": [
    "AWS SAM este un serviciu din Amazon care regrupează toate serviciile de tip Serverless într-un singur loc pentru a le putea utiliza cât mai simplu. Acest serviciu se poate utiliza pentru a crea și a face deploy la aplicații Serverless. Toate aceste configurări o să fie realizate într-un fișier de tip YAML. Din acest fișier simplu de YAML o să se genereze CloudFormation complexe în AWS. Pentru a face deploy în AWS sunt necesare doar două comenzi. "
   ]
  }
 ],
 "metadata": {
  "language_info": {
   "name": "python"
  }
 },
 "nbformat": 4,
 "nbformat_minor": 2
}
