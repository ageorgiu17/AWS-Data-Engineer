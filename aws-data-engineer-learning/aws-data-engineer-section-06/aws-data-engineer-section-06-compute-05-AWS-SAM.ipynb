{
 "cells": [
  {
   "cell_type": "markdown",
   "metadata": {},
   "source": [
    "# AWS SAM - Serverless Application Model"
   ]
  },
  {
   "cell_type": "markdown",
   "metadata": {},
   "source": [
    "AWS SAM este un serviciu din Amazon care regrupează toate serviciile de tip Serverless într-un singur loc pentru a le putea utiliza cât mai simplu. Acest serviciu se poate utiliza pentru a crea și a face deploy la aplicații Serverless. Toate aceste configurări o să fie realizate într-un fișier de tip YAML. Din acest fișier simplu de YAML o să se genereze CloudFormation complexe în AWS. Pentru a face deploy în AWS sunt necesare doar două comenzi. "
   ]
  },
  {
   "cell_type": "markdown",
   "metadata": {},
   "source": [
    "Cum o să arate acel template de YAML pe care trebuie să îl creem? În partea de sus a fișierului are un template, acesta fiind:\n",
    "\n",
    "- Transform: 'AWS::Serverless-2016-10-31'"
   ]
  },
  {
   "cell_type": "markdown",
   "metadata": {},
   "source": [
    "Pentru partea de cod o să avem ceva de genul:\n",
    "\n",
    "- AWS::Serveless::Function (care o să fie o funcție Lambda)\n",
    "\n",
    "- AWS::Serverless::Api (API Gateway)\n",
    "\n",
    "- AWS::Serverless::SimpleTable (o bază de date DynamoDB)"
   ]
  },
  {
   "cell_type": "markdown",
   "metadata": {},
   "source": [
    "După ce am scris tot codul în template-ul de YAML putem să creem un packet pentru acest cod și după să îi facem un deploy. Ca să facem asta o să ne folosim de următoarele două comenzi:\n",
    "\n",
    "- aws cloudformation package / sam package\n",
    "\n",
    "- aws cloudformation deploy / sam deploy"
   ]
  },
  {
   "cell_type": "markdown",
   "metadata": {},
   "source": [
    "<img src=\"../ss/aws-data-engineer-section-06/section-06-ss-02.png\">"
   ]
  },
  {
   "cell_type": "markdown",
   "metadata": {},
   "source": [
    "Diagrama de mai sus reprezintă pașii pe care trebuie să îi urmăm atunci când ne construim o aplicație serverless utilizând SAM. Pentru început o să avem local codul aplicației și un template de yaml pentru acest cod. Acest template de YAML trebuie să îl transformăm într-un template de CloudFormation. Ca să facem asta o să utilizăm comanda 'sam build'. Acest lucru o s ne transforme fișierul YAML în format CloudFormation (tot de tip YAML). Următorul pas este să ne creem un pachet pentru tot acest cod utilizând comanda 'sam package'. Acest cod o să ne creeze un packet pentru toată aplicația (o să ne facă un zip peste aplicație) și o să facă upload în S3 la acest pachet. Din S3 putem să facem deploy la aplicație cu comanda 'sam deploy'"
   ]
  },
  {
   "cell_type": "markdown",
   "metadata": {},
   "source": []
  }
 ],
 "metadata": {
  "language_info": {
   "name": "python"
  }
 },
 "nbformat": 4,
 "nbformat_minor": 2
}
