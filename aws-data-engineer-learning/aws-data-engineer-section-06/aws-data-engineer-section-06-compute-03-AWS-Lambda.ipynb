{
 "cells": [
  {
   "cell_type": "markdown",
   "metadata": {},
   "source": [
    "# AWS Lambda"
   ]
  },
  {
   "cell_type": "markdown",
   "metadata": {},
   "source": [
    "AWS Lambda este un tool de procesare de tip \"serveless\". Lambda reprezintă o metodă prin care putem să rulăm anumit cod în cloud. Dacă avem un anumit cod (în orice limbaj de programare) și folosim Lambda, prin acest fel nu trebuie să ne ocupăm noi cu partea de server, pe ce servere să ruleze acest cod. Acest lucru este decis automat de către Amazon Lambda. Prin acest procedeu, acest cod pe care îl scriem în AWS Lambda se poate scala continuu fără să ne ocupăm noi de asta."
   ]
  },
  {
   "cell_type": "markdown",
   "metadata": {},
   "source": [
    "De cele mai multe ori în contextul de Big Data, acest serviciu este utilizat pentru a modifica datele atunci când acestea sunt mutate dintr-un serviciu în alt serviciu. Prin utilizarea acestui Lambda putem să conectăm mai multe servicii între ele, chiar dacă acele servicii nu sunt conectate direct între ele, prin Lambda putem să le interconectăm."
   ]
  },
  {
   "cell_type": "markdown",
   "metadata": {},
   "source": []
  }
 ],
 "metadata": {
  "language_info": {
   "name": "python"
  }
 },
 "nbformat": 4,
 "nbformat_minor": 2
}
