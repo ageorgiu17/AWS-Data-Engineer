{
 "cells": [
  {
   "cell_type": "markdown",
   "metadata": {},
   "source": [
    "# AWS Graviton"
   ]
  },
  {
   "cell_type": "markdown",
   "metadata": {},
   "source": [
    "AWS Graviton reprezintă un set de proesoare speciale de la Amazon, procesoare care propulsează și anumite instanțe de EC2. Aceste procesoare sunt de mai multe tipuri și sunt optimizate pentru workload-uri diferite precum:\n",
    "\n",
    "- General purpose (M7, T4)\n",
    "\n",
    "- Compute optimize (C7, C6)\n",
    "\n",
    "- Memory Optimized (R7, X2)\n",
    "\n",
    "- Storage optimized (lm5, ls4)\n",
    "\n",
    "- Accelerated computing (game streaming, ML interface) (G5)"
   ]
  },
  {
   "cell_type": "markdown",
   "metadata": {},
   "source": [
    "Aceste tipuri de procesoare oferă cel mai bun raport preț-preformanță, dar din moment ce perfomanța este una foarte bună, prețul o să fie și el pe măsură. Rularea acestor tipuri de procesoare poate necesita și instalarea de software adițional pentru a putea rula. Există și anumite servicii din AWS pentru Data Engineer care pot rula nativ acest tip de procesoare, servicii precum MSK, clustere de EMR, MemoryDB, Lambda, Fargate, ElasticCahce, OpenSearch"
   ]
  },
  {
   "cell_type": "markdown",
   "metadata": {},
   "source": []
  }
 ],
 "metadata": {
  "language_info": {
   "name": "python"
  }
 },
 "nbformat": 4,
 "nbformat_minor": 2
}
