{
 "cells": [
  {
   "cell_type": "markdown",
   "metadata": {},
   "source": [
    "# AWS Lambda Integration"
   ]
  },
  {
   "cell_type": "markdown",
   "metadata": {},
   "source": [
    "De ce să folosim partea de rulare de cod \"serverlesss\"? De ce să nu rulăm codul direct pe anumite servere? Ideea din AWS Lambda este că și acest serviciu folosește servere în spate pe care să ruleze acest cod, dar aceste  servere nu sunt manageriate de către noi, ci sunt în totalitate manageriate de către Amazon. Ceea pe noi, pe dezvoltatori ne scutește de un lucru extrem de mare."
   ]
  },
  {
   "cell_type": "markdown",
   "metadata": {},
   "source": [
    "Prețul pentru anumite servere poate fi întradevăr unul destul de mic, partea de scalare a acestor servere este ceea ce duce la un preț mai mare. Pe lângă asta, dacă avem anumite funcții care rulaeză doar la un anumit moment dat din timp, dacă folosim servere on-premise trebuie să avem acele servere up and runing tot timpul, chiar dacă funcția respectivă nu rulează tot timpul. Pentru AWS Lambda se plătește doar pentru secundele în care această funcție rulează."
   ]
  },
  {
   "cell_type": "markdown",
   "metadata": {},
   "source": [
    "Pentru partea de use cases, putem utiliza AWS Lambda ca să procesăm datele atunci când acestea ajung în AWS. De asemenea se poate utiliza și pentru partea de procesare în timp real de streams sau chiar pentru a scrie întregi pipeline-uri de ETL. De asemenea, putem să avem un trigger la o funcție lambda și un cron schedule, adică putem seta un timp în care să ruleze acea funcție (odată pe săptămână, o dată pe zi, în fiecare oră, etc). Ca și limbaje de programare putem enumera Java, Python, Ruby, GO, PowerShell, Node.js, C#. Fiind limbaj de programare, efectiv se poate realiza orice utilizând acest funcții AWS Lambda."
   ]
  },
  {
   "cell_type": "markdown",
   "metadata": {},
   "source": [
    "Există o mulțime de servicii din AWS care pot să facă triggere la funcții Lambda. Serviciile respective sunt:\n",
    "\n",
    "- Amazon S3\n",
    "\n",
    "- Amazon Simple Email Service\n",
    "\n",
    "- Amazon Kinesis Data Firehouse\n",
    "\n",
    "- Amazon Kinesis Data Stream\n",
    "\n",
    "- Amazon DynamoDB\n",
    "\n",
    "- Amazon SNS\n",
    "\n",
    "- Amazon SQS\n",
    "\n",
    "- AWS Config\n",
    "\n",
    "- AWS IoT Button\n",
    "\n",
    "- Amazon Lex\n",
    "\n",
    "- Amazon Cloud Watch\n",
    "\n",
    "- AWS Cloud Formation\n",
    "\n",
    "- Amazon API Gateway\n",
    "\n",
    "- Amazon CloudFront\n",
    "\n",
    "- Amazon Cognito\n",
    "\n",
    "- AWS CodeCommit"
   ]
  },
  {
   "cell_type": "markdown",
   "metadata": {},
   "source": [
    "#### AWS Lambda and Amazon Redshift"
   ]
  },
  {
   "cell_type": "markdown",
   "metadata": {},
   "source": [
    "O metodă prin care putem intgra aceste servicii din Amazon. Știm că este indicat să folosim comanda de COPY atunci când copiem anumite date din locații externe în Redshift, dar poate dorim să stocăm anumite informații despre obiectele care sunt create și data la care au apărut aceste obiecte"
   ]
  },
  {
   "cell_type": "markdown",
   "metadata": {},
   "source": [
    "<img src=\"../ss/aws-data-engineer-section-06/section-06-ss-01.png\">"
   ]
  },
  {
   "cell_type": "markdown",
   "metadata": {},
   "source": [
    "În imaginea de mai sus avem un exemplu. Avem date care sunt introduse automat în S3. De fiecare dacă când se creează un anumit obiect în S3, putem să facem trigger la o funcție Lambda. Funcția respectivă preia informația cu crearea obiectului, parsează aceste date și le introduce mai departe în DynamoBD (unde putem să facem un tracking la datele respective). Datele sunt copiate în DynamoDB pentru a putea ține o înregistrare a datelor. Atunci când se copiază ceva date din S3 în Redshift utilizând Lambda, Lambda fiind serverless, această funcție nu stochează informații despre rulările anterioare, din acest motiv nu știe pe unde a rămas cu copiatul datelor. Aici intervine serviciul de DynamoDB și de aceea este inclus în acest exemplu. Utilizând DynamoDB putem să ținem o evidență a fișierelor care au fost copiate"
   ]
  },
  {
   "cell_type": "markdown",
   "metadata": {},
   "source": []
  }
 ],
 "metadata": {
  "language_info": {
   "name": "python"
  }
 },
 "nbformat": 4,
 "nbformat_minor": 2
}
