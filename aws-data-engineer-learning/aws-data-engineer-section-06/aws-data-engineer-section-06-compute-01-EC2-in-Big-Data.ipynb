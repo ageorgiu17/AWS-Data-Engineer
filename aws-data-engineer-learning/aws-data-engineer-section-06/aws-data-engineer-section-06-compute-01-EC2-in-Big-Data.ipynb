{
 "cells": [
  {
   "cell_type": "markdown",
   "metadata": {},
   "source": [
    "# EC2 in Big Data"
   ]
  },
  {
   "cell_type": "markdown",
   "metadata": {},
   "source": [
    "Până în acest moment a existat un serviciu de Amazon pe care l-am tot utilizat și nu am știu faptul că utilizăm acest serviciu, și anume instanțele de EC2 din AWS. Există mai multe tipuri de instanțe EC2. Acestea sunt:\n",
    "\n",
    "- Spot instance\n",
    "\n",
    "- On-demand instance\n",
    "\n",
    "- Reserved instance"
   ]
  },
  {
   "cell_type": "markdown",
   "metadata": {},
   "source": [
    "##### Spot instance"
   ]
  },
  {
   "cell_type": "markdown",
   "metadata": {},
   "source": [
    "Reprezintă o instanță foarte ieftină, dar AWS poate să ia acea instanță de la noi și să o dea mai departe către alt utilizator. Această instanță de tipul 'spot' este o instanță din AWS care nu este folosită momentan de niciun utilizator. În momentul în care aceste instanțe sunt rezervate de către ceva utilizator, acestea o să fie aatribuite utilizatorului respectiv. Acestea sunt ieftine deoarece nu se știe atunci când este nevoie să fie date mai departe către alți utilizatori."
   ]
  },
  {
   "cell_type": "markdown",
   "metadata": {},
   "source": [
    "De obicei, aceste instanțe sunt utilizate pe zona de Machine Learning. Atunci când utilizăm astfel de instanțe este recomandat să avem un checkpoint prin care să verificăm dacă avem la dispoziție resursele necesare de EC2."
   ]
  },
  {
   "cell_type": "markdown",
   "metadata": {},
   "source": [
    "##### Reserved instances"
   ]
  },
  {
   "cell_type": "markdown",
   "metadata": {},
   "source": [
    "Dacă avem o bază de date care știm că trebuie să ruleze destul de mult (pe perioade de ani), putem să rezervăm instanțe de EC2 pe o perioadă determinată (ani), iar prin acest lucru știm că aceste instanțe ne sunt rezervate nouă iar prețul pentru acestea o să fie mai mic din moment ce le rezervăm pe o perioadă mai lungă de timp."
   ]
  },
  {
   "cell_type": "markdown",
   "metadata": {},
   "source": [
    "##### On-demand"
   ]
  },
  {
   "cell_type": "markdown",
   "metadata": {},
   "source": [
    "Aceste tipuri de instanțe sunt pentru restul de workload care rămâne."
   ]
  },
  {
   "cell_type": "markdown",
   "metadata": {},
   "source": [
    "Partea de auto-scaling poate să fie folosită pentru clustere de EMR sau alte servicii. "
   ]
  },
  {
   "cell_type": "markdown",
   "metadata": {},
   "source": []
  }
 ],
 "metadata": {
  "language_info": {
   "name": "python"
  }
 },
 "nbformat": 4,
 "nbformat_minor": 2
}
